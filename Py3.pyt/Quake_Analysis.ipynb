{
  "nbformat": 4,
  "nbformat_minor": 0,
  "metadata": {
    "colab": {
      "name": "Quake Analysis.ipynb",
      "provenance": [],
      "collapsed_sections": []
    },
    "kernelspec": {
      "name": "python3",
      "display_name": "Python 3"
    }
  },
  "cells": [
    {
      "cell_type": "markdown",
      "metadata": {
        "id": "QIAPTq4hBevE",
        "colab_type": "text"
      },
      "source": [
        "# Quake Data Analysis\n",
        "This notebook will allow me to take a look at the data, and figure out some inputs for plot.ly dash."
      ]
    },
    {
      "cell_type": "code",
      "metadata": {
        "id": "TSlrvqrvBO4q",
        "colab_type": "code",
        "colab": {}
      },
      "source": [
        "import pandas as pd\n",
        "import numpy as np"
      ],
      "execution_count": 0,
      "outputs": []
    },
    {
      "cell_type": "code",
      "metadata": {
        "id": "ha_ZNG_CBZ5Y",
        "colab_type": "code",
        "colab": {}
      },
      "source": [
        "df = pd.read_csv(\"https://opendata.socrata.com/api/views/77jn-2ym9/rows.csv\")\n",
        "df = df.dropna()\n",
        "df = df.drop(columns=\"updated\")\n",
        "df = df.drop(columns=\"id\")\n",
        "df = df.drop(columns=\"Location 1\")\n",
        "df['State'] = df['place'].str.split(',').str[1]\n",
        "df = df.drop(columns=\"place\")\n",
        "df = df.drop(columns=\"time\")"
      ],
      "execution_count": 0,
      "outputs": []
    },
    {
      "cell_type": "code",
      "metadata": {
        "id": "_ofonR8bBrWN",
        "colab_type": "code",
        "colab": {
          "base_uri": "https://localhost:8080/",
          "height": 204
        },
        "outputId": "a143fdb9-872b-4769-a63e-93e9d374c134"
      },
      "source": [
        "df.head(5)"
      ],
      "execution_count": 28,
      "outputs": [
        {
          "output_type": "execute_result",
          "data": {
            "text/html": [
              "<div>\n",
              "<style scoped>\n",
              "    .dataframe tbody tr th:only-of-type {\n",
              "        vertical-align: middle;\n",
              "    }\n",
              "\n",
              "    .dataframe tbody tr th {\n",
              "        vertical-align: top;\n",
              "    }\n",
              "\n",
              "    .dataframe thead th {\n",
              "        text-align: right;\n",
              "    }\n",
              "</style>\n",
              "<table border=\"1\" class=\"dataframe\">\n",
              "  <thead>\n",
              "    <tr style=\"text-align: right;\">\n",
              "      <th></th>\n",
              "      <th>depth</th>\n",
              "      <th>mag</th>\n",
              "      <th>magType</th>\n",
              "      <th>nst</th>\n",
              "      <th>gap</th>\n",
              "      <th>dmin</th>\n",
              "      <th>rms</th>\n",
              "      <th>net</th>\n",
              "      <th>type</th>\n",
              "      <th>State</th>\n",
              "    </tr>\n",
              "  </thead>\n",
              "  <tbody>\n",
              "    <tr>\n",
              "      <th>0</th>\n",
              "      <td>0.85</td>\n",
              "      <td>1.50</td>\n",
              "      <td>md</td>\n",
              "      <td>8.0</td>\n",
              "      <td>144.0</td>\n",
              "      <td>0.02065</td>\n",
              "      <td>0.04</td>\n",
              "      <td>nc</td>\n",
              "      <td>earthquake</td>\n",
              "      <td>California</td>\n",
              "    </tr>\n",
              "    <tr>\n",
              "      <th>1</th>\n",
              "      <td>8.02</td>\n",
              "      <td>1.62</td>\n",
              "      <td>ml</td>\n",
              "      <td>69.0</td>\n",
              "      <td>26.0</td>\n",
              "      <td>0.04703</td>\n",
              "      <td>0.19</td>\n",
              "      <td>ci</td>\n",
              "      <td>earthquake</td>\n",
              "      <td>California</td>\n",
              "    </tr>\n",
              "    <tr>\n",
              "      <th>2</th>\n",
              "      <td>9.49</td>\n",
              "      <td>2.04</td>\n",
              "      <td>md</td>\n",
              "      <td>13.0</td>\n",
              "      <td>92.0</td>\n",
              "      <td>0.00605</td>\n",
              "      <td>0.08</td>\n",
              "      <td>nc</td>\n",
              "      <td>earthquake</td>\n",
              "      <td>California</td>\n",
              "    </tr>\n",
              "    <tr>\n",
              "      <th>4</th>\n",
              "      <td>2.12</td>\n",
              "      <td>1.34</td>\n",
              "      <td>ml</td>\n",
              "      <td>48.0</td>\n",
              "      <td>68.0</td>\n",
              "      <td>0.02128</td>\n",
              "      <td>0.18</td>\n",
              "      <td>ci</td>\n",
              "      <td>earthquake</td>\n",
              "      <td>California</td>\n",
              "    </tr>\n",
              "    <tr>\n",
              "      <th>6</th>\n",
              "      <td>13.53</td>\n",
              "      <td>0.46</td>\n",
              "      <td>ml</td>\n",
              "      <td>23.0</td>\n",
              "      <td>104.0</td>\n",
              "      <td>0.02490</td>\n",
              "      <td>0.11</td>\n",
              "      <td>ci</td>\n",
              "      <td>earthquake</td>\n",
              "      <td>California</td>\n",
              "    </tr>\n",
              "  </tbody>\n",
              "</table>\n",
              "</div>"
            ],
            "text/plain": [
              "   depth   mag magType   nst    gap     dmin   rms net        type        State\n",
              "0   0.85  1.50      md   8.0  144.0  0.02065  0.04  nc  earthquake   California\n",
              "1   8.02  1.62      ml  69.0   26.0  0.04703  0.19  ci  earthquake   California\n",
              "2   9.49  2.04      md  13.0   92.0  0.00605  0.08  nc  earthquake   California\n",
              "4   2.12  1.34      ml  48.0   68.0  0.02128  0.18  ci  earthquake   California\n",
              "6  13.53  0.46      ml  23.0  104.0  0.02490  0.11  ci  earthquake   California"
            ]
          },
          "metadata": {
            "tags": []
          },
          "execution_count": 28
        }
      ]
    },
    {
      "cell_type": "code",
      "metadata": {
        "id": "aruiN3erBtbB",
        "colab_type": "code",
        "colab": {
          "base_uri": "https://localhost:8080/",
          "height": 51
        },
        "outputId": "b8f8bb6f-7b19-4c4c-ffc4-4b9c8d3c1716"
      },
      "source": [
        "# we need to add a slider for depth, magnitude,\n",
        "# a combobox for magnitude type, net, and type\n",
        "# and sliders for nst, gap, dmin, and rms\n",
        "print(\"Magnitude Types for combobox:\",df.magType.unique())\n",
        "print(\"net cats:\",df.net.unique())"
      ],
      "execution_count": 29,
      "outputs": [
        {
          "output_type": "stream",
          "text": [
            "Magnitude Types for combobox: ['md' 'ml' 'Md' 'mw' 'mb' 'mh' 'Ml' 'Mb' 'mlg']\n",
            "net cats: ['nc' 'ci' 'hv' 'uw' 'pr' 'nn' 'mb' 'uu' 'nm' 'ismpkansas' 'ld' 'se']\n"
          ],
          "name": "stdout"
        }
      ]
    },
    {
      "cell_type": "code",
      "metadata": {
        "id": "LZ3Gjg2YCx18",
        "colab_type": "code",
        "colab": {
          "base_uri": "https://localhost:8080/",
          "height": 34
        },
        "outputId": "c267faec-c3b5-4bd5-b811-b8e6c2c5f5ee"
      },
      "source": [
        "print(\"Quake Types for combobox:\",df.type.unique())"
      ],
      "execution_count": 30,
      "outputs": [
        {
          "output_type": "stream",
          "text": [
            "Quake Types for combobox: ['earthquake' 'explosion' 'quarry blast' 'rockslide' 'chemical explosion']\n"
          ],
          "name": "stdout"
        }
      ]
    },
    {
      "cell_type": "code",
      "metadata": {
        "id": "-IbHO_2-C_8t",
        "colab_type": "code",
        "colab": {
          "base_uri": "https://localhost:8080/",
          "height": 34
        },
        "outputId": "ec1e5101-791e-42d9-b5ed-168b253c85da"
      },
      "source": [
        "print(\"rms min - max: \",df['rms'].min(),\" - \",df['rms'].max())"
      ],
      "execution_count": 31,
      "outputs": [
        {
          "output_type": "stream",
          "text": [
            "rms min - max:  0.0  -  1.04\n"
          ],
          "name": "stdout"
        }
      ]
    },
    {
      "cell_type": "code",
      "metadata": {
        "id": "Qi6sXLl9ELvJ",
        "colab_type": "code",
        "colab": {
          "base_uri": "https://localhost:8080/",
          "height": 34
        },
        "outputId": "faca1386-8adb-43ac-91f0-55914923173a"
      },
      "source": [
        "print(\"depth min - max: \",df['depth'].min(),\" - \",df['depth'].max())"
      ],
      "execution_count": 32,
      "outputs": [
        {
          "output_type": "stream",
          "text": [
            "depth min - max:  -3.39  -  211.0\n"
          ],
          "name": "stdout"
        }
      ]
    },
    {
      "cell_type": "code",
      "metadata": {
        "id": "PjDTuKO6DUqZ",
        "colab_type": "code",
        "colab": {
          "base_uri": "https://localhost:8080/",
          "height": 34
        },
        "outputId": "8dbddc13-987b-4c81-a001-addbed35dea1"
      },
      "source": [
        "print(\"mag min - max: \",df['mag'].min(),\" - \",df['mag'].max())"
      ],
      "execution_count": 33,
      "outputs": [
        {
          "output_type": "stream",
          "text": [
            "mag min - max:  -1.0  -  4.2\n"
          ],
          "name": "stdout"
        }
      ]
    },
    {
      "cell_type": "code",
      "metadata": {
        "id": "outielrgFA2H",
        "colab_type": "code",
        "colab": {
          "base_uri": "https://localhost:8080/",
          "height": 34
        },
        "outputId": "ef607ef8-ff5b-4310-9a9b-9baf99a4fb3e"
      },
      "source": [
        "print(\"gap min - max: \",df['gap'].min(),\" - \",df['gap'].max())"
      ],
      "execution_count": 34,
      "outputs": [
        {
          "output_type": "stream",
          "text": [
            "gap min - max:  12.0  -  356.4\n"
          ],
          "name": "stdout"
        }
      ]
    },
    {
      "cell_type": "code",
      "metadata": {
        "id": "as1Z0jteFM6h",
        "colab_type": "code",
        "colab": {
          "base_uri": "https://localhost:8080/",
          "height": 34
        },
        "outputId": "083a41de-be63-43d8-8d79-fbf2f4c4b508"
      },
      "source": [
        "print(\"dmin min - max: \",df['dmin'].min(),\" - \",df['dmin'].max())"
      ],
      "execution_count": 35,
      "outputs": [
        {
          "output_type": "stream",
          "text": [
            "dmin min - max:  0.00044889999999999996  -  2.1390000000000002\n"
          ],
          "name": "stdout"
        }
      ]
    },
    {
      "cell_type": "code",
      "metadata": {
        "id": "lOJvg3hOFStI",
        "colab_type": "code",
        "colab": {
          "base_uri": "https://localhost:8080/",
          "height": 34
        },
        "outputId": "7b203341-6a82-423a-ef2b-8bef7f58292a"
      },
      "source": [
        "print(\"nst min - max: \",df['nst'].min(),\" - \",df['nst'].max())"
      ],
      "execution_count": 36,
      "outputs": [
        {
          "output_type": "stream",
          "text": [
            "nst min - max:  0.0  -  166.0\n"
          ],
          "name": "stdout"
        }
      ]
    },
    {
      "cell_type": "code",
      "metadata": {
        "id": "7zcaGXFzFcHT",
        "colab_type": "code",
        "colab": {}
      },
      "source": [
        "calmas = df['State'] == ' California'"
      ],
      "execution_count": 0,
      "outputs": []
    },
    {
      "cell_type": "code",
      "metadata": {
        "id": "Y7I18s6SFwlt",
        "colab_type": "code",
        "colab": {}
      },
      "source": [
        "dfcal = df[calmas]"
      ],
      "execution_count": 0,
      "outputs": []
    },
    {
      "cell_type": "code",
      "metadata": {
        "id": "93jj08-MFzU9",
        "colab_type": "code",
        "colab": {
          "base_uri": "https://localhost:8080/",
          "height": 204
        },
        "outputId": "a71c1696-ffef-4acd-b4e1-7eabdf75e15d"
      },
      "source": [
        "dfcal.head()"
      ],
      "execution_count": 42,
      "outputs": [
        {
          "output_type": "execute_result",
          "data": {
            "text/html": [
              "<div>\n",
              "<style scoped>\n",
              "    .dataframe tbody tr th:only-of-type {\n",
              "        vertical-align: middle;\n",
              "    }\n",
              "\n",
              "    .dataframe tbody tr th {\n",
              "        vertical-align: top;\n",
              "    }\n",
              "\n",
              "    .dataframe thead th {\n",
              "        text-align: right;\n",
              "    }\n",
              "</style>\n",
              "<table border=\"1\" class=\"dataframe\">\n",
              "  <thead>\n",
              "    <tr style=\"text-align: right;\">\n",
              "      <th></th>\n",
              "      <th>depth</th>\n",
              "      <th>mag</th>\n",
              "      <th>magType</th>\n",
              "      <th>nst</th>\n",
              "      <th>gap</th>\n",
              "      <th>dmin</th>\n",
              "      <th>rms</th>\n",
              "      <th>net</th>\n",
              "      <th>type</th>\n",
              "      <th>State</th>\n",
              "    </tr>\n",
              "  </thead>\n",
              "  <tbody>\n",
              "    <tr>\n",
              "      <th>0</th>\n",
              "      <td>0.85</td>\n",
              "      <td>1.50</td>\n",
              "      <td>md</td>\n",
              "      <td>8.0</td>\n",
              "      <td>144.0</td>\n",
              "      <td>0.02065</td>\n",
              "      <td>0.04</td>\n",
              "      <td>nc</td>\n",
              "      <td>earthquake</td>\n",
              "      <td>California</td>\n",
              "    </tr>\n",
              "    <tr>\n",
              "      <th>1</th>\n",
              "      <td>8.02</td>\n",
              "      <td>1.62</td>\n",
              "      <td>ml</td>\n",
              "      <td>69.0</td>\n",
              "      <td>26.0</td>\n",
              "      <td>0.04703</td>\n",
              "      <td>0.19</td>\n",
              "      <td>ci</td>\n",
              "      <td>earthquake</td>\n",
              "      <td>California</td>\n",
              "    </tr>\n",
              "    <tr>\n",
              "      <th>2</th>\n",
              "      <td>9.49</td>\n",
              "      <td>2.04</td>\n",
              "      <td>md</td>\n",
              "      <td>13.0</td>\n",
              "      <td>92.0</td>\n",
              "      <td>0.00605</td>\n",
              "      <td>0.08</td>\n",
              "      <td>nc</td>\n",
              "      <td>earthquake</td>\n",
              "      <td>California</td>\n",
              "    </tr>\n",
              "    <tr>\n",
              "      <th>4</th>\n",
              "      <td>2.12</td>\n",
              "      <td>1.34</td>\n",
              "      <td>ml</td>\n",
              "      <td>48.0</td>\n",
              "      <td>68.0</td>\n",
              "      <td>0.02128</td>\n",
              "      <td>0.18</td>\n",
              "      <td>ci</td>\n",
              "      <td>earthquake</td>\n",
              "      <td>California</td>\n",
              "    </tr>\n",
              "    <tr>\n",
              "      <th>6</th>\n",
              "      <td>13.53</td>\n",
              "      <td>0.46</td>\n",
              "      <td>ml</td>\n",
              "      <td>23.0</td>\n",
              "      <td>104.0</td>\n",
              "      <td>0.02490</td>\n",
              "      <td>0.11</td>\n",
              "      <td>ci</td>\n",
              "      <td>earthquake</td>\n",
              "      <td>California</td>\n",
              "    </tr>\n",
              "  </tbody>\n",
              "</table>\n",
              "</div>"
            ],
            "text/plain": [
              "   depth   mag magType   nst    gap     dmin   rms net        type        State\n",
              "0   0.85  1.50      md   8.0  144.0  0.02065  0.04  nc  earthquake   California\n",
              "1   8.02  1.62      ml  69.0   26.0  0.04703  0.19  ci  earthquake   California\n",
              "2   9.49  2.04      md  13.0   92.0  0.00605  0.08  nc  earthquake   California\n",
              "4   2.12  1.34      ml  48.0   68.0  0.02128  0.18  ci  earthquake   California\n",
              "6  13.53  0.46      ml  23.0  104.0  0.02490  0.11  ci  earthquake   California"
            ]
          },
          "metadata": {
            "tags": []
          },
          "execution_count": 42
        }
      ]
    },
    {
      "cell_type": "code",
      "metadata": {
        "id": "4f_9Wd4_F0tG",
        "colab_type": "code",
        "colab": {
          "base_uri": "https://localhost:8080/",
          "height": 34
        },
        "outputId": "88137ac9-4a6c-455d-c157-64b1d87a00b7"
      },
      "source": [
        "denominator = len(df['State'])\n",
        "numerator = len(dfcal['State'])\n",
        "print(numerator/denominator)"
      ],
      "execution_count": 45,
      "outputs": [
        {
          "output_type": "stream",
          "text": [
            "0.5129895308259015\n"
          ],
          "name": "stdout"
        }
      ]
    },
    {
      "cell_type": "code",
      "metadata": {
        "id": "EaWctBVaGMTi",
        "colab_type": "code",
        "colab": {}
      },
      "source": [
        "# California accounts for about 50 percent of the data."
      ],
      "execution_count": 0,
      "outputs": []
    }
  ]
}