{
 "cells": [
  {
   "cell_type": "markdown",
   "metadata": {},
   "source": [
    "Before we get into creating and deploying this automated model we need to take a look at the scope of the project and all of the parts involved. This is important not only because it will help us to keep organized, but also because without one of these moving parts the whole system is rendered useless. These are the different things that we will need to do to get this model up and running:\n",
    "### Building The Model\n",
    "- Gather initial training data from an endpoint.\n",
    "- Train a model off of the initial training data, and ideally get relatively decent accuracy.\n",
    "- Serialize the model.\n",
    "\n",
    "### Building An Endpoint\n",
    "- Create an endpoint to return predictions from the serialized model.\n",
    "- Create a script to pull new incoming data, as well as read-in old data and combine the two (not necessary for -   LSTM models.)\n",
    "\n",
    "### Deployment\n",
    "- Setup a web-server.\n",
    "- Setup a supervisor\n",
    "- Setup a cronjob to run the data script automatically."
   ]
  },
  {
   "cell_type": "markdown",
   "metadata": {},
   "source": [
    "# Buidling The Model"
   ]
  },
  {
   "cell_type": "code",
   "execution_count": 1,
   "metadata": {},
   "outputs": [],
   "source": [
    "import requests\n",
    "data = requests.get(\"https://api.covid19api.com/world\")\n",
    "# https://api.covid19api.com/summary"
   ]
  },
  {
   "cell_type": "code",
   "execution_count": 2,
   "metadata": {},
   "outputs": [
    {
     "data": {
      "text/plain": [
       "'[\\n  {\\n    \"NewConfirmed\": 151812,\\n    \"TotalConfirmed\": 3503238,\\n    \"NewDeaths\": 8547,\\n    \"TotalDeaths\": 247349,\\n    \"NewRecovered\": 87183,\\n    \"TotalRecovered\": 1125094\\n  },\\n  {\\n    \"NewConfirmed\": 80678,\\n    \"TotalConfirmed\": 4791229,\\n    \"NewDeaths\": 3507,\\n    \"TotalDeaths\": 321071,\\n    \"NewRecovered\": 40774,\\n    \"TotalRecovered\": 1733320\\n  },\\n  {\\n    \"NewConfirmed\": 95756,\\n    \"TotalConfirmed\": 5677213,\\n    \"NewDeaths\": 4319,\\n    \"TotalDeaths\": 357189,\\n    \"NewRecovered\": 55218,\\n    \"TotalRecovered\": 2286305\\n  },\\n  {\\n    \"NewConfirmed\": 70272,\\n    \"TotalConfirmed\": 3039914,\\n    \"NewDeaths\": 4620,\\n    \"TotalDeaths\": 211113,\\n    \"NewRecovered\": 28234,\\n    \"TotalRecovered\": 893322\\n  },\\n  {\\n    \"NewConfirmed\": 0,\\n    \"TotalConfirmed\": 3842902,\\n    \"NewDeaths\": 0,\\n    \"TotalDeaths\": 270014,\\n    \"NewRecovered\": 0,\\n    \"TotalRecovered\": 1233826\\n  },\\n  {\\n    \"NewConfirmed\": 101362,\\n    \"TotalConfirmed\": 4617583,\\n    \"NewDeaths\": 5335,\\n    \"TotalDeaths\": 313328,\\n    \"NewRecovered\": 49174,\\n    \"TotalRecovered\": 1636416\\n  },\\n  {\\n    \"NewConfirmed\": 74720,\\n    \"TotalConfirmed\": 2967831,\\n    \"NewDeaths\": 3695,\\n    \"TotalDeaths\": 206472,\\n    \"NewRecovered\": 49019,\\n    \"TotalRecovered\": 863825\\n  },\\n  {\\n    \"NewConfirmed\": 75176,\\n    \"TotalConfirmed\": 1845470,\\n    \"NewDeaths\": 5588,\\n    \"TotalDeaths\": 114064,\\n    \"NewRecovered\": 19595,\\n    \"TotalRecovered\": 420872\\n  },\\n  {\\n    \"NewConfirmed\": 86585,\\n    \"TotalConfirmed\": 4420028,\\n    \"NewDeaths\": 5380,\\n    \"TotalDeaths\": 302605,\\n    \"NewRecovered\": 55133,\\n    \"TotalRecovered\": 1547896\\n  },\\n  {\\n    \"NewConfirmed\": 87137,\\n    \"TotalConfirmed\": 2155152,\\n    \"NewDeaths\": 8726,\\n    \"TotalDeaths\": 149156,\\n    \"NewRecovered\": 27085,\\n    \"TotalRecovered\": 490147\\n  },\\n  {\\n    \"NewConfirmed\": 0,\\n    \"TotalConfirmed\": 3750571,\\n    \"NewDeaths\": 0,\\n    \"TotalDeaths\": 264684,\\n    \"NewRecovered\": 0,\\n    \"TotalRecovered\": 1196613\\n  },\\n  {\\n    \"NewConfirmed\": 86819,\\n    \"TotalConfirmed\": 3340989,\\n    \"NewDeaths\": 5268,\\n    \"TotalDeaths\": 238569,\\n    \"NewRecovered\": 38569,\\n    \"TotalRecovered\": 1052510\\n  },\\n  {\\n    \"NewConfirmed\": 86233,\\n    \"TotalConfirmed\": 3040879,\\n    \"NewDeaths\": 5480,\\n    \"TotalDeaths\": 208785,\\n    \"NewRecovered\": 62916,\\n    \"TotalRecovered\": 901839\\n  },\\n  {\\n    \"NewConfirmed\": 107223,\\n    \"TotalConfirmed\": 5184547,\\n    \"NewDeaths\": 4926,\\n    \"TotalDeaths\": 339174,\\n    \"NewRecovered\": 51273,\\n    \"TotalRecovered\": 1948088\\n  },\\n  {\\n    \"NewConfirmed\": 109598,\\n    \"TotalConfirmed\": 5294041,\\n    \"NewDeaths\": 5329,\\n    \"TotalDeaths\": 344503,\\n    \"NewRecovered\": 107904,\\n    \"TotalRecovered\": 2055992\\n  },\\n  {\\n    \"NewConfirmed\": 100581,\\n    \"TotalConfirmed\": 5077843,\\n    \"NewDeaths\": 4952,\\n    \"TotalDeaths\": 334248,\\n    \"NewRecovered\": 209244,\\n    \"TotalRecovered\": 1897212\\n  },\\n  {\\n    \"NewConfirmed\": 81849,\\n    \"TotalConfirmed\": 2519183,\\n    \"NewDeaths\": 6788,\\n    \"TotalDeaths\": 172976,\\n    \"NewRecovered\": 34329,\\n    \"TotalRecovered\": 679101\\n  },\\n  {\\n    \"NewConfirmed\": 86850,\\n    \"TotalConfirmed\": 2894581,\\n    \"NewDeaths\": 5839,\\n    \"TotalDeaths\": 202795,\\n    \"NewRecovered\": 27616,\\n    \"TotalRecovered\": 815948\\n  },\\n  {\\n    \"NewConfirmed\": 112797,\\n    \"TotalConfirmed\": 5399508,\\n    \"NewDeaths\": 6154,\\n    \"TotalDeaths\": 362859,\\n    \"NewRecovered\": 53574,\\n    \"TotalRecovered\": 1374979\\n  },\\n  {\\n    \"NewConfirmed\": 88833,\\n    \"TotalConfirmed\": 5581829,\\n    \"NewDeaths\": 3214,\\n    \"TotalDeaths\": 354790,\\n    \"NewRecovered\": 63212,\\n    \"TotalRecovered\": 2231124\\n  },\\n  {\\n    \"NewConfirmed\": 65889,\\n    \"TotalConfirmed\": 1826633,\\n    \"NewDeaths\": 4672,\\n    \"TotalDeaths\": 108114,\\n    \"NewRecovered\": 27255,\\n    \"TotalRecovered\": 447732\\n  },\\n  {\\n    \"NewConfirmed\": 103063,\\n    \"TotalConfirmed\": 5780056,\\n    \"NewDeaths\": 5299,\\n    \"TotalDeaths\": 362488,\\n    \"NewRecovered\": 63132,\\n    \"TotalRecovered\": 2349437\\n  },\\n  {\\n    \"NewConfirmed\": 98206,\\n    \"TotalConfirmed\": 5492996,\\n    \"NewDeaths\": 3030,\\n    \"TotalDeaths\": 351576,\\n    \"NewRecovered\": 56379,\\n    \"TotalRecovered\": 2167913\\n  },\\n  {\\n    \"NewConfirmed\": 92968,\\n    \"TotalConfirmed\": 4710551,\\n    \"NewDeaths\": 4236,\\n    \"TotalDeaths\": 317564,\\n    \"NewRecovered\": 56138,\\n    \"TotalRecovered\": 1692554\\n  },\\n  {\\n    \"NewConfirmed\": 98580,\\n    \"TotalConfirmed\": 5498088,\\n    \"NewDeaths\": 4296,\\n    \"TotalDeaths\": 367155,\\n    \"NewRecovered\": 33350,\\n    \"TotalRecovered\": 1408329\\n  },\\n  {\\n    \"NewConfirmed\": 89402,\\n    \"TotalConfirmed\": 4880631,\\n    \"NewDeaths\": 3354,\\n    \"TotalDeaths\": 324425,\\n    \"NewRecovered\": 52912,\\n    \"TotalRecovered\": 1786224\\n  },\\n  {\\n    \"NewConfirmed\": 82289,\\n    \"TotalConfirmed\": 2054826,\\n    \"NewDeaths\": 8266,\\n    \"TotalDeaths\": 134152,\\n    \"NewRecovered\": 36758,\\n    \"TotalRecovered\": 510380\\n  },\\n  {\\n    \"NewConfirmed\": 96359,\\n    \"TotalConfirmed\": 4516222,\\n    \"NewDeaths\": 5388,\\n    \"TotalDeaths\": 307993,\\n    \"NewRecovered\": 39346,\\n    \"TotalRecovered\": 1587242\\n  },\\n  {\\n    \"NewConfirmed\": 53041,\\n    \"TotalConfirmed\": 2142221,\\n    \"NewDeaths\": 3583,\\n    \"TotalDeaths\": 168885,\\n    \"NewRecovered\": 40194,\\n    \"TotalRecovered\": 1005926\\n  },\\n  {\\n    \"NewConfirmed\": 83608,\\n    \"TotalConfirmed\": 2400051,\\n    \"NewDeaths\": 5534,\\n    \"TotalDeaths\": 165012,\\n    \"NewRecovered\": 31584,\\n    \"TotalRecovered\": 623259\\n  },\\n  {\\n    \"NewConfirmed\": 96444,\\n    \"TotalConfirmed\": 2150422,\\n    \"NewDeaths\": 9619,\\n    \"TotalDeaths\": 143754,\\n    \"NewRecovered\": 31084,\\n    \"TotalRecovered\": 541299\\n  },\\n  {\\n    \"NewConfirmed\": 100055,\\n    \"TotalConfirmed\": 6358757,\\n    \"NewDeaths\": 3559,\\n    \"TotalDeaths\": 382951,\\n    \"NewRecovered\": 54680,\\n    \"TotalRecovered\": 2695358\\n  },\\n  {\\n    \"NewConfirmed\": 100749,\\n    \"TotalConfirmed\": 5394790,\\n    \"NewDeaths\": 4043,\\n    \"TotalDeaths\": 348546,\\n    \"NewRecovered\": 55542,\\n    \"TotalRecovered\": 2111534\\n  },\\n  {\\n    \"NewConfirmed\": 135514,\\n    \"TotalConfirmed\": 6149975,\\n    \"NewDeaths\": 4355,\\n    \"TotalDeaths\": 376268,\\n    \"NewRecovered\": 71158,\\n    \"TotalRecovered\": 2564042\\n  },\\n  {\\n    \"NewConfirmed\": 95649,\\n    \"TotalConfirmed\": 5593728,\\n    \"NewDeaths\": 4898,\\n    \"TotalDeaths\": 372053,\\n    \"NewRecovered\": 47229,\\n    \"TotalRecovered\": 1455558\\n  },\\n  {\\n    \"NewConfirmed\": 118196,\\n    \"TotalConfirmed\": 5898252,\\n    \"NewDeaths\": 4785,\\n    \"TotalDeaths\": 367273,\\n    \"NewRecovered\": 65964,\\n    \"TotalRecovered\": 2415401\\n  },\\n  {\\n    \"NewConfirmed\": 85420,\\n    \"TotalConfirmed\": 4333463,\\n    \"NewDeaths\": 5803,\\n    \"TotalDeaths\": 297231,\\n    \"NewRecovered\": 39651,\\n    \"TotalRecovered\": 1495209\\n  },\\n  {\\n    \"NewConfirmed\": 77532,\\n    \"TotalConfirmed\": 2316388,\\n    \"NewDeaths\": 5686,\\n    \"TotalDeaths\": 159478,\\n    \"NewRecovered\": 23974,\\n    \"TotalRecovered\": 591653\\n  },\\n  {\\n    \"NewConfirmed\": 85357,\\n    \"TotalConfirmed\": 2707338,\\n    \"NewDeaths\": 7827,\\n    \"TotalDeaths\": 190813,\\n    \"NewRecovered\": 28791,\\n    \"TotalRecovered\": 737841\\n  },\\n  {\\n    \"NewConfirmed\": 90841,\\n    \"TotalConfirmed\": 3658565,\\n    \"NewDeaths\": 4734,\\n    \"TotalDeaths\": 257093,\\n    \"NewRecovered\": 84832,\\n    \"TotalRecovered\": 1195874\\n  },\\n  {\\n    \"NewConfirmed\": 90813,\\n    \"TotalConfirmed\": 3578992,\\n    \"NewDeaths\": 4736,\\n    \"TotalDeaths\": 251397,\\n    \"NewRecovered\": 84595,\\n    \"TotalRecovered\": 1159713\\n  },\\n  {\\n    \"NewConfirmed\": 116262,\\n    \"TotalConfirmed\": 6014461,\\n    \"NewDeaths\": 4640,\\n    \"TotalDeaths\": 371913,\\n    \"NewRecovered\": 77575,\\n    \"TotalRecovered\": 2492884\\n  },\\n  {\\n    \"NewConfirmed\": 96840,\\n    \"TotalConfirmed\": 4977471,\\n    \"NewDeaths\": 5089,\\n    \"TotalDeaths\": 329513,\\n    \"NewRecovered\": 52120,\\n    \"TotalRecovered\": 1838344\\n  },\\n  {\\n    \"NewConfirmed\": 0,\\n    \"TotalConfirmed\": 3660341,\\n    \"NewDeaths\": 0,\\n    \"TotalDeaths\": 258950,\\n    \"NewRecovered\": 0,\\n    \"TotalRecovered\": 1157475\\n  },\\n  {\\n    \"NewConfirmed\": 79764,\\n    \"TotalConfirmed\": 3022536,\\n    \"NewDeaths\": 10053,\\n    \"TotalDeaths\": 203333,\\n    \"NewRecovered\": 42725,\\n    \"TotalRecovered\": 922341\\n  },\\n  {\\n    \"NewConfirmed\": 108727,\\n    \"TotalConfirmed\": 6258702,\\n    \"NewDeaths\": 3124,\\n    \"TotalDeaths\": 379392,\\n    \"NewRecovered\": 76636,\\n    \"TotalRecovered\": 2640678\\n  },\\n  {\\n    \"NewConfirmed\": 70653,\\n    \"TotalConfirmed\": 2464856,\\n    \"NewDeaths\": 5537,\\n    \"TotalDeaths\": 161613,\\n    \"NewRecovered\": 28368,\\n    \"TotalRecovered\": 667724\\n  },\\n  {\\n    \"NewConfirmed\": 100875,\\n    \"TotalConfirmed\": 2807945,\\n    \"NewDeaths\": 6147,\\n    \"TotalDeaths\": 196960,\\n    \"NewRecovered\": 50587,\\n    \"TotalRecovered\": 788204\\n  },\\n  {\\n    \"NewConfirmed\": 62833,\\n    \"TotalConfirmed\": 1837869,\\n    \"NewDeaths\": 5665,\\n    \"TotalDeaths\": 110071,\\n    \"NewRecovered\": 24489,\\n    \"TotalRecovered\": 444024\\n  },\\n  {\\n    \"NewConfirmed\": 75128,\\n    \"TotalConfirmed\": 3098828,\\n    \"NewDeaths\": 5973,\\n    \"TotalDeaths\": 216658,\\n    \"NewRecovered\": 34644,\\n    \"TotalRecovered\": 925285\\n  },\\n  {\\n    \"NewConfirmed\": 70871,\\n    \"TotalConfirmed\": 2470922,\\n    \"NewDeaths\": 4940,\\n    \"TotalDeaths\": 169952,\\n    \"NewRecovered\": 21835,\\n    \"TotalRecovered\": 645094\\n  }\\n]\\n'"
      ]
     },
     "execution_count": 2,
     "metadata": {},
     "output_type": "execute_result"
    }
   ],
   "source": [
    "data.text"
   ]
  },
  {
   "cell_type": "code",
   "execution_count": 3,
   "metadata": {},
   "outputs": [],
   "source": [
    "import pandas as pd\n",
    "df = pd.read_json(data.text)"
   ]
  },
  {
   "cell_type": "code",
   "execution_count": 4,
   "metadata": {},
   "outputs": [
    {
     "data": {
      "text/html": [
       "<div>\n",
       "<style scoped>\n",
       "    .dataframe tbody tr th:only-of-type {\n",
       "        vertical-align: middle;\n",
       "    }\n",
       "\n",
       "    .dataframe tbody tr th {\n",
       "        vertical-align: top;\n",
       "    }\n",
       "\n",
       "    .dataframe thead th {\n",
       "        text-align: right;\n",
       "    }\n",
       "</style>\n",
       "<table border=\"1\" class=\"dataframe\">\n",
       "  <thead>\n",
       "    <tr style=\"text-align: right;\">\n",
       "      <th></th>\n",
       "      <th>NewConfirmed</th>\n",
       "      <th>TotalConfirmed</th>\n",
       "      <th>NewDeaths</th>\n",
       "      <th>TotalDeaths</th>\n",
       "      <th>NewRecovered</th>\n",
       "      <th>TotalRecovered</th>\n",
       "    </tr>\n",
       "  </thead>\n",
       "  <tbody>\n",
       "    <tr>\n",
       "      <th>0</th>\n",
       "      <td>151812</td>\n",
       "      <td>3503238</td>\n",
       "      <td>8547</td>\n",
       "      <td>247349</td>\n",
       "      <td>87183</td>\n",
       "      <td>1125094</td>\n",
       "    </tr>\n",
       "    <tr>\n",
       "      <th>1</th>\n",
       "      <td>80678</td>\n",
       "      <td>4791229</td>\n",
       "      <td>3507</td>\n",
       "      <td>321071</td>\n",
       "      <td>40774</td>\n",
       "      <td>1733320</td>\n",
       "    </tr>\n",
       "    <tr>\n",
       "      <th>2</th>\n",
       "      <td>95756</td>\n",
       "      <td>5677213</td>\n",
       "      <td>4319</td>\n",
       "      <td>357189</td>\n",
       "      <td>55218</td>\n",
       "      <td>2286305</td>\n",
       "    </tr>\n",
       "    <tr>\n",
       "      <th>3</th>\n",
       "      <td>70272</td>\n",
       "      <td>3039914</td>\n",
       "      <td>4620</td>\n",
       "      <td>211113</td>\n",
       "      <td>28234</td>\n",
       "      <td>893322</td>\n",
       "    </tr>\n",
       "    <tr>\n",
       "      <th>4</th>\n",
       "      <td>0</td>\n",
       "      <td>3842902</td>\n",
       "      <td>0</td>\n",
       "      <td>270014</td>\n",
       "      <td>0</td>\n",
       "      <td>1233826</td>\n",
       "    </tr>\n",
       "  </tbody>\n",
       "</table>\n",
       "</div>"
      ],
      "text/plain": [
       "   NewConfirmed  TotalConfirmed  NewDeaths  TotalDeaths  NewRecovered  \\\n",
       "0        151812         3503238       8547       247349         87183   \n",
       "1         80678         4791229       3507       321071         40774   \n",
       "2         95756         5677213       4319       357189         55218   \n",
       "3         70272         3039914       4620       211113         28234   \n",
       "4             0         3842902          0       270014             0   \n",
       "\n",
       "   TotalRecovered  \n",
       "0         1125094  \n",
       "1         1733320  \n",
       "2         2286305  \n",
       "3          893322  \n",
       "4         1233826  "
      ]
     },
     "execution_count": 4,
     "metadata": {},
     "output_type": "execute_result"
    }
   ],
   "source": [
    "df.head(5)"
   ]
  },
  {
   "cell_type": "code",
   "execution_count": 5,
   "metadata": {},
   "outputs": [],
   "source": [
    "from sklearn.model_selection import train_test_split\n",
    "train, test = train_test_split(df)"
   ]
  },
  {
   "cell_type": "code",
   "execution_count": 6,
   "metadata": {},
   "outputs": [],
   "source": [
    "feature = 'TotalConfirmed'\n",
    "target = 'TotalDeaths'\n",
    "trainX = train[feature]\n",
    "trainy = train[target]\n",
    "testX = test[feature]\n",
    "testy = test[target]"
   ]
  },
  {
   "cell_type": "code",
   "execution_count": 7,
   "metadata": {},
   "outputs": [],
   "source": [
    "from sklearn.linear_model import Lasso\n",
    "model = Lasso()"
   ]
  },
  {
   "cell_type": "code",
   "execution_count": 8,
   "metadata": {},
   "outputs": [],
   "source": [
    "import numpy as np"
   ]
  },
  {
   "cell_type": "code",
   "execution_count": 9,
   "metadata": {},
   "outputs": [],
   "source": [
    "trainX = trainX.to_numpy().reshape(-1,1)\n",
    "trainy = trainy.to_numpy().reshape(-1,1)"
   ]
  },
  {
   "cell_type": "code",
   "execution_count": 10,
   "metadata": {},
   "outputs": [
    {
     "data": {
      "text/plain": [
       "Lasso(alpha=1.0, copy_X=True, fit_intercept=True, max_iter=1000,\n",
       "      normalize=False, positive=False, precompute=False, random_state=None,\n",
       "      selection='cyclic', tol=0.0001, warm_start=False)"
      ]
     },
     "execution_count": 10,
     "metadata": {},
     "output_type": "execute_result"
    }
   ],
   "source": [
    "model.fit(trainX,trainy)"
   ]
  },
  {
   "cell_type": "code",
   "execution_count": 11,
   "metadata": {},
   "outputs": [],
   "source": [
    "testX = testX.to_numpy().reshape(-1,1)\n",
    "yhat = model.predict(testX)"
   ]
  },
  {
   "cell_type": "code",
   "execution_count": 12,
   "metadata": {},
   "outputs": [
    {
     "name": "stdout",
     "output_type": "stream",
     "text": [
      "[208886.28736224 173514.512863   166244.70075448 223663.71886688\n",
      " 395076.94483021 301565.52962188 342845.14013211 238187.41603695\n",
      " 361132.9904273  284227.62699057 243043.21262318 233564.66693118\n",
      " 366227.50964866]\n"
     ]
    }
   ],
   "source": [
    "print(yhat)"
   ]
  },
  {
   "cell_type": "code",
   "execution_count": 13,
   "metadata": {},
   "outputs": [
    {
     "name": "stdout",
     "output_type": "stream",
     "text": [
      "0.9724050814300688\n"
     ]
    }
   ],
   "source": [
    "from sklearn.metrics import r2_score\n",
    "print(r2_score(testy,yhat))"
   ]
  },
  {
   "cell_type": "code",
   "execution_count": 14,
   "metadata": {},
   "outputs": [],
   "source": [
    "import pickle as pkl"
   ]
  },
  {
   "cell_type": "code",
   "execution_count": 18,
   "metadata": {},
   "outputs": [],
   "source": [
    "pkl.dump(model,open( \"model.pkl\", \"wb\" ))"
   ]
  },
  {
   "cell_type": "code",
   "execution_count": null,
   "metadata": {},
   "outputs": [],
   "source": []
  }
 ],
 "metadata": {
  "@webio": {
   "lastCommId": null,
   "lastKernelId": null
  },
  "kernelspec": {
   "display_name": "Python 3",
   "language": "python",
   "name": "python3"
  },
  "language_info": {
   "codemirror_mode": {
    "name": "ipython",
    "version": 3
   },
   "file_extension": ".py",
   "mimetype": "text/x-python",
   "name": "python",
   "nbconvert_exporter": "python",
   "pygments_lexer": "ipython3",
   "version": "3.7.7"
  }
 },
 "nbformat": 4,
 "nbformat_minor": 2
}
