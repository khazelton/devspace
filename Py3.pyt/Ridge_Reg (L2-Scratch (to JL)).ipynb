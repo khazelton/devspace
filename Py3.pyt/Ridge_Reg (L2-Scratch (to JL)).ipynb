{
 "cells": [
  {
   "cell_type": "code",
   "execution_count": 1,
   "metadata": {},
   "outputs": [],
   "source": [
    "import numpy as np\n",
    "class RidgeRegression:\n",
    "\n",
    "    def __init__(self, learning_rate: float, reg_strength: float, max_iter: int) -> None:\n",
    "        self.learn_rate = learning_rate\n",
    "        self.reg_strength = reg_strength\n",
    "        self.max_iter = max_iter\n",
    "        self._weights: np.array\n",
    "        self.design_matrix: np.array\n",
    "        self.y_train: np.array\n",
    "        self.train_size: int\n",
    "        self.num_feats: int\n",
    "    def weights(self):\n",
    "        return self._weights\n",
    "\n",
    "    def fit(self, x_train, y_train) -> None:\n",
    "        self.train_size, self.num_feats = x_train.shape[0], x_train.shape[1]\n",
    "        self.design_matrix = np.append(np.ones(self.train_size).reshape(\n",
    "            -1, 1), x_train, axis=1)  # Add one for the intercept term for all training examples.\n",
    "        self.y_train = y_train.to_numpy()\n",
    "        self._weights = np.zeros(self.num_feats + 1)  # +1 for the intercept.\n",
    "\n",
    "        self.optimize_weights()\n",
    "\n",
    "    def optimize_weights(self) -> None:\n",
    "        for _ in range(self.max_iter):\n",
    "            self.update_step()\n",
    "\n",
    "    def update_step(self) -> None:\n",
    "        y_hat = (self._weights * self.design_matrix).sum(axis=1)\n",
    "        errors = (y_hat - self.y_train).reshape(-1, 1)\n",
    "\n",
    "        j_theta = (2 / self.train_size) * ((errors * self.design_matrix).sum(axis=0) +\n",
    "                                           (self.reg_strength * self._weights))\n",
    "        step = self.learn_rate * j_theta\n",
    "\n",
    "        self._weights = self._weights - step.reshape(-1)\n",
    "\n",
    "    def predict(self, x_test):\n",
    "\n",
    "        test_size = x_test.shape[0]\n",
    "        x_test = np.append(np.ones(test_size).reshape(-1, 1), x_test, axis=1)\n",
    "\n",
    "        return (self._weights * x_test).sum(axis=1)\n"
   ]
  },
  {
   "cell_type": "code",
   "execution_count": null,
   "metadata": {},
   "outputs": [],
   "source": []
  }
 ],
 "metadata": {
  "kernelspec": {
   "display_name": "Python 3",
   "language": "python",
   "name": "python3"
  },
  "language_info": {
   "codemirror_mode": {
    "name": "ipython",
    "version": 3
   },
   "file_extension": ".py",
   "mimetype": "text/x-python",
   "name": "python",
   "nbconvert_exporter": "python",
   "pygments_lexer": "ipython3",
   "version": "3.7.6"
  }
 },
 "nbformat": 4,
 "nbformat_minor": 2
}
