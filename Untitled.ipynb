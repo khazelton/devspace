{
 "cells": [
  {
   "cell_type": "code",
   "execution_count": 1,
   "id": "b08b2a1a-a979-424f-b561-ee59b1e59b9e",
   "metadata": {},
   "outputs": [
    {
     "ename": "LoadError",
     "evalue": "ParseError:\n\u001b[90m# Error @ \u001b[0;0m\u001b]8;;file:///Users/kh/devspace/In[1]#1:28\u001b\\\u001b[90mIn[1]:1:28\u001b[0;0m\u001b]8;;\u001b\\\ninclude{\"AlgebraicJulia.jl\"\u001b[48;2;120;70;70m\u001b[0;0m)\n\u001b[90m#                          └ ── \u001b[0;0m\u001b[91mExpected `}`\u001b[0;0m",
     "output_type": "error",
     "traceback": [
      "ParseError:\n\u001b[90m# Error @ \u001b[0;0m\u001b]8;;file:///Users/kh/devspace/In[1]#1:28\u001b\\\u001b[90mIn[1]:1:28\u001b[0;0m\u001b]8;;\u001b\\\ninclude{\"AlgebraicJulia.jl\"\u001b[48;2;120;70;70m\u001b[0;0m)\n\u001b[90m#                          └ ── \u001b[0;0m\u001b[91mExpected `}`\u001b[0;0m",
      "",
      "Stacktrace:",
      " [1] top-level scope",
      "\u001b[90m   @\u001b[39m \u001b[90m\u001b[4mIn[1]:1\u001b[24m\u001b[39m"
     ]
    }
   ],
   "source": [
    "include{\"AlgebraicJulia.jl\")"
   ]
  },
  {
   "cell_type": "code",
   "execution_count": null,
   "id": "fdf2c73f-0b65-456f-b0b9-bd5077962245",
   "metadata": {},
   "outputs": [],
   "source": []
  }
 ],
 "metadata": {
  "kernelspec": {
   "display_name": "Julia 1.11.5",
   "language": "julia",
   "name": "julia-1.11"
  },
  "language_info": {
   "file_extension": ".jl",
   "mimetype": "application/julia",
   "name": "julia",
   "version": "1.11.5"
  }
 },
 "nbformat": 4,
 "nbformat_minor": 5
}
