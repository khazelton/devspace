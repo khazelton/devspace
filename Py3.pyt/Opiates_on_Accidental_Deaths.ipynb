{
  "nbformat": 4,
  "nbformat_minor": 0,
  "metadata": {
    "colab": {
      "name": "Opiates on Accidental Deaths.ipynb",
      "version": "0.3.2",
      "provenance": [],
      "collapsed_sections": [
        "f6Bd4_p2ENb0"
      ],
      "include_colab_link": true
    },
    "kernelspec": {
      "name": "python3",
      "display_name": "Python 3"
    }
  },
  "cells": [
    {
      "cell_type": "markdown",
      "metadata": {
        "id": "view-in-github",
        "colab_type": "text"
      },
      "source": [
        "<a href=\"https://colab.research.google.com/github/emmettgb/Emmetts-DS-NoteBooks/blob/master/Opiates_on_Accidental_Deaths.ipynb\" target=\"_parent\"><img src=\"https://colab.research.google.com/assets/colab-badge.svg\" alt=\"Open In Colab\"/></a>"
      ]
    },
    {
      "cell_type": "markdown",
      "metadata": {
        "id": "f6Bd4_p2ENb0",
        "colab_type": "text"
      },
      "source": [
        "# Imports"
      ]
    },
    {
      "cell_type": "code",
      "metadata": {
        "id": "R3g2icwmDpyb",
        "colab_type": "code",
        "outputId": "bc118332-a925-442e-c3d5-d844762f4c01",
        "colab": {
          "base_uri": "https://localhost:8080/",
          "height": 0
        }
      },
      "source": [
        "# Import required packages\n",
        "import os, sys\n",
        "in_colab = 'google.colab' in sys.modules\n",
        "\n",
        "if in_colab:\n",
        "    ## Install packages in Colab\n",
        "    !pip install --upgrade category_encoders eli5 pandas-profiling plotly\n",
        "import category_encoders as ce\n",
        "import eli5\n",
        "import pandas as pd\n",
        "import sklearn\n",
        "\n",
        "# Check package versions\n",
        "from distutils.version import StrictVersion\n",
        "assert StrictVersion(ce.__version__) >= StrictVersion('2.0.0')\n",
        "assert StrictVersion(eli5.__version__) >= StrictVersion('0.9.0')\n",
        "assert StrictVersion(pd.__version__) >= StrictVersion('0.24.2')\n",
        "assert StrictVersion(sklearn.__version__) >= StrictVersion('0.21.3')"
      ],
      "execution_count": 147,
      "outputs": [
        {
          "output_type": "stream",
          "text": [
            "Requirement already up-to-date: category_encoders in /usr/local/lib/python3.6/dist-packages (2.0.0)\n",
            "Requirement already up-to-date: eli5 in /usr/local/lib/python3.6/dist-packages (0.10.0)\n",
            "Requirement already up-to-date: pandas-profiling in /usr/local/lib/python3.6/dist-packages (2.3.0)\n",
            "Requirement already up-to-date: plotly in /usr/local/lib/python3.6/dist-packages (4.1.0)\n",
            "Requirement already satisfied, skipping upgrade: patsy>=0.4.1 in /usr/local/lib/python3.6/dist-packages (from category_encoders) (0.5.1)\n",
            "Requirement already satisfied, skipping upgrade: statsmodels>=0.6.1 in /usr/local/lib/python3.6/dist-packages (from category_encoders) (0.10.1)\n",
            "Requirement already satisfied, skipping upgrade: pandas>=0.21.1 in /usr/local/lib/python3.6/dist-packages (from category_encoders) (0.24.2)\n",
            "Requirement already satisfied, skipping upgrade: numpy>=1.11.3 in /usr/local/lib/python3.6/dist-packages (from category_encoders) (1.16.4)\n",
            "Requirement already satisfied, skipping upgrade: scikit-learn>=0.20.0 in /usr/local/lib/python3.6/dist-packages (from category_encoders) (0.21.3)\n",
            "Requirement already satisfied, skipping upgrade: scipy>=0.19.0 in /usr/local/lib/python3.6/dist-packages (from category_encoders) (1.3.1)\n",
            "Requirement already satisfied, skipping upgrade: six in /usr/local/lib/python3.6/dist-packages (from eli5) (1.12.0)\n",
            "Requirement already satisfied, skipping upgrade: typing in /usr/local/lib/python3.6/dist-packages (from eli5) (3.7.4)\n",
            "Requirement already satisfied, skipping upgrade: attrs>16.0.0 in /usr/local/lib/python3.6/dist-packages (from eli5) (19.1.0)\n",
            "Requirement already satisfied, skipping upgrade: tabulate>=0.7.7 in /usr/local/lib/python3.6/dist-packages (from eli5) (0.8.3)\n",
            "Requirement already satisfied, skipping upgrade: graphviz in /usr/local/lib/python3.6/dist-packages (from eli5) (0.10.1)\n",
            "Requirement already satisfied, skipping upgrade: jinja2 in /usr/local/lib/python3.6/dist-packages (from eli5) (2.10.1)\n",
            "Requirement already satisfied, skipping upgrade: htmlmin>=0.1.12 in /usr/local/lib/python3.6/dist-packages (from pandas-profiling) (0.1.12)\n",
            "Requirement already satisfied, skipping upgrade: confuse>=1.0.0 in /usr/local/lib/python3.6/dist-packages (from pandas-profiling) (1.0.0)\n",
            "Requirement already satisfied, skipping upgrade: astropy in /usr/local/lib/python3.6/dist-packages (from pandas-profiling) (3.0.5)\n",
            "Requirement already satisfied, skipping upgrade: phik>=0.9.8 in /usr/local/lib/python3.6/dist-packages (from pandas-profiling) (0.9.8)\n",
            "Requirement already satisfied, skipping upgrade: matplotlib>=1.4 in /usr/local/lib/python3.6/dist-packages (from pandas-profiling) (3.0.3)\n",
            "Requirement already satisfied, skipping upgrade: missingno>=0.4.2 in /usr/local/lib/python3.6/dist-packages (from pandas-profiling) (0.4.2)\n",
            "Requirement already satisfied, skipping upgrade: retrying>=1.3.3 in /usr/local/lib/python3.6/dist-packages (from plotly) (1.3.3)\n",
            "Requirement already satisfied, skipping upgrade: pytz>=2011k in /usr/local/lib/python3.6/dist-packages (from pandas>=0.21.1->category_encoders) (2018.9)\n",
            "Requirement already satisfied, skipping upgrade: python-dateutil>=2.5.0 in /usr/local/lib/python3.6/dist-packages (from pandas>=0.21.1->category_encoders) (2.5.3)\n",
            "Requirement already satisfied, skipping upgrade: joblib>=0.11 in /usr/local/lib/python3.6/dist-packages (from scikit-learn>=0.20.0->category_encoders) (0.13.2)\n",
            "Requirement already satisfied, skipping upgrade: MarkupSafe>=0.23 in /usr/local/lib/python3.6/dist-packages (from jinja2->eli5) (1.1.1)\n",
            "Requirement already satisfied, skipping upgrade: pyyaml in /usr/local/lib/python3.6/dist-packages (from confuse>=1.0.0->pandas-profiling) (3.13)\n",
            "Requirement already satisfied, skipping upgrade: pytest>=4.0.2 in /usr/local/lib/python3.6/dist-packages (from phik>=0.9.8->pandas-profiling) (5.1.1)\n",
            "Requirement already satisfied, skipping upgrade: nbconvert>=5.3.1 in /usr/local/lib/python3.6/dist-packages (from phik>=0.9.8->pandas-profiling) (5.6.0)\n",
            "Requirement already satisfied, skipping upgrade: numba>=0.38.1 in /usr/local/lib/python3.6/dist-packages (from phik>=0.9.8->pandas-profiling) (0.40.1)\n",
            "Requirement already satisfied, skipping upgrade: jupyter-client>=5.2.3 in /usr/local/lib/python3.6/dist-packages (from phik>=0.9.8->pandas-profiling) (5.3.1)\n",
            "Requirement already satisfied, skipping upgrade: pytest-pylint>=0.13.0 in /usr/local/lib/python3.6/dist-packages (from phik>=0.9.8->pandas-profiling) (0.14.1)\n",
            "Requirement already satisfied, skipping upgrade: kiwisolver>=1.0.1 in /usr/local/lib/python3.6/dist-packages (from matplotlib>=1.4->pandas-profiling) (1.1.0)\n",
            "Requirement already satisfied, skipping upgrade: pyparsing!=2.0.4,!=2.1.2,!=2.1.6,>=2.0.1 in /usr/local/lib/python3.6/dist-packages (from matplotlib>=1.4->pandas-profiling) (2.4.2)\n",
            "Requirement already satisfied, skipping upgrade: cycler>=0.10 in /usr/local/lib/python3.6/dist-packages (from matplotlib>=1.4->pandas-profiling) (0.10.0)\n",
            "Requirement already satisfied, skipping upgrade: seaborn in /usr/local/lib/python3.6/dist-packages (from missingno>=0.4.2->pandas-profiling) (0.9.0)\n",
            "Requirement already satisfied, skipping upgrade: wcwidth in /usr/local/lib/python3.6/dist-packages (from pytest>=4.0.2->phik>=0.9.8->pandas-profiling) (0.1.7)\n",
            "Requirement already satisfied, skipping upgrade: packaging in /usr/local/lib/python3.6/dist-packages (from pytest>=4.0.2->phik>=0.9.8->pandas-profiling) (19.1)\n",
            "Requirement already satisfied, skipping upgrade: atomicwrites>=1.0 in /usr/local/lib/python3.6/dist-packages (from pytest>=4.0.2->phik>=0.9.8->pandas-profiling) (1.3.0)\n",
            "Requirement already satisfied, skipping upgrade: more-itertools>=4.0.0 in /usr/local/lib/python3.6/dist-packages (from pytest>=4.0.2->phik>=0.9.8->pandas-profiling) (7.2.0)\n",
            "Requirement already satisfied, skipping upgrade: importlib-metadata>=0.12; python_version < \"3.8\" in /usr/local/lib/python3.6/dist-packages (from pytest>=4.0.2->phik>=0.9.8->pandas-profiling) (0.19)\n",
            "Requirement already satisfied, skipping upgrade: py>=1.5.0 in /usr/local/lib/python3.6/dist-packages (from pytest>=4.0.2->phik>=0.9.8->pandas-profiling) (1.8.0)\n",
            "Requirement already satisfied, skipping upgrade: pluggy<1.0,>=0.12 in /usr/local/lib/python3.6/dist-packages (from pytest>=4.0.2->phik>=0.9.8->pandas-profiling) (0.12.0)\n",
            "Requirement already satisfied, skipping upgrade: bleach in /usr/local/lib/python3.6/dist-packages (from nbconvert>=5.3.1->phik>=0.9.8->pandas-profiling) (3.1.0)\n",
            "Requirement already satisfied, skipping upgrade: defusedxml in /usr/local/lib/python3.6/dist-packages (from nbconvert>=5.3.1->phik>=0.9.8->pandas-profiling) (0.6.0)\n",
            "Requirement already satisfied, skipping upgrade: traitlets>=4.2 in /usr/local/lib/python3.6/dist-packages (from nbconvert>=5.3.1->phik>=0.9.8->pandas-profiling) (4.3.2)\n",
            "Requirement already satisfied, skipping upgrade: jupyter-core in /usr/local/lib/python3.6/dist-packages (from nbconvert>=5.3.1->phik>=0.9.8->pandas-profiling) (4.5.0)\n",
            "Requirement already satisfied, skipping upgrade: testpath in /usr/local/lib/python3.6/dist-packages (from nbconvert>=5.3.1->phik>=0.9.8->pandas-profiling) (0.4.2)\n",
            "Requirement already satisfied, skipping upgrade: mistune<2,>=0.8.1 in /usr/local/lib/python3.6/dist-packages (from nbconvert>=5.3.1->phik>=0.9.8->pandas-profiling) (0.8.4)\n",
            "Requirement already satisfied, skipping upgrade: pandocfilters>=1.4.1 in /usr/local/lib/python3.6/dist-packages (from nbconvert>=5.3.1->phik>=0.9.8->pandas-profiling) (1.4.2)\n",
            "Requirement already satisfied, skipping upgrade: nbformat>=4.4 in /usr/local/lib/python3.6/dist-packages (from nbconvert>=5.3.1->phik>=0.9.8->pandas-profiling) (4.4.0)\n",
            "Requirement already satisfied, skipping upgrade: entrypoints>=0.2.2 in /usr/local/lib/python3.6/dist-packages (from nbconvert>=5.3.1->phik>=0.9.8->pandas-profiling) (0.3)\n",
            "Requirement already satisfied, skipping upgrade: pygments in /usr/local/lib/python3.6/dist-packages (from nbconvert>=5.3.1->phik>=0.9.8->pandas-profiling) (2.1.3)\n",
            "Requirement already satisfied, skipping upgrade: llvmlite>=0.25.0dev0 in /usr/local/lib/python3.6/dist-packages (from numba>=0.38.1->phik>=0.9.8->pandas-profiling) (0.29.0)\n",
            "Requirement already satisfied, skipping upgrade: pyzmq>=13 in /usr/local/lib/python3.6/dist-packages (from jupyter-client>=5.2.3->phik>=0.9.8->pandas-profiling) (17.0.0)\n",
            "Requirement already satisfied, skipping upgrade: tornado>=4.1 in /usr/local/lib/python3.6/dist-packages (from jupyter-client>=5.2.3->phik>=0.9.8->pandas-profiling) (4.5.3)\n",
            "Requirement already satisfied, skipping upgrade: pylint>=1.4.5 in /usr/local/lib/python3.6/dist-packages (from pytest-pylint>=0.13.0->phik>=0.9.8->pandas-profiling) (2.3.1)\n",
            "Requirement already satisfied, skipping upgrade: setuptools in /usr/local/lib/python3.6/dist-packages (from kiwisolver>=1.0.1->matplotlib>=1.4->pandas-profiling) (41.2.0)\n",
            "Requirement already satisfied, skipping upgrade: zipp>=0.5 in /usr/local/lib/python3.6/dist-packages (from importlib-metadata>=0.12; python_version < \"3.8\"->pytest>=4.0.2->phik>=0.9.8->pandas-profiling) (0.5.2)\n",
            "Requirement already satisfied, skipping upgrade: webencodings in /usr/local/lib/python3.6/dist-packages (from bleach->nbconvert>=5.3.1->phik>=0.9.8->pandas-profiling) (0.5.1)\n",
            "Requirement already satisfied, skipping upgrade: ipython-genutils in /usr/local/lib/python3.6/dist-packages (from traitlets>=4.2->nbconvert>=5.3.1->phik>=0.9.8->pandas-profiling) (0.2.0)\n",
            "Requirement already satisfied, skipping upgrade: decorator in /usr/local/lib/python3.6/dist-packages (from traitlets>=4.2->nbconvert>=5.3.1->phik>=0.9.8->pandas-profiling) (4.4.0)\n",
            "Requirement already satisfied, skipping upgrade: jsonschema!=2.5.0,>=2.4 in /usr/local/lib/python3.6/dist-packages (from nbformat>=4.4->nbconvert>=5.3.1->phik>=0.9.8->pandas-profiling) (2.6.0)\n",
            "Requirement already satisfied, skipping upgrade: mccabe<0.7,>=0.6 in /usr/local/lib/python3.6/dist-packages (from pylint>=1.4.5->pytest-pylint>=0.13.0->phik>=0.9.8->pandas-profiling) (0.6.1)\n",
            "Requirement already satisfied, skipping upgrade: isort<5,>=4.2.5 in /usr/local/lib/python3.6/dist-packages (from pylint>=1.4.5->pytest-pylint>=0.13.0->phik>=0.9.8->pandas-profiling) (4.3.21)\n",
            "Requirement already satisfied, skipping upgrade: astroid<3,>=2.2.0 in /usr/local/lib/python3.6/dist-packages (from pylint>=1.4.5->pytest-pylint>=0.13.0->phik>=0.9.8->pandas-profiling) (2.2.5)\n",
            "Requirement already satisfied, skipping upgrade: lazy-object-proxy in /usr/local/lib/python3.6/dist-packages (from astroid<3,>=2.2.0->pylint>=1.4.5->pytest-pylint>=0.13.0->phik>=0.9.8->pandas-profiling) (1.4.2)\n",
            "Requirement already satisfied, skipping upgrade: typed-ast>=1.3.0; implementation_name == \"cpython\" in /usr/local/lib/python3.6/dist-packages (from astroid<3,>=2.2.0->pylint>=1.4.5->pytest-pylint>=0.13.0->phik>=0.9.8->pandas-profiling) (1.4.0)\n",
            "Requirement already satisfied, skipping upgrade: wrapt in /usr/local/lib/python3.6/dist-packages (from astroid<3,>=2.2.0->pylint>=1.4.5->pytest-pylint>=0.13.0->phik>=0.9.8->pandas-profiling) (1.11.2)\n"
          ],
          "name": "stdout"
        }
      ]
    },
    {
      "cell_type": "markdown",
      "metadata": {
        "id": "YKDBqf-TEVHQ",
        "colab_type": "text"
      },
      "source": [
        "# Data Cleaning"
      ]
    },
    {
      "cell_type": "code",
      "metadata": {
        "id": "CAZ2MwF0EHmu",
        "colab_type": "code",
        "colab": {}
      },
      "source": [
        "# Read data\n",
        "url = 'https://data.ct.gov/api/views/rybz-nyjw/rows.csv'\n",
        "# SOURCE: Data.Gov\n",
        "df = pd.read_csv(url)\n",
        "dfc = df.copy()\n",
        "df.head(5)\n",
        "#Some imports out of the way\n",
        "import scipy.stats\n",
        "import numpy as np"
      ],
      "execution_count": 0,
      "outputs": []
    },
    {
      "cell_type": "code",
      "metadata": {
        "id": "MJ1dfmkOEjyh",
        "colab_type": "code",
        "colab": {}
      },
      "source": [
        "def datacleaner3000(df):\n",
        "  #Replace all Ys with integers,\n",
        "  #Replace all Ns with 0s\n",
        "  df = df.replace('Y',1)\n",
        "  df = df.replace('N',0)\n",
        "  #The Ns are actually stored as NaNs,\n",
        "  #So we are going to replace the null values in the columns with 0\n",
        "  #But first, Just in case\n",
        "  df = df.replace('?',np.NaN)\n",
        "  df['Heroin'] = df['Heroin'].replace(np.NaN,0)\n",
        "  df['Cocaine'] = df['Cocaine'].replace(np.NaN,0)\n",
        "  df['OtherSignifican'] = df['OtherSignifican'].replace(np.NaN,0)\n",
        "  df['Fentanyl'] = df['Fentanyl'].replace(np.NaN,0)\n",
        "  df['Oxycodone'] = df['Oxycodone'].replace(np.NaN,0)\n",
        "  df = df.drop(columns='FentanylAnalogue')\n",
        "  df['Ethanol'] = df['Ethanol'].replace(np.NaN,0)\n",
        "  df['Oxymorphone'] = df['Oxymorphone'].replace(np.NaN,0)\n",
        "  df['Methadone'] = df['Methadone'].replace(np.NaN,0)\n",
        "  df['Amphet'] = df['Amphet'].replace(np.NaN,0)\n",
        "  df['Tramad'] = df['Tramad'].replace(np.NaN,0)\n",
        "  df = df.rename(columns={\"Morphine_NotHeroin\": \"Morphine\"})\n",
        "  df['Hydromorphone'] = df['Hydromorphone'].replace(np.NaN,0)\n",
        "  df['Hydrocodone'] = df['Hydrocodone'].replace(np.NaN,0)\n",
        "  df['Benzodiazepine'] = df['Benzodiazepine'].replace(np.NaN,0)\n",
        "  df['Morphine'] = df['Morphine'].replace(np.NaN,0)\n",
        "  df['AnyOpioid'] = df['AnyOpioid'].replace(np.NaN,0)\n",
        "  df = df.drop(columns = 'Other')\n",
        "  df['Sex'] = df['Sex'].replace('Male',0)\n",
        "  df['Sex'] = df['Sex'].replace('Female',1)\n",
        "  return(df)"
      ],
      "execution_count": 0,
      "outputs": []
    },
    {
      "cell_type": "code",
      "metadata": {
        "id": "TWavp592J7By",
        "colab_type": "code",
        "colab": {}
      },
      "source": [
        "#Apply my lovely clean function:\n",
        "df = datacleaner3000(df)"
      ],
      "execution_count": 0,
      "outputs": []
    },
    {
      "cell_type": "code",
      "metadata": {
        "id": "VdxhfvkgKAFg",
        "colab_type": "code",
        "outputId": "9d123c58-3ad9-4886-c652-0dc664238831",
        "colab": {
          "base_uri": "https://localhost:8080/",
          "height": 384
        }
      },
      "source": [
        "df = df.replace('Y',1)\n",
        "df.head(5)"
      ],
      "execution_count": 151,
      "outputs": [
        {
          "output_type": "execute_result",
          "data": {
            "text/html": [
              "<div>\n",
              "<style scoped>\n",
              "    .dataframe tbody tr th:only-of-type {\n",
              "        vertical-align: middle;\n",
              "    }\n",
              "\n",
              "    .dataframe tbody tr th {\n",
              "        vertical-align: top;\n",
              "    }\n",
              "\n",
              "    .dataframe thead th {\n",
              "        text-align: right;\n",
              "    }\n",
              "</style>\n",
              "<table border=\"1\" class=\"dataframe\">\n",
              "  <thead>\n",
              "    <tr style=\"text-align: right;\">\n",
              "      <th></th>\n",
              "      <th>ID</th>\n",
              "      <th>Date</th>\n",
              "      <th>DateType</th>\n",
              "      <th>Age</th>\n",
              "      <th>Sex</th>\n",
              "      <th>Race</th>\n",
              "      <th>ResidenceCity</th>\n",
              "      <th>ResidenceCounty</th>\n",
              "      <th>ResidenceState</th>\n",
              "      <th>DeathCity</th>\n",
              "      <th>DeathCounty</th>\n",
              "      <th>Location</th>\n",
              "      <th>LocationifOther</th>\n",
              "      <th>DescriptionofInjury</th>\n",
              "      <th>InjuryPlace</th>\n",
              "      <th>InjuryCity</th>\n",
              "      <th>InjuryCounty</th>\n",
              "      <th>InjuryState</th>\n",
              "      <th>COD</th>\n",
              "      <th>OtherSignifican</th>\n",
              "      <th>Heroin</th>\n",
              "      <th>Cocaine</th>\n",
              "      <th>Fentanyl</th>\n",
              "      <th>Oxycodone</th>\n",
              "      <th>Oxymorphone</th>\n",
              "      <th>Ethanol</th>\n",
              "      <th>Hydrocodone</th>\n",
              "      <th>Benzodiazepine</th>\n",
              "      <th>Methadone</th>\n",
              "      <th>Amphet</th>\n",
              "      <th>Tramad</th>\n",
              "      <th>Morphine</th>\n",
              "      <th>Hydromorphone</th>\n",
              "      <th>OpiateNOS</th>\n",
              "      <th>AnyOpioid</th>\n",
              "      <th>MannerofDeath</th>\n",
              "      <th>DeathCityGeo</th>\n",
              "      <th>ResidenceCityGeo</th>\n",
              "      <th>InjuryCityGeo</th>\n",
              "    </tr>\n",
              "  </thead>\n",
              "  <tbody>\n",
              "    <tr>\n",
              "      <th>0</th>\n",
              "      <td>14-0273</td>\n",
              "      <td>06/28/2014 12:00:00 AM</td>\n",
              "      <td>DateReported</td>\n",
              "      <td>NaN</td>\n",
              "      <td>NaN</td>\n",
              "      <td>NaN</td>\n",
              "      <td>NaN</td>\n",
              "      <td>NaN</td>\n",
              "      <td>NaN</td>\n",
              "      <td>NaN</td>\n",
              "      <td>NaN</td>\n",
              "      <td>NaN</td>\n",
              "      <td>NaN</td>\n",
              "      <td>substance</td>\n",
              "      <td>NaN</td>\n",
              "      <td>NaN</td>\n",
              "      <td>NaN</td>\n",
              "      <td>NaN</td>\n",
              "      <td>Acute fent, hydrocod, benzodiazepine</td>\n",
              "      <td>0</td>\n",
              "      <td>0.0</td>\n",
              "      <td>0.0</td>\n",
              "      <td>1</td>\n",
              "      <td>0.0</td>\n",
              "      <td>0.0</td>\n",
              "      <td>0.0</td>\n",
              "      <td>1.0</td>\n",
              "      <td>1.0</td>\n",
              "      <td>0.0</td>\n",
              "      <td>0.0</td>\n",
              "      <td>0.0</td>\n",
              "      <td>0</td>\n",
              "      <td>0.0</td>\n",
              "      <td>NaN</td>\n",
              "      <td>0.0</td>\n",
              "      <td>Accident</td>\n",
              "      <td>CT\\n(41.575155, -72.738288)</td>\n",
              "      <td>CT\\n(41.575155, -72.738288)</td>\n",
              "      <td>CT\\n(41.575155, -72.738288)</td>\n",
              "    </tr>\n",
              "    <tr>\n",
              "      <th>1</th>\n",
              "      <td>13-0102</td>\n",
              "      <td>03/21/2013 12:00:00 AM</td>\n",
              "      <td>DateofDeath</td>\n",
              "      <td>48.0</td>\n",
              "      <td>0</td>\n",
              "      <td>Black</td>\n",
              "      <td>NORWALK</td>\n",
              "      <td>NaN</td>\n",
              "      <td>NaN</td>\n",
              "      <td>NORWALK</td>\n",
              "      <td>FAIRFIELD</td>\n",
              "      <td>Hospital</td>\n",
              "      <td>NaN</td>\n",
              "      <td>NaN</td>\n",
              "      <td>NaN</td>\n",
              "      <td>NaN</td>\n",
              "      <td>NaN</td>\n",
              "      <td>NaN</td>\n",
              "      <td>Cocaine Intoxication</td>\n",
              "      <td>0</td>\n",
              "      <td>0.0</td>\n",
              "      <td>1.0</td>\n",
              "      <td>0</td>\n",
              "      <td>0.0</td>\n",
              "      <td>0.0</td>\n",
              "      <td>0.0</td>\n",
              "      <td>0.0</td>\n",
              "      <td>0.0</td>\n",
              "      <td>0.0</td>\n",
              "      <td>0.0</td>\n",
              "      <td>0.0</td>\n",
              "      <td>0</td>\n",
              "      <td>0.0</td>\n",
              "      <td>NaN</td>\n",
              "      <td>0.0</td>\n",
              "      <td>Accident</td>\n",
              "      <td>Norwalk, CT\\n(41.11805, -73.412906)</td>\n",
              "      <td>NORWALK, CT\\n(41.11805, -73.412906)</td>\n",
              "      <td>CT\\n(41.575155, -72.738288)</td>\n",
              "    </tr>\n",
              "    <tr>\n",
              "      <th>2</th>\n",
              "      <td>16-0165</td>\n",
              "      <td>03/13/2016 12:00:00 AM</td>\n",
              "      <td>DateofDeath</td>\n",
              "      <td>30.0</td>\n",
              "      <td>1</td>\n",
              "      <td>White</td>\n",
              "      <td>SANDY HOOK</td>\n",
              "      <td>FAIRFIELD</td>\n",
              "      <td>CT</td>\n",
              "      <td>DANBURY</td>\n",
              "      <td>NaN</td>\n",
              "      <td>Hospital</td>\n",
              "      <td>NaN</td>\n",
              "      <td>Substance Abuse</td>\n",
              "      <td>Unknown</td>\n",
              "      <td>UNKNOWN</td>\n",
              "      <td>NaN</td>\n",
              "      <td>NaN</td>\n",
              "      <td>Acute Heroin and Cocaine Intoxication</td>\n",
              "      <td>0</td>\n",
              "      <td>1.0</td>\n",
              "      <td>1.0</td>\n",
              "      <td>0</td>\n",
              "      <td>0.0</td>\n",
              "      <td>0.0</td>\n",
              "      <td>0.0</td>\n",
              "      <td>0.0</td>\n",
              "      <td>0.0</td>\n",
              "      <td>0.0</td>\n",
              "      <td>0.0</td>\n",
              "      <td>0.0</td>\n",
              "      <td>0</td>\n",
              "      <td>0.0</td>\n",
              "      <td>NaN</td>\n",
              "      <td>1.0</td>\n",
              "      <td>Accident</td>\n",
              "      <td>Danbury, CT\\n(41.393666, -73.451539)</td>\n",
              "      <td>SANDY HOOK, CT\\n(41.419998, -73.282501)</td>\n",
              "      <td>NaN</td>\n",
              "    </tr>\n",
              "    <tr>\n",
              "      <th>3</th>\n",
              "      <td>16-0208</td>\n",
              "      <td>03/31/2016 12:00:00 AM</td>\n",
              "      <td>DateofDeath</td>\n",
              "      <td>23.0</td>\n",
              "      <td>0</td>\n",
              "      <td>White</td>\n",
              "      <td>RYE</td>\n",
              "      <td>WESTCHESTER</td>\n",
              "      <td>NY</td>\n",
              "      <td>GREENWICH</td>\n",
              "      <td>NaN</td>\n",
              "      <td>Hospital</td>\n",
              "      <td>NaN</td>\n",
              "      <td>substance abuse</td>\n",
              "      <td>Residence</td>\n",
              "      <td>RYE</td>\n",
              "      <td>NaN</td>\n",
              "      <td>NaN</td>\n",
              "      <td>Acute Fentanyl and Morphine Intoxication</td>\n",
              "      <td>0</td>\n",
              "      <td>1.0</td>\n",
              "      <td>0.0</td>\n",
              "      <td>1</td>\n",
              "      <td>0.0</td>\n",
              "      <td>0.0</td>\n",
              "      <td>0.0</td>\n",
              "      <td>0.0</td>\n",
              "      <td>0.0</td>\n",
              "      <td>0.0</td>\n",
              "      <td>0.0</td>\n",
              "      <td>0.0</td>\n",
              "      <td>0</td>\n",
              "      <td>0.0</td>\n",
              "      <td>NaN</td>\n",
              "      <td>1.0</td>\n",
              "      <td>Accident</td>\n",
              "      <td>Greenwich, CT\\n(41.026526, -73.628549)</td>\n",
              "      <td>NaN</td>\n",
              "      <td>NaN</td>\n",
              "    </tr>\n",
              "    <tr>\n",
              "      <th>4</th>\n",
              "      <td>13-0052</td>\n",
              "      <td>02/13/2013 12:00:00 AM</td>\n",
              "      <td>DateofDeath</td>\n",
              "      <td>22.0</td>\n",
              "      <td>0</td>\n",
              "      <td>Asian, Other</td>\n",
              "      <td>FLUSHING</td>\n",
              "      <td>QUEENS</td>\n",
              "      <td>NaN</td>\n",
              "      <td>GREENWICH</td>\n",
              "      <td>FAIRFIELD</td>\n",
              "      <td>Hospital</td>\n",
              "      <td>NaN</td>\n",
              "      <td>Transdermal Absorption</td>\n",
              "      <td>Other</td>\n",
              "      <td>NaN</td>\n",
              "      <td>NaN</td>\n",
              "      <td>NaN</td>\n",
              "      <td>Fentanyl Intoxication</td>\n",
              "      <td>0</td>\n",
              "      <td>0.0</td>\n",
              "      <td>0.0</td>\n",
              "      <td>1</td>\n",
              "      <td>0.0</td>\n",
              "      <td>0.0</td>\n",
              "      <td>0.0</td>\n",
              "      <td>0.0</td>\n",
              "      <td>0.0</td>\n",
              "      <td>0.0</td>\n",
              "      <td>0.0</td>\n",
              "      <td>0.0</td>\n",
              "      <td>0</td>\n",
              "      <td>0.0</td>\n",
              "      <td>NaN</td>\n",
              "      <td>0.0</td>\n",
              "      <td>Accident</td>\n",
              "      <td>Greenwich, CT\\n(41.026526, -73.628549)</td>\n",
              "      <td>NaN</td>\n",
              "      <td>CT\\n(41.575155, -72.738288)</td>\n",
              "    </tr>\n",
              "  </tbody>\n",
              "</table>\n",
              "</div>"
            ],
            "text/plain": [
              "        ID  ...                InjuryCityGeo\n",
              "0  14-0273  ...  CT\\n(41.575155, -72.738288)\n",
              "1  13-0102  ...  CT\\n(41.575155, -72.738288)\n",
              "2  16-0165  ...                          NaN\n",
              "3  16-0208  ...                          NaN\n",
              "4  13-0052  ...  CT\\n(41.575155, -72.738288)\n",
              "\n",
              "[5 rows x 39 columns]"
            ]
          },
          "metadata": {
            "tags": []
          },
          "execution_count": 151
        }
      ]
    },
    {
      "cell_type": "code",
      "metadata": {
        "id": "QTsHAzgZLCYt",
        "colab_type": "code",
        "colab": {}
      },
      "source": [
        "#We may need these later\n",
        "from sklearn.model_selection import train_test_split\n",
        "import category_encoders as ce\n",
        "from sklearn.experimental import enable_iterative_imputer\n",
        "from sklearn.impute import IterativeImputer\n",
        "from sklearn.ensemble import RandomForestClassifier\n",
        "from sklearn.model_selection import train_test_split\n",
        "from sklearn.pipeline import make_pipeline"
      ],
      "execution_count": 0,
      "outputs": []
    },
    {
      "cell_type": "markdown",
      "metadata": {
        "id": "Aia8W5QbLJk3",
        "colab_type": "text"
      },
      "source": [
        "# Train/Test Split"
      ]
    },
    {
      "cell_type": "code",
      "metadata": {
        "id": "KgaKDjG2LL4L",
        "colab_type": "code",
        "outputId": "04656286-000c-479b-a475-2d37fe034d4d",
        "colab": {
          "base_uri": "https://localhost:8080/",
          "height": 1000
        }
      },
      "source": [
        "print(df['Date'].value_counts)\n",
        "#Test Before 2017 Looks good."
      ],
      "execution_count": 153,
      "outputs": [
        {
          "output_type": "stream",
          "text": [
            "<bound method IndexOpsMixin.value_counts of 0       06/28/2014 12:00:00 AM\n",
            "1       03/21/2013 12:00:00 AM\n",
            "2       03/13/2016 12:00:00 AM\n",
            "3       03/31/2016 12:00:00 AM\n",
            "4       02/13/2013 12:00:00 AM\n",
            "5       06/29/2014 12:00:00 AM\n",
            "6       08/12/2012 12:00:00 AM\n",
            "7       11/10/2013 12:00:00 AM\n",
            "8       04/25/2012 12:00:00 AM\n",
            "9       05/15/2013 12:00:00 AM\n",
            "10      08/23/2012 12:00:00 AM\n",
            "11      07/05/2015 12:00:00 AM\n",
            "12                         NaN\n",
            "13      05/14/2015 12:00:00 AM\n",
            "14      01/13/2016 12:00:00 AM\n",
            "15      08/19/2013 12:00:00 AM\n",
            "16      01/29/2014 12:00:00 AM\n",
            "17      03/02/2012 12:00:00 AM\n",
            "18      01/30/2016 12:00:00 AM\n",
            "19      12/20/2016 12:00:00 AM\n",
            "20      11/14/2014 12:00:00 AM\n",
            "21      06/02/2015 12:00:00 AM\n",
            "22      05/02/2014 12:00:00 AM\n",
            "23      10/07/2016 12:00:00 AM\n",
            "24      07/16/2016 12:00:00 AM\n",
            "25      10/13/2017 12:00:00 AM\n",
            "26      02/10/2018 12:00:00 AM\n",
            "27      04/12/2015 12:00:00 AM\n",
            "28      02/27/2015 12:00:00 AM\n",
            "29      04/11/2018 12:00:00 AM\n",
            "                 ...          \n",
            "5075    12/31/2016 12:00:00 AM\n",
            "5076    05/17/2016 12:00:00 AM\n",
            "5077    04/11/2013 12:00:00 AM\n",
            "5078    08/12/2017 12:00:00 AM\n",
            "5079    03/08/2013 12:00:00 AM\n",
            "5080    02/04/2018 12:00:00 AM\n",
            "5081    05/23/2014 12:00:00 AM\n",
            "5082    12/28/2012 12:00:00 AM\n",
            "5083    03/22/2017 12:00:00 AM\n",
            "5084    10/31/2018 12:00:00 AM\n",
            "5085    10/08/2013 12:00:00 AM\n",
            "5086    08/27/2012 12:00:00 AM\n",
            "5087    09/28/2015 12:00:00 AM\n",
            "5088    12/04/2016 12:00:00 AM\n",
            "5089    12/26/2016 12:00:00 AM\n",
            "5090    06/25/2017 12:00:00 AM\n",
            "5091    01/20/2014 12:00:00 AM\n",
            "5092    06/16/2018 12:00:00 AM\n",
            "5093    01/21/2016 12:00:00 AM\n",
            "5094    04/06/2012 12:00:00 AM\n",
            "5095    03/17/2018 12:00:00 AM\n",
            "5096    07/31/2016 12:00:00 AM\n",
            "5097    12/02/2017 12:00:00 AM\n",
            "5098    04/17/2014 12:00:00 AM\n",
            "5099    01/07/2015 12:00:00 AM\n",
            "5100    09/08/2015 12:00:00 AM\n",
            "5101    07/22/2017 12:00:00 AM\n",
            "5102    08/14/2018 12:00:00 AM\n",
            "5103    03/16/2014 12:00:00 AM\n",
            "5104    09/15/2016 12:00:00 AM\n",
            "Name: Date, Length: 5105, dtype: object>\n"
          ],
          "name": "stdout"
        }
      ]
    },
    {
      "cell_type": "code",
      "metadata": {
        "id": "Y-HR3BvaL6Gs",
        "colab_type": "code",
        "colab": {
          "base_uri": "https://localhost:8080/",
          "height": 87
        },
        "outputId": "d8263d6d-8fa3-45b4-d440-38aca44364df"
      },
      "source": [
        "df['Date'] = pd.to_datetime(df['Date'])\n",
        "#Masks to split DataFrame\n",
        "final_date = '01-01-2018'\n",
        "final_data = '01-30-2017'\n",
        "early_data = '01-01-2016'\n",
        "dfor = df.copy()\n",
        "stockmask = dfor['Date'] >= early_data\n",
        "stockmask2 = dfor['Date'] >= final_date\n",
        "dfor = df[stockmask]\n",
        "dffor = df[stockmask2]\n",
        "dfor.groupby(dfor.Date.dt.year)\n",
        "testmask = df['Date'] >= final_date\n",
        "trainmask = df['Date'] <= final_date\n",
        "dfor['Date'] = dfor['Date'].astype(str)\n",
        "dfor['AnyOpioid']=dfor['AnyOpioid'].astype(int)"
      ],
      "execution_count": 154,
      "outputs": [
        {
          "output_type": "stream",
          "text": [
            "/usr/local/lib/python3.6/dist-packages/ipykernel_launcher.py:10: UserWarning:\n",
            "\n",
            "Boolean Series key will be reindexed to match DataFrame index.\n",
            "\n"
          ],
          "name": "stderr"
        }
      ]
    },
    {
      "cell_type": "code",
      "metadata": {
        "id": "PhskPcS0MqPK",
        "colab_type": "code",
        "colab": {}
      },
      "source": [
        "df['Date'] = df['Date'].astype(str)\n",
        "test = df[testmask]\n",
        "train = df[trainmask]"
      ],
      "execution_count": 0,
      "outputs": []
    },
    {
      "cell_type": "code",
      "metadata": {
        "id": "j8DDrMdHMxvG",
        "colab_type": "code",
        "colab": {}
      },
      "source": [
        "target =  'AnyOpioid'\n",
        "X_tr = train.drop(columns=target)\n",
        "y_tr = train[target]\n",
        "X_te = test.drop(columns=target)\n",
        "y_te = test[target]"
      ],
      "execution_count": 0,
      "outputs": []
    },
    {
      "cell_type": "markdown",
      "metadata": {
        "id": "w2fSgrgqPGHd",
        "colab_type": "text"
      },
      "source": [
        "# pipeline model"
      ]
    },
    {
      "cell_type": "code",
      "metadata": {
        "id": "uXJeC9sVPnzc",
        "colab_type": "code",
        "colab": {}
      },
      "source": [
        "#Lol see you in an hour google colab\n",
        "pipeline = make_pipeline(\n",
        "    ce.OrdinalEncoder(), \n",
        "    IterativeImputer(), \n",
        "    RandomForestClassifier(n_estimators=2500, random_state=35, n_jobs=-3)\n",
        ")"
      ],
      "execution_count": 0,
      "outputs": []
    },
    {
      "cell_type": "code",
      "metadata": {
        "id": "QYSsXMHR04PT",
        "colab_type": "code",
        "colab": {
          "base_uri": "https://localhost:8080/",
          "height": 70
        },
        "outputId": "f0285468-b239-4f8d-da6e-6bfb1428b6eb"
      },
      "source": [
        "pip install plotly"
      ],
      "execution_count": 158,
      "outputs": [
        {
          "output_type": "stream",
          "text": [
            "Requirement already satisfied: plotly in /usr/local/lib/python3.6/dist-packages (4.1.0)\n",
            "Requirement already satisfied: six in /usr/local/lib/python3.6/dist-packages (from plotly) (1.12.0)\n",
            "Requirement already satisfied: retrying>=1.3.3 in /usr/local/lib/python3.6/dist-packages (from plotly) (1.3.3)\n"
          ],
          "name": "stdout"
        }
      ]
    },
    {
      "cell_type": "markdown",
      "metadata": {
        "id": "kAUdLQoT1HUF",
        "colab_type": "text"
      },
      "source": [
        "# Visual Modeling"
      ]
    },
    {
      "cell_type": "code",
      "metadata": {
        "id": "GCKEi_-c1JSx",
        "colab_type": "code",
        "colab": {
          "base_uri": "https://localhost:8080/",
          "height": 616
        },
        "outputId": "00cde8d7-5143-4a15-a3ad-3f713956cb2f"
      },
      "source": [
        "import plotly.express as px\n",
        "import plotly.graph_objects as go\n",
        "fig = px.scatter(dfor, x=\"Date\", y='DescriptionofInjury', color=\"Age\",\n",
        "                 size='AnyOpioid',\n",
        "                 title='Accidental Drug-Related Deaths by Cause')\n",
        "fig.update_layout(\n",
        "    xaxis=go.layout.XAxis(\n",
        "        rangeselector=dict(\n",
        "            buttons=list([\n",
        "                dict(count=1,\n",
        "                     label=\"1m\",\n",
        "                     step=\"month\",\n",
        "                     stepmode=\"backward\"),\n",
        "                dict(count=6,\n",
        "                     label=\"6m\",\n",
        "                     step=\"month\",\n",
        "                     stepmode=\"backward\"),\n",
        "                dict(count=1,\n",
        "                     label=\"1y\",\n",
        "                     step=\"year\",\n",
        "                     stepmode=\"backward\"),\n",
        "                dict(step=\"all\")\n",
        "            ])\n",
        "        ),\n",
        "        rangeslider=dict(\n",
        "            visible=True\n",
        "        ),\n",
        "        type=\"date\"\n",
        "    )\n",
        ")\n",
        "fig.show()"
      ],
      "execution_count": 159,
      "outputs": [
        {
          "output_type": "display_data",
          "data": {
            "text/html": [
              "<html>\n",
              "<head><meta charset=\"utf-8\" /></head>\n",
              "<body>\n",
              "    <div>\n",
              "            <script src=\"https://cdnjs.cloudflare.com/ajax/libs/mathjax/2.7.5/MathJax.js?config=TeX-AMS-MML_SVG\"></script><script type=\"text/javascript\">if (window.MathJax) {MathJax.Hub.Config({SVG: {font: \"STIX-Web\"}});}</script>\n",
              "                <script type=\"text/javascript\">window.PlotlyConfig = {MathJaxConfig: 'local'};</script>\n",
              "        <script src=\"https://cdn.plot.ly/plotly-latest.min.js\"></script>    \n",
              "            <div id=\"5313b535-c52c-4fc4-ba5d-dc4b1303c698\" class=\"plotly-graph-div\" style=\"height:600px; width:100%;\"></div>\n",
              "            <script type=\"text/javascript\">\n",
              "                \n",
              "                    window.PLOTLYENV=window.PLOTLYENV || {};\n",
              "                    \n",
              "                if (document.getElementById(\"5313b535-c52c-4fc4-ba5d-dc4b1303c698\")) {\n",
              "                    Plotly.newPlot(\n",
              "                        '5313b535-c52c-4fc4-ba5d-dc4b1303c698',\n",
              "                        [{\"hoverlabel\": {\"namelength\": 0}, \"hovertemplate\": \"Date=%{x}<br>DescriptionofInjury=%{y}<br>AnyOpioid=%{marker.size}<br>Age=%{marker.color}\", \"legendgroup\": \"\", \"marker\": {\"color\": [51.0, 25.0, 40.0, 49.0, 34.0, 39.0, 49.0, 36.0, 61.0, 42.0, 41.0, 29.0, 40.0, 38.0, 59.0, 47.0, 41.0, 53.0, 38.0, 57.0, 30.0, 37.0, 53.0, 45.0, 64.0, 43.0, 22.0, 24.0, 22.0, 40.0, 64.0, 26.0, 48.0, 52.0, 46.0, 29.0, 32.0, 45.0, 60.0, 30.0, 51.0, 57.0, 59.0, 29.0, 47.0, 53.0, 47.0, 56.0, 24.0, 63.0, 40.0, 54.0, 49.0, 62.0, 34.0, 36.0, 60.0, 33.0, 30.0, 31.0, 24.0, 71.0, 30.0, 59.0, 39.0, 36.0, 42.0, 50.0, 54.0, 52.0, 39.0, 41.0, 48.0, 48.0, 47.0, 39.0, 41.0, 23.0, 51.0, 67.0, 28.0, 33.0, 31.0, 52.0, 34.0, 36.0, 67.0, 45.0, 44.0, 69.0, 34.0, 50.0, 67.0, 29.0, 19.0, 48.0, 37.0, 29.0, 38.0, 51.0, 29.0, 57.0, 58.0, 42.0, 55.0, 36.0, 25.0, 57.0, 56.0, 29.0, 47.0, 24.0, 53.0, 46.0, 38.0, 19.0, 36.0, 43.0, 36.0, 32.0, 53.0, 40.0, 37.0, 47.0, 59.0, 44.0, 42.0, 34.0, 31.0, 30.0, 42.0, 38.0, 46.0, 45.0, 33.0, 66.0, 35.0, 28.0, 33.0, 28.0, 47.0, 36.0, 50.0, 55.0, 47.0, 50.0, 22.0, 21.0, 33.0, 34.0, 58.0, 28.0, 36.0, 27.0, 34.0, 33.0, 19.0, 65.0, 67.0, 23.0, 37.0, 55.0, 41.0, 51.0, 21.0, 27.0, 26.0, 39.0, 55.0, 28.0, 59.0, 54.0, 38.0, 36.0, 20.0, 64.0, 43.0, 39.0, 50.0, 27.0, 52.0, 39.0, 33.0, 48.0, 15.0, 64.0, 52.0, 36.0, 50.0, 54.0, 62.0, 50.0, 36.0, 37.0, 52.0, 29.0, 54.0, 43.0, 20.0, 54.0, 64.0, 37.0, 41.0, 36.0, 65.0, 25.0, 65.0, 36.0, 54.0, 31.0, 60.0, 52.0, 65.0, 31.0, 40.0, 46.0, 49.0, 41.0, 24.0, 25.0, 43.0, 55.0, 53.0, 51.0, 53.0, 43.0, 56.0, 49.0, 29.0, 44.0, 37.0, 28.0, 55.0, 38.0, 62.0, 29.0, 34.0, 44.0, 25.0, 56.0, 43.0, 43.0, 55.0, 41.0, 33.0, 50.0, 37.0, 35.0, 37.0, 40.0, 37.0, 37.0, 21.0, 41.0, 65.0, 53.0, 28.0, 37.0, 23.0, 46.0, 33.0, 47.0, 37.0, 65.0, 57.0, 40.0, 61.0, 32.0, 42.0, 46.0, 51.0, 61.0, 61.0, 50.0, 38.0, 49.0, 49.0, 51.0, 42.0, 30.0, 36.0, 32.0, 42.0, 56.0, 28.0, 34.0, 40.0, 41.0, 21.0, 22.0, 38.0, 37.0, 41.0, 60.0, 37.0, 39.0, 35.0, 27.0, 38.0, 58.0, 27.0, 36.0, 28.0, 47.0, 23.0, 65.0, 50.0, 47.0, 34.0, 30.0, 33.0, 39.0, 29.0, 61.0, 41.0, 24.0, 49.0, 51.0, 44.0, 30.0, 58.0, 68.0, 38.0, 26.0, 57.0, 27.0, 58.0, 33.0, 30.0, 23.0, 38.0, 23.0, 37.0, 74.0, 41.0, 61.0, 48.0, 30.0, 35.0, 54.0, 36.0, 38.0, 49.0, 39.0, 33.0, 40.0, 34.0, 34.0, 53.0, 57.0, 55.0, 48.0, 52.0, 37.0, 32.0, 35.0, 62.0, 62.0, 43.0, 40.0, 64.0, 64.0, 25.0, 64.0, 35.0, 54.0, 62.0, 48.0, 35.0, 35.0, 66.0, 41.0, 30.0, 32.0, 45.0, 35.0, 23.0, 56.0, 44.0, 64.0, 51.0, 52.0, 51.0, 22.0, 28.0, 52.0, 34.0, 24.0, 51.0, 59.0, 84.0, 26.0, 30.0, 50.0, 33.0, 50.0, 53.0, 47.0, 53.0, 54.0, 39.0, 32.0, 41.0, 38.0, 61.0, 44.0, 48.0, 47.0, 39.0, 51.0, 41.0, 36.0, 29.0, 63.0, 37.0, 38.0, 58.0, 52.0, 44.0, 34.0, 20.0, 57.0, 33.0, 36.0, 53.0, 35.0, 54.0, 49.0, 66.0, 36.0, 61.0, 55.0, 51.0, 22.0, 54.0, 30.0, 35.0, 23.0, 33.0, 42.0, 66.0, 37.0, 49.0, 54.0, 20.0, 29.0, 26.0, 37.0, 24.0, 23.0, 57.0, 30.0, 54.0, 46.0, 58.0, 34.0, 52.0, 20.0, 40.0, 27.0, 57.0, 43.0, 56.0, 63.0, 31.0, 25.0, 53.0, 43.0, 30.0, 50.0, 56.0, 37.0, 64.0, 36.0, 32.0, 52.0, 60.0, 36.0, 34.0, 25.0, 40.0, 25.0, 46.0, 50.0, 32.0, 31.0, 24.0, 29.0, 47.0, 51.0, 29.0, 41.0, 29.0, 30.0, 34.0, 38.0, 42.0, 43.0, 29.0, 57.0, 37.0, 43.0, 42.0, 44.0, 48.0, 57.0, 34.0, 51.0, 66.0, 57.0, 41.0, 45.0, 42.0, 48.0, 46.0, 23.0, 44.0, 41.0, 40.0, 57.0, 53.0, 27.0, 34.0, 28.0, 26.0, 44.0, 44.0, 38.0, 48.0, 30.0, 23.0, 59.0, 48.0, 36.0, 49.0, 36.0, 45.0, 42.0, 44.0, 27.0, 28.0, 46.0, 30.0, 26.0, 54.0, 58.0, 47.0, 52.0, 43.0, 44.0, 48.0, 45.0, 23.0, 34.0, 53.0, 63.0, 43.0, 72.0, 42.0, 66.0, 32.0, 59.0, 52.0, 33.0, 44.0, 38.0, 54.0, 48.0, 28.0, 33.0, 51.0, 63.0, 20.0, 35.0, 54.0, 60.0, 56.0, 38.0, 49.0, 65.0, 52.0, 69.0, 38.0, 61.0, 28.0, 50.0, 68.0, 55.0, 46.0, 33.0, 49.0, 48.0, 24.0, 53.0, 28.0, 59.0, 59.0, 36.0, 17.0, 62.0, 27.0, 52.0, 53.0, 40.0, 39.0, 44.0, 35.0, 34.0, 54.0, 48.0, 61.0, 30.0, 32.0, 53.0, 49.0, 29.0, 58.0, 43.0, 30.0, 53.0, 45.0, 17.0, 43.0, 21.0, 23.0, 35.0, 39.0, 42.0, 37.0, 64.0, 65.0, 60.0, 42.0, 56.0, 36.0, 41.0, 33.0, 50.0, 21.0, 30.0, 34.0, 52.0, 45.0, 47.0, 63.0, 32.0, 57.0, 29.0, 31.0, 27.0, 22.0, 54.0, 46.0, 56.0, 57.0, 60.0, 33.0, 29.0, 47.0, 29.0, 53.0, 33.0, 38.0, 59.0, 27.0, 59.0, 33.0, 44.0, 65.0, 31.0, 45.0, 59.0, 32.0, 50.0, 41.0, 46.0, 51.0, 24.0, 45.0, 35.0, 42.0, 51.0, 43.0, 41.0, 25.0, 24.0, 39.0, 21.0, 27.0, 36.0, 33.0, 66.0, 29.0, 35.0, 50.0, 35.0, 27.0, 48.0, 57.0, 50.0, 42.0, 59.0, 31.0, 41.0, 22.0, 30.0, 28.0, 51.0, 45.0, 41.0, 34.0, 55.0, 52.0, 31.0, 50.0, 54.0, 43.0, 49.0, 44.0, 60.0, 29.0, 25.0, 35.0, 62.0, 54.0, 27.0, 53.0, 32.0, 63.0, 31.0, 44.0, 60.0, 44.0, 48.0, 75.0, 25.0, 38.0, 27.0, 43.0, 30.0, 65.0, 47.0, 52.0, 60.0, 44.0, 56.0, 44.0, 41.0, 32.0, 59.0, 32.0, 53.0, 41.0, 59.0, 47.0, 32.0, 36.0, 33.0, 43.0, 36.0, 42.0, 33.0, 56.0, 30.0, 54.0, 57.0, 25.0, 48.0, 46.0, 48.0, 34.0, 25.0, 59.0, 29.0, 41.0, 54.0, 36.0, 24.0, 52.0, 27.0, 46.0, 24.0, 54.0, 35.0, 56.0, 45.0, 23.0, 48.0, 29.0, 52.0, 46.0, 32.0, 28.0, 69.0, 39.0, 66.0, 49.0, 46.0, 54.0, 57.0, 24.0, 60.0, 60.0, 47.0, 28.0, 45.0, 23.0, 48.0, 48.0, 46.0, 51.0, 35.0, 44.0, 43.0, 40.0, 28.0, 23.0, 63.0, 40.0, 34.0, 63.0, 56.0, 53.0, 54.0, 51.0, 30.0, 50.0, 53.0, 46.0, 28.0, 36.0, 22.0, 42.0, 44.0, 35.0, 37.0, 33.0, 51.0, 61.0, 50.0, 58.0, 23.0, 37.0, 29.0, 34.0, 59.0, 52.0, 48.0, 24.0, 57.0, 59.0, 53.0, 45.0, 48.0, 48.0, 64.0, 39.0, 28.0, 29.0, 27.0, 34.0, 26.0, 54.0, 58.0, 55.0, 22.0, 46.0, 40.0, 59.0, 56.0, 47.0, 52.0, 36.0, 48.0, 43.0, 35.0, 36.0, 49.0, 57.0, 21.0, 25.0, 63.0, 32.0, 46.0, 63.0, 66.0, 57.0, 38.0, 62.0, 31.0, 58.0, 57.0, 39.0, 55.0, 39.0, 27.0, 22.0, 60.0, 48.0, 49.0, 55.0, 42.0, 26.0, 36.0, 53.0, 35.0, 46.0, 51.0, 35.0, 53.0, 19.0, 54.0, 34.0, 57.0, 55.0, 35.0, 44.0, 26.0, 24.0, 47.0, 28.0, 60.0, 56.0, 34.0, 29.0, 38.0, 55.0, 29.0, 64.0, 27.0, 37.0, 55.0, 69.0, 52.0, 54.0, 56.0, 52.0, 50.0, 22.0, 36.0, 17.0, 46.0, 48.0, 63.0, 40.0, 35.0, 32.0, 30.0, 24.0, 29.0, 45.0, 51.0, 43.0, 64.0, 49.0, 57.0, 55.0, 33.0, 55.0, 55.0, 24.0, 56.0, 44.0, 43.0, 58.0, 38.0, 44.0, 61.0, 41.0, 37.0, 26.0, 34.0, 34.0, 51.0, 39.0, 32.0, 34.0, 34.0, 40.0, 50.0, 39.0, 57.0, 42.0, 50.0, 27.0, 30.0, 26.0, 40.0, 56.0, 56.0, 61.0, 61.0, 31.0, 50.0, 49.0, 33.0, 24.0, 54.0, 34.0, 40.0, 29.0, 60.0, 44.0, 41.0, 30.0, 48.0, 49.0, 39.0, 27.0, 26.0, 52.0, 46.0, 37.0, 47.0, 31.0, 32.0, 37.0, 30.0], \"coloraxis\": \"coloraxis\", \"size\": [1, 1, 1, 0, 1, 1, 1, 1, 1, 1, 1, 1, 1, 1, 1, 0, 1, 0, 1, 1, 1, 1, 1, 0, 1, 1, 1, 1, 1, 1, 1, 1, 1, 1, 1, 1, 1, 1, 1, 1, 1, 1, 1, 1, 1, 1, 1, 1, 1, 0, 1, 0, 0, 1, 1, 1, 0, 1, 1, 1, 1, 1, 1, 1, 1, 1, 0, 1, 1, 1, 0, 1, 1, 1, 1, 1, 1, 1, 1, 1, 1, 1, 1, 1, 1, 1, 1, 1, 1, 0, 1, 1, 0, 1, 1, 1, 1, 1, 1, 1, 1, 1, 1, 1, 1, 1, 1, 1, 1, 1, 1, 1, 1, 1, 1, 1, 1, 1, 1, 1, 1, 1, 0, 0, 1, 1, 1, 1, 1, 1, 0, 1, 1, 1, 1, 0, 1, 1, 1, 1, 1, 1, 0, 1, 0, 1, 0, 1, 0, 1, 1, 1, 1, 1, 1, 1, 1, 1, 1, 1, 1, 0, 1, 1, 1, 1, 1, 1, 1, 1, 1, 1, 1, 1, 1, 1, 1, 1, 1, 1, 0, 1, 1, 1, 1, 1, 1, 1, 1, 1, 1, 1, 1, 1, 1, 1, 1, 1, 1, 1, 1, 1, 1, 1, 0, 1, 0, 1, 1, 1, 0, 1, 1, 1, 1, 1, 0, 1, 1, 1, 1, 1, 1, 1, 1, 1, 1, 1, 1, 1, 1, 1, 1, 1, 1, 1, 1, 1, 1, 1, 1, 1, 1, 1, 1, 1, 1, 1, 1, 1, 1, 1, 1, 1, 1, 1, 1, 1, 1, 1, 1, 1, 1, 0, 0, 1, 1, 1, 1, 1, 1, 1, 1, 0, 1, 1, 1, 1, 1, 1, 1, 1, 0, 1, 1, 1, 1, 1, 1, 1, 1, 1, 1, 1, 1, 1, 1, 1, 1, 0, 1, 1, 1, 1, 1, 1, 1, 1, 1, 1, 1, 1, 1, 1, 1, 1, 1, 1, 1, 0, 1, 1, 0, 1, 1, 1, 1, 1, 1, 1, 0, 1, 1, 1, 1, 1, 0, 1, 1, 1, 1, 1, 1, 1, 1, 1, 1, 1, 1, 1, 1, 1, 1, 1, 1, 0, 1, 1, 1, 1, 1, 1, 1, 0, 1, 1, 0, 1, 1, 1, 1, 1, 1, 1, 1, 1, 1, 0, 1, 1, 1, 1, 1, 1, 1, 1, 1, 1, 1, 1, 1, 1, 1, 1, 1, 1, 1, 1, 1, 1, 1, 1, 1, 0, 1, 1, 1, 1, 1, 1, 1, 1, 1, 1, 1, 1, 1, 1, 1, 1, 1, 1, 1, 1, 1, 1, 1, 1, 1, 1, 1, 1, 1, 1, 1, 1, 1, 1, 1, 1, 1, 1, 1, 1, 1, 1, 1, 1, 1, 1, 1, 1, 1, 1, 1, 1, 1, 1, 1, 1, 1, 1, 1, 1, 1, 1, 1, 1, 1, 1, 1, 1, 1, 1, 1, 1, 0, 1, 1, 1, 1, 1, 1, 0, 1, 1, 1, 1, 1, 1, 1, 1, 1, 1, 1, 1, 1, 1, 1, 0, 1, 1, 0, 1, 1, 1, 1, 0, 1, 1, 1, 1, 1, 1, 1, 1, 1, 1, 1, 1, 1, 1, 1, 1, 1, 1, 1, 1, 1, 1, 1, 1, 1, 1, 1, 1, 1, 1, 0, 1, 1, 1, 1, 1, 1, 1, 1, 0, 1, 1, 0, 1, 1, 1, 1, 1, 1, 1, 1, 1, 1, 1, 1, 1, 1, 1, 1, 1, 1, 1, 1, 0, 1, 1, 1, 1, 1, 1, 1, 0, 1, 1, 1, 1, 1, 1, 1, 1, 1, 1, 0, 1, 1, 1, 1, 1, 1, 1, 1, 0, 1, 1, 1, 1, 1, 1, 1, 1, 1, 1, 1, 1, 1, 1, 1, 1, 1, 1, 1, 0, 1, 1, 1, 1, 1, 1, 0, 1, 1, 1, 1, 1, 1, 1, 1, 1, 1, 1, 1, 1, 1, 1, 1, 1, 0, 1, 1, 1, 1, 1, 1, 1, 1, 1, 1, 1, 1, 1, 1, 1, 0, 1, 1, 1, 1, 1, 1, 1, 1, 1, 1, 1, 1, 1, 1, 1, 1, 1, 1, 1, 1, 1, 1, 1, 1, 1, 1, 1, 1, 1, 1, 1, 1, 1, 1, 1, 1, 1, 1, 1, 1, 1, 1, 1, 1, 1, 0, 1, 1, 1, 1, 1, 1, 1, 1, 1, 1, 1, 1, 0, 1, 1, 1, 1, 1, 1, 1, 1, 1, 1, 1, 1, 1, 1, 1, 1, 1, 1, 1, 1, 1, 0, 1, 1, 1, 1, 0, 1, 1, 1, 1, 1, 1, 1, 1, 1, 1, 1, 1, 1, 1, 1, 1, 1, 1, 1, 1, 1, 1, 1, 1, 1, 1, 1, 1, 1, 1, 1, 1, 1, 1, 1, 1, 1, 1, 1, 1, 1, 0, 1, 1, 1, 1, 1, 1, 1, 0, 1, 1, 1, 1, 1, 1, 1, 1, 1, 0, 1, 1, 1, 1, 1, 1, 1, 1, 1, 1, 1, 1, 1, 1, 1, 1, 0, 1, 1, 1, 1, 1, 1, 1, 1, 1, 1, 1, 1, 1, 1, 1, 1, 1, 1, 1, 1, 1, 0, 1, 0, 1, 1, 1, 1, 1, 1, 1, 1, 1, 1, 1, 1, 1, 1, 1, 1, 1, 1, 1, 1, 1, 1, 1, 1, 1, 1, 1, 1, 1, 1, 1, 1, 1, 1, 1, 1, 1, 1, 1, 1, 1, 1, 1, 1, 1, 1, 1, 1, 1, 1, 1, 1, 1, 1, 1, 1, 1, 1, 1, 1, 1, 1, 1, 1, 1, 1, 1, 1, 1, 1, 1, 1, 1, 1, 1, 1, 1, 1, 1, 1, 1, 1, 1, 1, 1, 1, 1, 1, 1, 1, 1, 1, 1, 1, 1, 0, 1, 1, 1, 1, 1, 1, 0, 0, 1, 1, 1, 1, 1, 1, 1, 1, 1, 1, 1, 1, 1, 1, 1, 1, 0, 1, 1, 1, 1, 1, 1, 1, 1, 1, 1, 1, 1, 1, 1, 1, 1, 1, 1, 1, 1, 1, 1, 1, 1, 1, 1, 1, 1, 1, 1, 1, 1, 1, 1, 1, 1, 1, 1, 1, 1, 1, 1, 1, 1, 1, 1, 1, 1, 1], \"sizemode\": \"area\", \"sizeref\": 0.0025, \"symbol\": \"circle\"}, \"mode\": \"markers\", \"name\": \"\", \"showlegend\": false, \"type\": \"scattergl\", \"x\": [\"2018-02-10\", \"2018-04-11\", \"2018-06-18\", \"2018-05-09\", \"2018-02-21\", \"2018-01-01\", \"2018-12-23\", \"2018-09-22\", \"2018-06-21\", \"2018-01-04\", \"2018-05-11\", \"2018-05-13\", \"2018-09-19\", \"2018-10-17\", \"2018-03-07\", \"2018-02-03\", \"2018-10-13\", \"2018-08-12\", \"2018-02-07\", \"2018-03-16\", \"2018-09-29\", \"2018-07-26\", \"2018-11-26\", \"2018-08-12\", \"2018-10-06\", \"2018-11-14\", \"2018-10-15\", \"2018-02-03\", \"2018-10-26\", \"2018-08-06\", \"2018-04-11\", \"2018-02-25\", \"2018-05-30\", \"2018-04-02\", \"2018-03-21\", \"2018-06-03\", \"2018-12-15\", \"2018-11-17\", \"2018-04-19\", \"2018-08-01\", \"2018-09-15\", \"2018-11-04\", \"2018-08-05\", \"2018-06-29\", \"2018-03-29\", \"2018-02-21\", \"2018-07-03\", \"2018-07-06\", \"2018-04-28\", \"2018-11-08\", \"2018-08-24\", \"2018-05-23\", \"2018-06-28\", \"2018-05-19\", \"2018-06-07\", \"2018-01-04\", \"2018-06-13\", \"2018-02-27\", \"2018-12-03\", \"2018-07-09\", \"2018-04-26\", \"2018-05-03\", \"2018-08-18\", \"2018-06-23\", \"2018-09-22\", \"2018-07-13\", \"2018-01-03\", \"2018-10-08\", \"2018-10-04\", \"2018-01-07\", \"2018-02-23\", \"2018-06-06\", \"2018-07-10\", \"2018-03-11\", \"2018-09-29\", \"2018-05-07\", \"2018-06-27\", \"2018-07-14\", \"2018-03-16\", \"2018-03-03\", \"2018-11-19\", \"2018-05-06\", \"2018-11-11\", \"2018-08-29\", \"2018-10-31\", \"2018-09-09\", \"2018-04-03\", \"2018-01-25\", \"2018-05-26\", \"2018-04-10\", \"2018-03-09\", \"2018-07-23\", \"2018-07-03\", \"2018-09-12\", \"2018-01-15\", \"2018-12-11\", \"2018-10-20\", \"2018-02-15\", \"2018-01-21\", \"2018-06-30\", \"2018-08-27\", \"2018-11-05\", \"2018-07-18\", \"2018-03-26\", \"2018-01-31\", \"2018-07-02\", \"2018-11-02\", \"2018-05-13\", \"2018-09-03\", \"2018-06-03\", \"2018-11-26\", \"2018-03-03\", \"2018-04-16\", \"2018-07-10\", \"2018-02-28\", \"2018-06-12\", \"2018-05-07\", \"2018-06-14\", \"2018-06-05\", \"2018-04-04\", \"2018-08-22\", \"2018-10-03\", \"2018-10-13\", \"2018-06-19\", \"2018-05-04\", \"2018-11-04\", \"2018-01-29\", \"2018-07-29\", \"2018-05-02\", \"2018-02-24\", \"2018-08-28\", \"2018-12-13\", \"2018-07-15\", \"2018-04-01\", \"2018-09-04\", \"2018-08-01\", \"2018-01-19\", \"2018-03-11\", \"2018-04-05\", \"2018-06-20\", \"2018-11-12\", \"2018-08-31\", \"2018-05-05\", \"2018-03-01\", \"2018-04-06\", \"2018-01-13\", \"2018-10-01\", \"2018-09-08\", \"2018-07-03\", \"2018-02-13\", \"2018-04-07\", \"2018-03-10\", \"2018-02-06\", \"2018-07-18\", \"2018-05-24\", \"2018-07-05\", \"2018-10-26\", \"2018-09-21\", \"2018-03-24\", \"2018-12-09\", \"2018-07-22\", \"2018-06-15\", \"2018-04-09\", \"2018-01-24\", \"2018-11-03\", \"2018-07-08\", \"2018-03-09\", \"2018-04-15\", \"2018-05-12\", \"2018-12-17\", \"2018-04-18\", \"2018-12-25\", \"2018-05-15\", \"2018-09-09\", \"2018-06-02\", \"2018-11-24\", \"2018-04-24\", \"2018-09-02\", \"2018-12-17\", \"2018-03-18\", \"2018-06-03\", \"2018-03-04\", \"2018-11-05\", \"2018-07-20\", \"2018-08-26\", \"2018-06-28\", \"2018-05-06\", \"2018-04-30\", \"2018-07-31\", \"2018-02-17\", \"2018-11-13\", \"2018-04-20\", \"2018-03-29\", \"2018-06-24\", \"2018-02-04\", \"2018-10-15\", \"2018-05-28\", \"2018-12-21\", \"2018-07-12\", \"2018-11-26\", \"2018-11-22\", \"2018-09-29\", \"2018-03-06\", \"2018-05-12\", \"2018-06-29\", \"2018-03-17\", \"2018-08-12\", \"2018-09-18\", \"2018-09-27\", \"2018-03-14\", \"2018-09-16\", \"2018-08-11\", \"2018-12-01\", \"2018-01-20\", \"2018-10-05\", \"2018-09-10\", \"2018-01-12\", \"2018-07-28\", \"2018-09-07\", \"2018-06-17\", \"2018-09-15\", \"2018-02-02\", \"2018-12-05\", \"2018-12-12\", \"2018-07-12\", \"2018-08-08\", \"2018-08-25\", \"2018-07-17\", \"2018-02-26\", \"2018-10-28\", \"2018-09-25\", \"2018-12-28\", \"2018-12-29\", \"2018-06-02\", \"2018-04-08\", \"2018-11-16\", \"2018-03-20\", \"2018-10-23\", \"2018-09-19\", \"2018-06-11\", \"2018-08-03\", \"2018-07-12\", \"2018-06-04\", \"2018-08-05\", \"2018-04-14\", \"2018-10-10\", \"2018-03-13\", \"2018-06-26\", \"2018-07-08\", \"2018-02-19\", \"2018-05-17\", \"2018-05-21\", \"2018-08-03\", \"2018-09-29\", \"2018-06-29\", \"2018-11-22\", \"2018-02-15\", \"2018-02-21\", \"2018-10-12\", \"2018-03-26\", \"2018-11-04\", \"2018-08-26\", \"2018-06-26\", \"2018-04-28\", \"2018-07-08\", \"2018-10-09\", \"2018-05-20\", \"2018-06-07\", \"2018-11-23\", \"2018-12-15\", \"2018-06-17\", \"2018-12-02\", \"2018-04-10\", \"2018-06-23\", \"2018-10-16\", \"2018-01-04\", \"2018-03-21\", \"2018-02-03\", \"2018-11-16\", \"2018-10-23\", \"2018-12-07\", \"2018-10-19\", \"2018-08-05\", \"2018-05-13\", \"2018-04-22\", \"2018-11-18\", \"2018-10-20\", \"2018-04-11\", \"2018-05-06\", \"2018-10-07\", \"2018-07-01\", \"2018-11-13\", \"2018-12-04\", \"2018-03-04\", \"2018-04-03\", \"2018-06-04\", \"2018-01-18\", \"2018-02-16\", \"2018-09-07\", \"2018-12-29\", \"2018-05-28\", \"2018-05-11\", \"2018-05-24\", \"2018-12-22\", \"2018-03-12\", \"2018-09-18\", \"2018-09-22\", \"2018-02-01\", \"2018-07-17\", \"2018-03-16\", \"2018-03-17\", \"2018-01-21\", \"2018-09-27\", \"2018-02-11\", \"2018-07-01\", \"2018-06-25\", \"2018-08-11\", \"2018-01-30\", \"2018-11-15\", \"2018-08-28\", \"2018-11-02\", \"2018-04-16\", \"2018-11-24\", \"2018-06-16\", \"2018-09-03\", \"2018-03-29\", \"2018-02-09\", \"2018-12-03\", \"2018-08-23\", \"2018-04-25\", \"2018-10-31\", \"2018-11-11\", \"2018-05-03\", \"2018-08-20\", \"2018-01-13\", \"2018-05-13\", \"2018-08-13\", \"2018-07-24\", \"2018-03-23\", \"2018-12-13\", \"2018-09-15\", \"2018-01-15\", \"2018-11-04\", \"2018-12-09\", \"2018-12-28\", \"2018-07-19\", \"2018-06-03\", \"2018-11-19\", \"2018-11-08\", \"2018-03-03\", \"2018-01-06\", \"2018-05-22\", \"2018-09-08\", \"2018-06-13\", \"2018-05-05\", \"2018-07-10\", \"2018-06-06\", \"2018-07-30\", \"2018-09-26\", \"2018-02-27\", \"2018-10-26\", \"2018-02-25\", \"2018-01-02\", \"2018-09-23\", \"2018-10-07\", \"2018-12-17\", \"2018-01-06\", \"2018-02-23\", \"2018-09-17\", \"2018-10-13\", \"2018-03-08\", \"2018-07-22\", \"2018-03-16\", \"2018-03-25\", \"2018-03-31\", \"2018-07-15\", \"2018-11-03\", \"2018-06-04\", \"2018-03-18\", \"2018-12-01\", \"2018-12-17\", \"2018-09-30\", \"2018-06-23\", \"2018-06-24\", \"2018-08-25\", \"2018-11-12\", \"2018-12-17\", \"2018-09-02\", \"2018-08-09\", \"2018-02-03\", \"2018-05-04\", \"2018-04-18\", \"2018-05-03\", \"2018-03-23\", \"2018-08-25\", \"2018-06-14\", \"2018-10-30\", \"2018-04-27\", \"2018-02-11\", \"2018-06-03\", \"2018-08-22\", \"2018-09-30\", \"2018-07-13\", \"2018-10-04\", \"2018-05-09\", \"2018-06-15\", \"2018-09-16\", \"2018-07-04\", \"2018-02-06\", \"2018-08-18\", \"2018-06-07\", \"2018-09-13\", \"2018-12-13\", \"2018-09-26\", \"2018-04-16\", \"2018-06-02\", \"2018-11-07\", \"2018-05-20\", \"2018-03-02\", \"2018-02-28\", \"2018-09-21\", \"2018-10-26\", \"2018-06-12\", \"2018-12-12\", \"2018-08-08\", \"2018-01-13\", \"2018-02-27\", \"2018-04-03\", \"2018-01-20\", \"2018-10-14\", \"2018-11-03\", \"2018-01-29\", \"2018-03-06\", \"2018-07-28\", \"2018-11-26\", \"2018-05-02\", \"2018-02-24\", \"2018-04-07\", \"2018-02-02\", \"2018-06-11\", \"2018-01-26\", \"2018-02-08\", \"2018-04-06\", \"2018-07-12\", \"2018-03-14\", \"2018-02-13\", \"2018-07-06\", \"2018-12-24\", \"2018-06-20\", \"2018-09-05\", \"2018-02-19\", \"2018-10-09\", \"2018-11-05\", \"2018-09-14\", \"2018-05-17\", \"2018-10-17\", \"2018-05-10\", \"2018-03-20\", \"2018-11-15\", \"2018-06-22\", \"2018-06-15\", \"2018-10-21\", \"2018-10-20\", \"2018-01-20\", \"2018-08-05\", \"2018-05-14\", \"2018-07-27\", \"2018-04-14\", \"2018-10-05\", \"2018-01-12\", \"2018-04-06\", \"2018-07-03\", \"2018-06-28\", \"2018-10-06\", \"2018-04-30\", \"2018-03-05\", \"2018-05-07\", \"2018-07-16\", \"2018-12-07\", \"2018-06-18\", \"2018-04-20\", \"2018-09-10\", \"2018-04-02\", \"2018-11-22\", \"2018-05-31\", \"2018-06-23\", \"2018-12-28\", \"2018-04-07\", \"2018-03-10\", \"2018-05-23\", \"2018-06-29\", \"2018-04-08\", \"2018-05-12\", \"2018-12-04\", \"2018-09-08\", \"2018-11-01\", \"2018-01-25\", \"2018-11-16\", \"2018-07-17\", \"2018-04-02\", \"2018-03-09\", \"2018-03-12\", \"2018-05-25\", \"2018-12-13\", \"2018-02-01\", \"2018-12-13\", \"2018-03-20\", \"2018-01-05\", \"2018-10-24\", \"2018-07-22\", \"2018-09-11\", \"2018-01-15\", \"2018-08-05\", \"2018-05-13\", \"2018-06-29\", \"2018-12-08\", \"2018-12-29\", \"2018-12-28\", \"2018-03-29\", \"2018-04-14\", \"2018-06-27\", \"2018-11-09\", \"2018-07-03\", \"2018-08-27\", \"2018-09-01\", \"2018-11-02\", \"2018-11-25\", \"2018-06-02\", \"2018-03-03\", \"2018-06-06\", \"2018-06-11\", \"2018-05-22\", \"2018-12-03\", \"2018-06-18\", \"2018-11-09\", \"2018-12-02\", \"2018-01-17\", \"2018-02-09\", \"2018-01-03\", \"2018-09-10\", \"2018-11-22\", \"2018-09-23\", \"2018-07-12\", \"2018-01-10\", \"2018-01-04\", \"2018-01-27\", \"2018-02-03\", \"2018-02-28\", \"2018-02-22\", \"2018-07-21\", \"2018-09-18\", \"2018-05-01\", \"2018-03-10\", \"2018-06-22\", \"2018-12-21\", \"2018-08-31\", \"2018-09-29\", \"2018-07-11\", \"2018-10-08\", \"2018-03-02\", \"2018-05-06\", \"2018-08-08\", \"2018-09-08\", \"2018-12-15\", \"2018-04-01\", \"2018-08-04\", \"2018-10-26\", \"2018-02-25\", \"2018-05-27\", \"2018-04-10\", \"2018-12-30\", \"2018-03-19\", \"2018-07-04\", \"2018-09-21\", \"2018-10-19\", \"2018-08-03\", \"2018-06-29\", \"2018-12-10\", \"2018-09-14\", \"2018-01-21\", \"2018-06-25\", \"2018-11-04\", \"2018-02-20\", \"2018-07-03\", \"2018-12-26\", \"2018-01-30\", \"2018-07-19\", \"2018-02-05\", \"2018-03-18\", \"2018-04-11\", \"2018-09-02\", \"2018-06-02\", \"2018-05-18\", \"2018-01-05\", \"2018-04-17\", \"2018-07-30\", \"2018-02-15\", \"2018-07-09\", \"2018-04-24\", \"2018-05-05\", \"2018-12-03\", \"2018-06-12\", \"2018-05-03\", \"2018-05-09\", \"2018-10-07\", \"2018-01-04\", \"2018-09-22\", \"2018-12-19\", \"2018-06-20\", \"2018-05-13\", \"2018-10-18\", \"2018-10-17\", \"2018-08-13\", \"2018-03-09\", \"2018-10-13\", \"2018-11-12\", \"2018-05-11\", \"2018-03-11\", \"2018-04-10\", \"2018-02-06\", \"2018-03-31\", \"2018-09-28\", \"2018-07-14\", \"2018-03-17\", \"2018-08-12\", \"2018-11-14\", \"2018-11-19\", \"2018-07-27\", \"2018-06-16\", \"2018-11-13\", \"2018-10-26\", \"2018-09-26\", \"2018-09-22\", \"2018-12-11\", \"2018-08-08\", \"2018-02-27\", \"2018-12-27\", \"2018-05-31\", \"2018-04-11\", \"2018-04-08\", \"2018-09-21\", \"2018-12-04\", \"2018-10-15\", \"2018-08-04\", \"2018-03-19\", \"2018-11-03\", \"2018-02-13\", \"2018-05-27\", \"2018-03-12\", \"2018-07-07\", \"2018-12-24\", \"2018-10-10\", \"2018-11-05\", \"2018-02-18\", \"2018-05-20\", \"2018-02-01\", \"2018-05-16\", \"2018-03-31\", \"2018-05-04\", \"2018-02-17\", \"2018-08-20\", \"2018-04-27\", \"2018-10-17\", \"2018-07-29\", \"2018-04-20\", \"2018-05-08\", \"2018-01-20\", \"2018-10-14\", \"2018-05-12\", \"2018-10-04\", \"2018-10-08\", \"2018-03-06\", \"2018-09-16\", \"2018-06-23\", \"2018-11-26\", \"2018-05-12\", \"2018-06-28\", \"2018-08-14\", \"2018-06-07\", \"2018-03-25\", \"2018-10-07\", \"2018-03-16\", \"2018-02-05\", \"2018-06-20\", \"2018-09-30\", \"2018-07-28\", \"2018-01-11\", \"2018-06-24\", \"2018-07-22\", \"2018-08-11\", \"2018-09-15\", \"2018-04-01\", \"2018-11-18\", \"2018-11-12\", \"2018-02-03\", \"2018-07-16\", \"2018-08-24\", \"2018-03-04\", \"2018-12-06\", \"2018-04-07\", \"2018-10-02\", \"2018-05-23\", \"2018-10-29\", \"2018-03-10\", \"2018-10-31\", \"2018-04-08\", \"2018-07-27\", \"2018-11-02\", \"2018-10-21\", \"2018-06-10\", \"2018-02-15\", \"2018-12-17\", \"2018-06-04\", \"2018-07-11\", \"2018-03-14\", \"2018-05-14\", \"2018-08-26\", \"2018-10-12\", \"2018-11-04\", \"2018-11-07\", \"2018-04-13\", \"2018-12-17\", \"2018-03-29\", \"2018-07-08\", \"2018-06-28\", \"2018-11-23\", \"2018-04-28\", \"2018-05-07\", \"2018-06-05\", \"2018-03-23\", \"2018-06-18\", \"2018-04-03\", \"2018-04-22\", \"2018-03-01\", \"2018-10-15\", \"2018-02-10\", \"2018-11-22\", \"2018-06-15\", \"2018-02-23\", \"2018-08-31\", \"2018-01-26\", \"2018-11-30\", \"2018-04-06\", \"2018-01-20\", \"2018-12-12\", \"2018-11-17\", \"2018-03-01\", \"2018-09-11\", \"2018-11-11\", \"2018-09-04\", \"2018-08-18\", \"2018-01-12\", \"2018-10-06\", \"2018-02-02\", \"2018-09-12\", \"2018-11-04\", \"2018-03-06\", \"2018-07-06\", \"2018-07-02\", \"2018-11-10\", \"2018-05-06\", \"2018-03-02\", \"2018-09-07\", \"2018-06-02\", \"2018-08-23\", \"2018-01-05\", \"2018-11-14\", \"2018-01-25\", \"2018-10-26\", \"2018-06-11\", \"2018-05-05\", \"2018-02-27\", \"2018-02-15\", \"2018-07-09\", \"2018-07-31\", \"2018-03-09\", \"2018-02-24\", \"2018-04-03\", \"2018-09-23\", \"2018-12-20\", \"2018-12-29\", \"2018-09-10\", \"2018-06-03\", \"2018-01-28\", \"2018-03-06\", \"2018-07-19\", \"2018-01-07\", \"2018-05-02\", \"2018-09-17\", \"2018-04-19\", \"2018-02-22\", \"2018-07-11\", \"2018-06-15\", \"2018-03-14\", \"2018-03-11\", \"2018-07-14\", \"2018-05-04\", \"2018-01-21\", \"2018-08-01\", \"2018-09-28\", \"2018-06-30\", \"2018-08-12\", \"2018-03-29\", \"2018-06-26\", \"2018-11-02\", \"2018-09-01\", \"2018-08-29\", \"2018-02-02\", \"2018-11-01\", \"2018-10-05\", \"2018-05-03\", \"2018-07-16\", \"2018-11-16\", \"2018-06-18\", \"2018-08-18\", \"2018-09-04\", \"2018-02-08\", \"2018-07-13\", \"2018-01-04\", \"2018-02-03\", \"2018-05-13\", \"2018-12-14\", \"2018-03-20\", \"2018-08-13\", \"2018-07-22\", \"2018-06-22\", \"2018-12-11\", \"2018-01-13\", \"2018-10-18\", \"2018-08-05\", \"2018-09-14\", \"2018-07-03\", \"2018-07-19\", \"2018-11-20\", \"2018-05-14\", \"2018-07-28\", \"2018-07-26\", \"2018-03-03\", \"2018-01-16\", \"2018-06-12\", \"2018-08-07\", \"2018-10-17\", \"2018-04-02\", \"2018-11-21\", \"2018-09-22\", \"2018-05-26\", \"2018-12-23\", \"2018-08-04\", \"2018-10-07\", \"2018-12-31\", \"2018-09-19\", \"2018-11-06\", \"2018-06-06\", \"2018-10-14\", \"2018-05-11\", \"2018-03-07\", \"2018-08-23\", \"2018-02-06\", \"2018-09-29\", \"2018-06-29\", \"2018-02-14\", \"2018-07-13\", \"2018-03-16\", \"2018-11-05\", \"2018-03-25\", \"2018-02-05\", \"2018-01-29\", \"2018-02-20\", \"2018-06-27\", \"2018-08-27\", \"2018-09-03\", \"2018-03-17\", \"2018-12-03\", \"2018-11-26\", \"2018-04-16\", \"2018-05-19\", \"2018-04-26\", \"2018-12-16\", \"2018-05-09\", \"2018-01-04\", \"2018-06-21\", \"2018-10-04\", \"2018-04-10\", \"2018-03-20\", \"2018-10-24\", \"2018-07-04\", \"2018-01-15\", \"2018-12-09\", \"2018-10-07\", \"2018-09-17\", \"2018-10-20\", \"2018-11-20\", \"2018-09-09\", \"2018-01-12\", \"2018-05-16\", \"2018-04-24\", \"2018-09-15\", \"2018-07-28\", \"2018-08-05\", \"2018-07-20\", \"2018-04-14\", \"2018-04-06\", \"2018-03-04\", \"2018-11-18\", \"2018-09-15\", \"2018-06-28\", \"2018-08-08\", \"2018-12-17\", \"2018-06-05\", \"2018-09-25\", \"2018-09-08\", \"2018-09-24\", \"2018-05-23\", \"2018-07-18\", \"2018-04-07\", \"2018-06-23\", \"2018-10-08\", \"2018-11-22\", \"2018-06-28\", \"2018-04-09\", \"2018-05-12\", \"2018-12-04\", \"2018-01-26\", \"2018-02-06\", \"2018-03-19\", \"2018-06-19\", \"2018-09-03\", \"2018-04-05\", \"2018-08-26\", \"2018-12-25\", \"2018-11-11\", \"2018-10-12\", \"2018-03-12\", \"2018-03-14\", \"2018-02-19\", \"2018-07-08\", \"2018-05-04\", \"2018-05-17\", \"2018-11-06\", \"2018-01-31\", \"2018-11-23\", \"2018-12-03\", \"2018-10-03\", \"2018-05-09\", \"2018-02-12\", \"2018-10-18\", \"2018-03-24\", \"2018-10-22\", \"2018-09-27\", \"2018-01-19\", \"2018-03-01\", \"2018-09-10\", \"2018-04-15\", \"2018-11-08\", \"2018-01-12\", \"2018-02-09\", \"2018-12-12\", \"2018-10-06\", \"2018-11-13\", \"2018-06-02\", \"2018-05-22\", \"2018-12-12\", \"2018-04-28\", \"2018-03-01\", \"2018-09-21\", \"2018-02-26\", \"2018-12-06\", \"2018-02-17\", \"2018-07-14\", \"2018-08-06\", \"2018-10-29\", \"2018-04-20\", \"2018-03-30\", \"2018-11-03\", \"2018-07-29\", \"2018-04-03\", \"2018-05-30\", \"2018-03-10\", \"2018-02-23\", \"2018-04-08\", \"2018-07-21\", \"2018-06-09\", \"2018-04-01\", \"2018-09-20\", \"2018-07-16\", \"2018-09-04\", \"2018-11-28\", \"2018-12-16\", \"2018-06-04\", \"2018-03-10\", \"2018-07-11\", \"2018-08-04\", \"2018-07-07\", \"2018-06-25\", \"2018-10-11\", \"2018-08-11\", \"2018-06-17\", \"2018-09-07\", \"2018-11-02\", \"2018-08-31\", \"2018-02-01\", \"2018-06-15\", \"2018-08-25\", \"2018-08-21\", \"2018-03-23\", \"2018-11-10\", \"2018-05-04\", \"2018-10-17\", \"2018-03-05\", \"2018-10-02\", \"2018-02-10\", \"2018-05-12\", \"2018-11-10\", \"2018-02-04\", \"2018-10-31\", \"2018-06-16\", \"2018-03-17\", \"2018-08-14\"], \"xaxis\": \"x\", \"y\": [\"Drug Use\", \"Substance Abuse\", \"Substance abuse\", \"Drug abuse while traveling in vehicle\", \"Toxic effects of fentanyl\", \"Took medications and alcohol\", \"Took drugs and inhaled aerosolized chemicals\", \"Drug Use\", \"Substance Abuse\", \"Abused prescription medications\", \"Substance abuse\", \"Drug abuse\", \"Substance abuse\", \"Substance abuse\", \"Substance abuse\", \"Took ethanol and prescription medication\", \"Drug abuse\", \"Drug Use\", \"Substance abuse\", \"Substance abuse\", \"Drug abuse\", \"Drug abuse\", \"Substance Abuse\", \"Substance Abuse\", \"Substance Abuse\", \"Substance abuse\", \"Drug abuse\", \"Substance Abuse\", \"Substance abuse\", \"Substance Abuse\", \"Drug Use\", \"Substance Abuse\", \"Substance Abuse\", \"Substance Abuse\", \"Substance Abuse\", \"Drug Use\", \"Substance Abuse\", \"Substance abuse\", \"SUBSTANCE ABUSE\", \"Substance Abuse\", \"Drug abuse\", \"Substance Abuse\", \"Substance Abuse\", \"Substance abuse\", \"Substance Abuse\", \"Substance Abuse\", \"Substance abuse\", \"Substance Abuse\", \"Drug abuse\", \"Ingestion\", \"Substance Abuse\", \"Substance Abuse\", \"SUBSTANCE ABUSE\", \"Ingested multiple medications\", \"Substance Abuse\", \"Injected Crushed Pills into Peripherally Inserted Central Catheter (PICC)\", \"Alcohol ingestion and medication use\", \"Substance Abuse\", \"Substance Abuse\", \"Substance abuse\", \"Drug abuse\", \"Ingestion\", \"Drug Use\", \"Drug abuse\", \"Substance Abuse\", \"Substance Abuse\", \"Drug Use\", \"Substance Abuse\", \"Substance Abuse\", \"Substance Abuse\", \"Drug abuse\", \"Substance abuse\", \"Drug abuse\", \"Medication abuse\", \"Substance abuse\", \"Substance Abuse\", \"Drug abuse\", \"Drug Use\", \"Ingested prescription medications\", \"Substance Abuse\", \"Substance Abuse\", \"Substance abuse\", \"Drug abuse\", \"Substance abuse\", \"Substance Abuse\", \"Substance Abuse\", \"Substance Abuse\", \"Substance Abuse\", \"Drug abuse\", \"Substance abuse\", \"Substance Abuse\", \"Drug Use\", \"Substance Abuse\", \"Substance abuse\", \"Substance Abuse\", \"Acute and chronic substance abuse\", \"Substance Abuse\", \"Drug Use\", \"Drug abuse\", \"Drug Use\", \"Substance Abuse\", \"Acute and Chronic Substance Abuse\", \"Drug Use\", \"Substance Abuse\", \"Prescription Medicine Abuse\", \"Substance abuse\", \"Substance Abuse\", \"Drug abuse\", \"Drug Use\", \"Substance Abuse\", \"Substance abuse\", \"Substance Abuse\", \"Substance abuse\", \"Drug Use\", \"Substance Abuse\", \"Substance Abuse\", \"Substance abuse\", \"Drug abuse\", \"Substance Abuse\", \"Substance Abuse\", \"Took prescription medications\", \"Substance Abuse\", \"Substance abuse\", \"Substance abuse\", \"Drug Use\", \"Substance Abuse\", \"Used illicit drugs\", \"Substance Abuse\", \"Substance Abuse\", \"Drug abuse\", \"Drug abuse\", \"Substance Abuse\", \"Substance Abuse\", \"Drug abuse\", \"Substance Abuse\", \"Drug Use\", \"Drug abuse\", \"Drug Use\", \"Substance abuse\", \"Substance Abuse\", \"Substance abuse\", \"Substance Abuse\", \"Combined Medication with Alcohol\", \"Substance abuse\", \"Substance Abuse\", \"Took Medication\", \"Substance Abuse\", \"Substance Abuse\", \"Drug Use\", \"Substance abuse\", \"Substance abuse\", \"Drug Use\", \"Mixed alcohol and pills\", \"Substance abuse\", \"Substance Abuse\", \"Substance abuse\", \"Substance Abuse\", \"Substance Abuse\", \"Substance Abuse\", \"Substance abuse\", \"Substance abuse\", \"Ingestion\", \"Drug abuse\", \"Substance abuse\", \"Substance Abuse\", \"Substance abuse\", \"Drug Use\", \"Substance abuse\", \"Drug Use\", \"Drug abuse\", \"Drug Use\", \"Substance Abuse\", \"Substance Abuse\", \"Substance Abuse\", \"Substance Abuse\", \"Drug abuse\", \"Substance Abuse\", \"Drug Use\", \"Substance Abuse\", \"Substance abuse\", \"Drug use\", \"Substance Abuse\", \"Substance Abuse\", \"Substance abuse\", \"Substance Abuse\", \"Substance abuse\", \"Drug Use\", \"Substance Abuse\", \"Substance Abuse\", \"Substance Abuse\", \"Drug Use\", \"Substance Abuse\", \"Substance Abuse\", \"Substance Abuse\", \"Substance abuse\", \"Substance Abuse\", \"Substance Abuse\", \"Substance Abuse\", \"Substance Abuse\", \"Acute and Chronic Substance Abuse\", \"Substance Abuse\", \"Took drugs\", \"Drug Use\", \"Substance Abuse\", \"Drug abuse\", \"Substance abuse\", \"Drug abuse\", \"Substance abuse\", \"Substance Abuse\", \"Drug abuse\", \"Drug Use\", \"Substance Abuse\", \"Substance Abuse\", \"Substance Abuse\", \"Substance Abuse\", \"Substance Abuse\", \"Substance Abuse\", \"Substance abuse\", \"Substance Abuse\", \"Substance Abuse\", \"Drug abuse\", \"Substance Abuse\", \"Drug Use\", \"Substance Abuse\", \"Drug abuse\", \"Substance Abuse\", \"Substance abuse\", \"Substance abuse\", \"Substance abuse\", \"Substance Abuse\", \"Substance abuse\", \"Substance Abuse\", \"Substance abuse\", \"Substance Abuse\", \"Drug Use\", \"Acute and Chronic Substance Abuse\", \"Substance Abuse\", \"Substance abuse\", \"Substance Abuse\", \"Substance Abuse\", \"Substance Abuse\", \"Substance abuse\", \"Substance abuse\", \"Drug abuse\", \"Substance abuse\", \"Substance Abuse\", \"Substance Abuse\", \"Substance abuse\", \"Drug abuse\", \"Drug use\", \"Substance Abuse\", \"Substance Abuse\", \"Substance Abuse\", \"Drug abuse\", \"Drug abuse\", \"Substance Abuse\", \"Substance Abuse\", \"Substance Abuse\", \"Drug abuse\", \"Drug Use\", \"Drug abuse\", \"Substance abuse\", \"Substance Abuse\", \"Ingested alcohol combined with medications\", \"Ingestion\", \"Substance Abuse\", \"Drug abuse\", \"Substance Abuse\", \"Drug abuse\", \"Substance abuse\", \"Drug abuse\", \"Substance Abuse\", \"Ingestion\", \"Substance abuse\", \"Substance abuse\", \"Drug abuse\", \"Drug abuse\", \"Drug abuse\", \"Substance Abuse\", \"acute and chronic substance abuse\", \"Substance Abuse\", \"Substance Abuse\", \"Drug Use\", \"Substance Abuse\", \"Substance abuse\", \"Acute and Chronic Substance Abuse\", \"Substance abuse\", \"Substance abuse\", \"Substance abuse\", \"Substance Abuse\", \"Substance Abuse\", \"Drug Use\", \"Substance Abuse\", \"Substance abuse\", \"Substance abuse\", \"Substance Abuse\", \"Substance Abuse\", \"Substance abuse\", \"Substance abuse\", \"Substance abuse\", \"Drug Use\", \"Substance abuse\", \"Drug abuse\", \"Substance Abuse\", \"Substance Abuse\", \"Substance Abuse\", \"Drug Use\", \"Substance Abuse\", \"Substance abuse\", \"Substance Abuse\", \"Substance abuse\", \"Drug abuse\", \"Substance Abuse\", \"Substance Abuse\", \"Substance Abuse\", \"Substance abuse\", \"Substance abuse\", \"Substance Abuse\", \"Acute and Chronic Substance Abuse\", \"Drug and Ethanol Abuse\", \"Substance Abuse\", \"Substance abuse\", \"Substance Abuse\", \"Substance abuse\", \"SUBSTANCE ABUSE\", \"Substance Abuse\", \"Ingested pills\", \"Acute and Chronic Substance Abuse\", \"Substance abuse\", \"Substance abuse\", \"Inhalation of Aerosol Dusting Spray\", \"Drug Use\", \"Substance abuse\", \"Substance Abuse\", \"Substance Abuse\", \"Consumed ethanol and prescription medication\", \"Took Medication\", \"Substance Abuse\", \"Substance Abuse\", \"Substance abuse\", \"Substance abuse\", \"Drug abuse\", \"Substance Abuse\", \"Ingestion\", \"Substance abuse\", \"Substance Abuse\", \"Medication Misuse\", \"Substance Abuse\", \"Substance abuse\", \"Substance Abuse\", \"Substance abuse\", \"Drug abuse\", \"Substance Abuse\", \"Substance abuse\", \"Substance Abuse\", \"Substance abuse\", \"Drug Use\", \"Drug Use\", \"Drug Use\", \"Substance Abuse\", \"Substance abuse\", \"Substance Abuse\", \"Substance Abuse\", \"Substance Abuse\", \"Substance Abuse\", \"Substance abuse\", \"Substance Abuse\", \"Prescription Medicine Misuse\", \"Drug Use\", \"Drug abuse\", \"Substance abuse\", \"Substance Abuse\", \"Substance abuse\", \"Substance abuse\", \"Substance Abuse\", \"Took prescription-type medications\", \"Substance Abuse\", \"Substance Abuse\", \"Substance Abuse\", \"Drug abuse\", \"Substance Abuse\", \"Substance Abuse\", \"Substance abuse\", \"Drug abuse\", \"Substance abuse\", \"Substance Abuse\", \"Acute and chronic substance abuse\", \"Substance Abuse\", \"Drug abuse\", \"Drug abuse\", \"Drug Use\", \"Substance Abuse\", \"Substance abuse\", \"Substance Abuse\", \"Substance Abuse\", \"Drug abuse\", \"Acute and Chronic Substance Abuse\", \"Abuse of Medication\", \"Substance abuse\", \"Drug abuse\", \"Substance Abuse\", \"Substance Abuse\", \"Injection\", \"Consumed ethanol with prescribed medications\", \"Drug Use\", \"Substance Abuse\", \"Substance Abuse\", \"Drug abuse\", \"Substance abuse\", \"Drug abuse\", \"Substance Abuse\", \"Substance Abuse\", \"Drug abuse\", \"Substance abuse\", \"Substance Abuse\", \"Drug Use\", \"Substance Abuse\", \"Ethanol and drug abuse\", \"Drug abuse\", \"Drug Use\", \"Substance Abuse\", \"Ingestion\", \"Substance abuse\", \"Substance Abuse\", \"Substance Abuse\", \"Drug Use\", \"Drug abuse\", \"Substance Abuse\", \"Misuse of Medications\", \"Substance Abuse\", \"Substance Abuse\", \"Drug abuse\", \"Substance Abuse\", \"Substance abuse\", \"Substance Abuse\", \"Substance Abuse\", \"Took Medication\", \"Substance Abuse\", \"Drug abuse\", \"Drug abuse\", \"Substance Abuse\", \"Drug abuse\", \"Substance abuse\", \"Substance abuse\", \"Substance Abuse\", \"Substance Abuse\", \"Substance Abuse\", \"Drug Use\", \"Drug use\", \"Substance Abuse\", \"Substance Abuse\", \"Substance Abuse\", \"Drug Use\", \"Drug abuse\", \"Substance Abuse\", \"Drug Use\", \"Consumed ethanol with prescribed medication\", \"Substance Abuse\", \"acute and chronic substance abuse\", \"Drug Use\", \"Substance abuse\", \"Drug Use\", \"Substance Abuse\", \"Drug abuse\", \"Substance Abuse\", \"Substance abuse\", \"Substance abuse\", \"Drug Use\", \"Substance Abuse\", \"Drug abuse\", \"Substance abuse\", \"Drug abuse\", \"Drug abuse\", \"Substance Abuse\", \"Substance Abuse\", \"Substance Abuse\", \"Substance Abuse\", \"Drug abuse\", \"Substance Abuse\", \"Substance abuse\", \"Substance Abuse\", \"Drug Use\", \"Drug Use\", \"Substance Abuse\", \"Substance Abuse\", \"Substance abuse\", \"Substance Abuse\", \"Substance Abuse\", \"Substance Abuse\", \"Substance abuse\", \"Substance abuse\", \"Substance Abuse\", \"Drug Use\", \"Substance Abuse\", \"Substance abuse\", \"Substance Abuse\", \"Substance Abuse\", \"Substance Abuse\", \"Substance Abuse\", \"Ingested medicine with alcohol\", \"Substance Abuse\", \"Drug abuse\", \"Ingestion\", \"Drug Use\", \"Substance Abuse\", \"Drug abuse\", \"Substance abuse\", \"Took medicine with alcohol\", \"Consumed Prescription Medication\", \"Substance Abuse\", \"Substance Abuse\", \"Drug abuse\", \"Substance Abuse\", \"Drug Use\", \"Drug abuse\", \"Substance Abuse\", \"Substance Abuse\", \"Substance Abuse\", \"Substance Abuse\", \"Drug Use\", \"Substance abuse\", \"Substance Abuse\", \"Drug Use\", \"Substance Abuse\", \"Substance Abuse\", \"Drug Use\", \"Drug Use\", \"Drug Use\", \"Drug abuse\", \"Substance abuse\", \"Substance Abuse\", \"Substance Abuse\", \"Drug Use\", \"Intravenous drug abuse\", \"Drug abuse\", \"Took medications\", \"Substance Abuse\", \"Substance abuse\", \"Substance Abuse\", \"Substance Abuse\", \"Drug Use\", \"Substance Abuse\", \"Substance Abuse\", \"Substance Abuse\", \"Drug abuse\", \"Substance Abuse\", \"Substance Abuse\", \"Substance Abuse\", \"Substance Abuse\", \"Substance Abuse\", \"Substance Abuse\", \"Substance abuse\", \"Substance Abuse\", \"Drug Use\", \"Drug Use\", \"Substance Abuse\", \"Substance abuse\", \"Drug Use\", \"Consumed illicit drug with ethanol\", \"Substance Abuse\", \"Drug use\", \"Substance Abuse\", \"Substance Abuse\", \"Substance Abuse\", \"Drug Use\", \"Intravenous drug abuse\", \"Substance abuse\", \"Drug Use\", \"Drug abuse\", \"Substance Abuse\", \"Substance Abuse\", \"Substance Abuse\", \"Substance Abuse\", \"Drug Use\", \"Substance Abuse\", \"Substance Abuse\", \"Drug abuse\", \"Acute and Chronic Substance Abuse\", \"Substance Abuse\", \"Ingestion\", \"Substance abuse\", \"Substance Abuse\", \"Ethanol and drug abuse\", \"Substance abuse\", \"Substance abuse\", \"Substance Abuse\", \"Substance Abuse\", \"Substance Abuse\", \"Ingested Methadone Prescribed to Another\", \"Substance abuse\", \"Substance Abuse\", \"Substance Abuse\", \"Substance Abuse\", \"Substance abuse\", \"Drug Use\", \"Substance Abuse\", \"Substance Abuse\", \"Substance Abuse\", \"Drug abuse\", \"Substance Abuse\", \"acute and chronic substance abuse\", \"Substance abuse\", \"Substance abuse\", \"Substance Abuse\", \"Substance Abuse\", \"Substance abuse\", \"Substance Abuse\", \"Substance Abuse\", \"Substance abuse\", \"Substance abuse\", \"Substance abuse\", \"Substance abuse\", \"Substance Abuse\", \"Drug Use\", \"Substance abuse\", \"Substance Abuse\", \"Substance Abuse\", \"Substance Abuse\", \"Drug abuse\", \"Substance Abuse\", \"Drug abuse\", \"Drug Use\", \"Substance Abuse\", \"Substance Abuse\", \"Substance Abuse\", \"Substance Abuse\", \"Substance Abuse\", \"Drug Use\", \"Substance Abuse\", \"Substance Abuse\", \"Substance Abuse\", \"Ingestion\", \"Substance Abuse\", null, \"Substance abuse\", \"Substance Abuse\", \"Substance abuse\", \"Drug Use\", \"Substance Abuse\", \"Drug Use\", \"Drug Use\", \"Substance Abuse\", \"Drug Use\", \"Drug abuse\", \"Combined Alcohol and Medications\", \"Substance Abuse\", \"Substance abuse\", \"Substance abuse\", \"Substance abuse\", \"Substance Abuse\", \"Substance Abuse\", \"Substance abuse\", \"Acute and Chronic Substance Abuse\", \"Drug Use\", \"Substance Abuse\", \"Drug Use\", \"Substance Abuse\", \"Substance Abuse\", \"Substance Abuse\", \"Substance Abuse\", \"Substance Abuse\", \"Substance abuse\", \"Toxic effects of ethanol and fentanyl\", \"Took prescription medications\", \"Substance Abuse\", \"Substance abuse\", \"Drug abuse\", \"Substance abuse\", \"Substance abuse\", \"Drug abuse\", \"Drug Use\", \"Drug abuse\", \"Drug Use\", \"Drug Use\", \"Drug abuse\", \"Drug Use\", \"Ingested Medications\", \"Drug abuse\", \"Substance Abuse\", \"Drug abuse\", \"Substance Abuse\", \"Substance Abuse\", \"Substance Abuse\", \"Substance abuse\", \"Substance Abuse\", \"Substance Abuse\", \"Drug abuse\", \"Substance Abuse\", \"Substance abuse\", \"Substance Abuse\", \"Drug abuse\", \"Prescription Medicine Misuse\", \"Acute and Chronic Substance Abuse\", \"Substance Abuse\", \"Toxic effects of ethanol and prescription medications\", \"Substance Abuse\", \"Substance abuse\", \"Drug Use\", \"Substance abuse\", \"Substance abuse\", \"Drug Use\", \"Substance Abuse\", \"Substance Abuse\", \"Drug Use\", \"Substance Abuse\", \"Substance Abuse\", \"Substance abuse\", \"Substance Abuse\", \"Substance Abuse\", \"Drug Use\", \"Drug Use\", \"Drug abuse\", \"Drug Use\", \"Substance abuse\", \"Substance abuse\", \"Substance abuse\", \"Substance Abuse\", \"Substance abuse\", \"Substance Abuse\", \"Substance Abuse\", \"Substance abuse\", \"Substance Abuse\", \"Substance Abuse\", \"Substance abuse\", \"Substance abuse\", \"Substance Abuse\", \"Drug abuse\", \"Substance Abuse\", \"Substance Abuse\", \"Substance Abuse\", \"Substance Abuse\", \"Substance abuse\", \"Drug abuse\", \"Substance Abuse\", \"Ingestion\", \"Substance Abuse\", \"Substance Abuse\", \"Substance Abuse\", \"Substance Abuse\", \"Substance Abuse\", \"Prescription Medicine Abuse\", \"Substance abuse\", \"Substance Abuse\", \"Drug abuse\", \"Substance Abuse\", \"Substance abuse\", \"Substance abuse\", \"Substance Abuse\", \"Substance Abuse\", \"Substance Abuse\", \"Drug Use\", \"Substance Abuse\", \"Substance Abuse\", \"Substance Abuse\", \"Substance Abuse\", \"Substance Abuse\", \"Substance Abuse\", \"Substance Abuse\", \"Substance abuse\", \"Drug abuse\", \"Substance abuse\", \"Substance Abuse\", \"Substance abuse\", \"Substance Abuse\", \"Substance Abuse\", \"Drug Use\", \"Substance abuse\", \"Drug abuse\", \"Substance Abuse\", \"Substance Abuse\", \"Substance Abuse\", \"Drug abuse\", \"Substance abuse\", \"Substance Abuse\", \"Drug abuse\", \"Drug Use\", \"Substance Abuse\", \"Substance Abuse\", \"Drug Use\", \"Substance Abuse\", \"Substance Abuse\", \"Substance Abuse\", \"Drug abuse\", \"Drug Use\", \"Substance Abuse\", \"Substance Abuse\", \"Drug abuse\", \"substance abuse\", \"Took ethanol and prescribed medications\", \"Substance Abuse\", \"Drug abuse\", \"Substance abuse\", \"Substance abuse\", \"Substance Abuse\", \"Medication abuse\", \"Drug Use\", \"Substance Abuse\", \"Drug abuse\", \"Ingestion\", \"Substance Abuse\", \"Substance abuse\", \"Substance Abuse\", \"Substance abuse\", \"Drug Use\", \"Substance Abuse\", \"Substance Abuse\", \"Substance Abuse\", \"Drug abuse\", \"Drug abuse\", \"Substance Abuse\", \"Substance abuse\", \"Substance abuse\", \"Drug Use\", \"Substance abuse\", \"Drug Use\", \"Substance Abuse\", \"Drug Use\", \"Drug Use\", \"Drug abuse\", \"Substance Abuse\", \"Substance abuse\", \"Substance Abuse\", \"Substance abuse\", \"Substance Abuse\", \"Drug Use\", \"Substance abuse\", \"Substance Abuse\", \"Substance Abuse\", \"Substance Abuse\", \"Drug abuse\", \"Substance Abuse\", \"Substance Abuse\", \"Substance abuse\", \"Drug Use\", \"Substance abuse\", \"Substance Abuse\", \"Substance Abuse\", \"Substance abuse\", \"Substance Abuse\", \"Substance abuse\", \"Substance abuse\", \"Drug Use\", \"Substance Abuse\", \"Substance Abuse\", \"Substance Abuse\", \"Ingestion\", \"Substance abuse\", \"Substance Abuse\", \"Substance Abuse\", \"Substance abuse\", \"Substance Abuse\", \"Substance Abuse\", \"Drug abuse\", \"Drug Use\", \"Substance Abuse\", \"Substance Abuse\", \"Substance abuse\", \"Consumed methadone and ethanol\", \"Substance abuse\", \"Drug abuse\", \"Drug Use\", \"Drug Use\", \"Substance abuse\", \"Drug Use\", \"Substance Abuse\", \"Substance Abuse\", \"Drug Use\", \"Drug Use\", \"Substance abuse\", \"Drug abuse\", \"Drug abuse\", \"Took Medications\", \"Acute and Chronic Substance Abuse\", \"Substance Abuse\", \"Substance abuse\", \"Substance Abuse\", \"Ingestion\", \"Substance Abuse\", \"Substance Abuse\", \"Substance Abuse\", \"Ethanol and drug abuse\", \"Substance abuse\", \"Drug Use\", \"Substance Abuse\", \"Drug Use\", \"Substance Abuse\", \"Drug Use\", \"Substance abuse\", \"Substance Abuse\", \"Substance Abuse\", \"Drug Use\", \"Ingested medications\", \"Drug abuse\", \"Drug abuse\", \"Substance Abuse\", \"Substance Abuse\", \"Ingested drugs\", \"Drug Use\", \"Substance Abuse\", \"Drug abuse\", \"Substance abuse\", \"Substance Abuse\", \"Substance abuse\", \"Substance abuse\", \"Substance abuse\", \"Substance abuse\", \"Substance Abuse\", \"Drug abuse\", \"Substance abuse\", \"Substance Abuse\", \"Substance Abuse\", \"Drug abuse\", \"Drug Use\", \"Substance Abuse\", \"Substance Abuse\", \"Drug abuse\", \"Substance abuse\", \"Drug Use\", \"Drug Use\", \"Substance Abuse\", \"Substance Abuse\", \"Substance Abuse\", \"Ingestion\", \"Drug Use\", \"Substance Abuse\", \"Drug abuse\", \"Drug abuse\", \"Substance Abuse\", \"Drug Use\", \"Substance abuse\", \"Drug Use\", \"Substance abuse\", \"Substance abuse\", \"Substance abuse\", \"Drug Use\", \"Substance Abuse\", \"Substance Abuse\", \"Prescription Medicine Abuse\", \"Substance Abuse\", \"Drug abuse\", \"Substance Abuse\", \"Substance Abuse\", \"Immersion in water while intoxicated\", \"Took another person\\u2019s medication\", \"Drug abuse\", \"acute and chronic substance abuse\", \"Ingestion\", \"Substance Abuse\", \"Substance Abuse\", \"Substance Abuse\", \"Substance Abuse\", \"Substance Abuse\", \"Substance Abuse\", \"Substance abuse\", \"Substance Abuse\", \"Medication abuse\", \"Substance abuse\", \"Substance Abuse\", \"Drug Use\", \"Drug Use\", \"Substance abuse\", \"Substance Abuse\", \"Drug abuse\", \"Substance abuse\", \"Drug abuse\", \"Substance Abuse\", \"Substance Abuse\", \"Drug Use\", \"Substances Abuse\", \"Substance abuse\", \"Substance Abuse\", \"Medication Misuse\", \"Drug abuse\", \"Substance Abuse\", \"Substance Abuse\", \"Substance Abuse\", \"Substance Abuse\", \"Substance Abuse\", \"Took prescribed medications\", \"Chewed fentanyl patches, took medications\", \"Substance Abuse\", \"Substance Abuse\", \"Substance Abuse\", \"Substance abuse\", \"Drug abuse\", \"Substance Abuse\", \"Substance Abuse\", \"Took medications\", \"Ingested medicines\", \"Substance Abuse\", \"Substance Abuse\", \"Drug abuse\", \"Substance Abuse\", \"Substance abuse\", \"Substance abuse\", \"Substance abuse\", \"Drug abuse\", \"Drug Use\", \"Substance Abuse\", \"Substance Abuse\", \"Substance Abuse\", \"Substance Abuse\", \"Substance abuse\", \"Drug Use\", \"Drug Use\", \"Substance Abuse\", \"Substance Abuse\", \"Substance Abuse\", \"Combined ethanol and opiate\", \"Substance abuse\", \"Drug Use\", \"Substance Abuse\", \"Substance Abuse\", \"Ingestion\", \"Drug Use\", \"Substance Abuse\", \"Substance Abuse\", \"Drug abuse\"], \"yaxis\": \"y\"}],\n",
              "                        {\"coloraxis\": {\"colorbar\": {\"title\": {\"text\": \"Age\"}}, \"colorscale\": [[0.0, \"#0d0887\"], [0.1111111111111111, \"#46039f\"], [0.2222222222222222, \"#7201a8\"], [0.3333333333333333, \"#9c179e\"], [0.4444444444444444, \"#bd3786\"], [0.5555555555555556, \"#d8576b\"], [0.6666666666666666, \"#ed7953\"], [0.7777777777777778, \"#fb9f3a\"], [0.8888888888888888, \"#fdca26\"], [1.0, \"#f0f921\"]]}, \"height\": 600, \"legend\": {\"itemsizing\": \"constant\", \"tracegroupgap\": 0}, \"template\": {\"data\": {\"bar\": [{\"error_x\": {\"color\": \"#2a3f5f\"}, \"error_y\": {\"color\": \"#2a3f5f\"}, \"marker\": {\"line\": {\"color\": \"#E5ECF6\", \"width\": 0.5}}, \"type\": \"bar\"}], \"barpolar\": [{\"marker\": {\"line\": {\"color\": \"#E5ECF6\", \"width\": 0.5}}, \"type\": \"barpolar\"}], \"carpet\": [{\"aaxis\": {\"endlinecolor\": \"#2a3f5f\", \"gridcolor\": \"white\", \"linecolor\": \"white\", \"minorgridcolor\": \"white\", \"startlinecolor\": \"#2a3f5f\"}, \"baxis\": {\"endlinecolor\": \"#2a3f5f\", \"gridcolor\": \"white\", \"linecolor\": \"white\", \"minorgridcolor\": \"white\", \"startlinecolor\": \"#2a3f5f\"}, \"type\": \"carpet\"}], \"choropleth\": [{\"colorbar\": {\"outlinewidth\": 0, \"ticks\": \"\"}, \"type\": \"choropleth\"}], \"contour\": [{\"colorbar\": {\"outlinewidth\": 0, \"ticks\": \"\"}, \"colorscale\": [[0.0, \"#0d0887\"], [0.1111111111111111, \"#46039f\"], [0.2222222222222222, \"#7201a8\"], [0.3333333333333333, \"#9c179e\"], [0.4444444444444444, \"#bd3786\"], [0.5555555555555556, \"#d8576b\"], [0.6666666666666666, \"#ed7953\"], [0.7777777777777778, \"#fb9f3a\"], [0.8888888888888888, \"#fdca26\"], [1.0, \"#f0f921\"]], \"type\": \"contour\"}], \"contourcarpet\": [{\"colorbar\": {\"outlinewidth\": 0, \"ticks\": \"\"}, \"type\": \"contourcarpet\"}], \"heatmap\": [{\"colorbar\": {\"outlinewidth\": 0, \"ticks\": \"\"}, \"colorscale\": [[0.0, \"#0d0887\"], [0.1111111111111111, \"#46039f\"], [0.2222222222222222, \"#7201a8\"], [0.3333333333333333, \"#9c179e\"], [0.4444444444444444, \"#bd3786\"], [0.5555555555555556, \"#d8576b\"], [0.6666666666666666, \"#ed7953\"], [0.7777777777777778, \"#fb9f3a\"], [0.8888888888888888, \"#fdca26\"], [1.0, \"#f0f921\"]], \"type\": \"heatmap\"}], \"heatmapgl\": [{\"colorbar\": {\"outlinewidth\": 0, \"ticks\": \"\"}, \"colorscale\": [[0.0, \"#0d0887\"], [0.1111111111111111, \"#46039f\"], [0.2222222222222222, \"#7201a8\"], [0.3333333333333333, \"#9c179e\"], [0.4444444444444444, \"#bd3786\"], [0.5555555555555556, \"#d8576b\"], [0.6666666666666666, \"#ed7953\"], [0.7777777777777778, \"#fb9f3a\"], [0.8888888888888888, \"#fdca26\"], [1.0, \"#f0f921\"]], \"type\": \"heatmapgl\"}], \"histogram\": [{\"marker\": {\"colorbar\": {\"outlinewidth\": 0, \"ticks\": \"\"}}, \"type\": \"histogram\"}], \"histogram2d\": [{\"colorbar\": {\"outlinewidth\": 0, \"ticks\": \"\"}, \"colorscale\": [[0.0, \"#0d0887\"], [0.1111111111111111, \"#46039f\"], [0.2222222222222222, \"#7201a8\"], [0.3333333333333333, \"#9c179e\"], [0.4444444444444444, \"#bd3786\"], [0.5555555555555556, \"#d8576b\"], [0.6666666666666666, \"#ed7953\"], [0.7777777777777778, \"#fb9f3a\"], [0.8888888888888888, \"#fdca26\"], [1.0, \"#f0f921\"]], \"type\": \"histogram2d\"}], \"histogram2dcontour\": [{\"colorbar\": {\"outlinewidth\": 0, \"ticks\": \"\"}, \"colorscale\": [[0.0, \"#0d0887\"], [0.1111111111111111, \"#46039f\"], [0.2222222222222222, \"#7201a8\"], [0.3333333333333333, \"#9c179e\"], [0.4444444444444444, \"#bd3786\"], [0.5555555555555556, \"#d8576b\"], [0.6666666666666666, \"#ed7953\"], [0.7777777777777778, \"#fb9f3a\"], [0.8888888888888888, \"#fdca26\"], [1.0, \"#f0f921\"]], \"type\": \"histogram2dcontour\"}], \"mesh3d\": [{\"colorbar\": {\"outlinewidth\": 0, \"ticks\": \"\"}, \"type\": \"mesh3d\"}], \"parcoords\": [{\"line\": {\"colorbar\": {\"outlinewidth\": 0, \"ticks\": \"\"}}, \"type\": \"parcoords\"}], \"scatter\": [{\"marker\": {\"colorbar\": {\"outlinewidth\": 0, \"ticks\": \"\"}}, \"type\": \"scatter\"}], \"scatter3d\": [{\"line\": {\"colorbar\": {\"outlinewidth\": 0, \"ticks\": \"\"}}, \"marker\": {\"colorbar\": {\"outlinewidth\": 0, \"ticks\": \"\"}}, \"type\": \"scatter3d\"}], \"scattercarpet\": [{\"marker\": {\"colorbar\": {\"outlinewidth\": 0, \"ticks\": \"\"}}, \"type\": \"scattercarpet\"}], \"scattergeo\": [{\"marker\": {\"colorbar\": {\"outlinewidth\": 0, \"ticks\": \"\"}}, \"type\": \"scattergeo\"}], \"scattergl\": [{\"marker\": {\"colorbar\": {\"outlinewidth\": 0, \"ticks\": \"\"}}, \"type\": \"scattergl\"}], \"scattermapbox\": [{\"marker\": {\"colorbar\": {\"outlinewidth\": 0, \"ticks\": \"\"}}, \"type\": \"scattermapbox\"}], \"scatterpolar\": [{\"marker\": {\"colorbar\": {\"outlinewidth\": 0, \"ticks\": \"\"}}, \"type\": \"scatterpolar\"}], \"scatterpolargl\": [{\"marker\": {\"colorbar\": {\"outlinewidth\": 0, \"ticks\": \"\"}}, \"type\": \"scatterpolargl\"}], \"scatterternary\": [{\"marker\": {\"colorbar\": {\"outlinewidth\": 0, \"ticks\": \"\"}}, \"type\": \"scatterternary\"}], \"surface\": [{\"colorbar\": {\"outlinewidth\": 0, \"ticks\": \"\"}, \"colorscale\": [[0.0, \"#0d0887\"], [0.1111111111111111, \"#46039f\"], [0.2222222222222222, \"#7201a8\"], [0.3333333333333333, \"#9c179e\"], [0.4444444444444444, \"#bd3786\"], [0.5555555555555556, \"#d8576b\"], [0.6666666666666666, \"#ed7953\"], [0.7777777777777778, \"#fb9f3a\"], [0.8888888888888888, \"#fdca26\"], [1.0, \"#f0f921\"]], \"type\": \"surface\"}], \"table\": [{\"cells\": {\"fill\": {\"color\": \"#EBF0F8\"}, \"line\": {\"color\": \"white\"}}, \"header\": {\"fill\": {\"color\": \"#C8D4E3\"}, \"line\": {\"color\": \"white\"}}, \"type\": \"table\"}]}, \"layout\": {\"annotationdefaults\": {\"arrowcolor\": \"#2a3f5f\", \"arrowhead\": 0, \"arrowwidth\": 1}, \"colorscale\": {\"diverging\": [[0, \"#8e0152\"], [0.1, \"#c51b7d\"], [0.2, \"#de77ae\"], [0.3, \"#f1b6da\"], [0.4, \"#fde0ef\"], [0.5, \"#f7f7f7\"], [0.6, \"#e6f5d0\"], [0.7, \"#b8e186\"], [0.8, \"#7fbc41\"], [0.9, \"#4d9221\"], [1, \"#276419\"]], \"sequential\": [[0.0, \"#0d0887\"], [0.1111111111111111, \"#46039f\"], [0.2222222222222222, \"#7201a8\"], [0.3333333333333333, \"#9c179e\"], [0.4444444444444444, \"#bd3786\"], [0.5555555555555556, \"#d8576b\"], [0.6666666666666666, \"#ed7953\"], [0.7777777777777778, \"#fb9f3a\"], [0.8888888888888888, \"#fdca26\"], [1.0, \"#f0f921\"]], \"sequentialminus\": [[0.0, \"#0d0887\"], [0.1111111111111111, \"#46039f\"], [0.2222222222222222, \"#7201a8\"], [0.3333333333333333, \"#9c179e\"], [0.4444444444444444, \"#bd3786\"], [0.5555555555555556, \"#d8576b\"], [0.6666666666666666, \"#ed7953\"], [0.7777777777777778, \"#fb9f3a\"], [0.8888888888888888, \"#fdca26\"], [1.0, \"#f0f921\"]]}, \"colorway\": [\"#636efa\", \"#EF553B\", \"#00cc96\", \"#ab63fa\", \"#FFA15A\", \"#19d3f3\", \"#FF6692\", \"#B6E880\", \"#FF97FF\", \"#FECB52\"], \"font\": {\"color\": \"#2a3f5f\"}, \"geo\": {\"bgcolor\": \"white\", \"lakecolor\": \"white\", \"landcolor\": \"#E5ECF6\", \"showlakes\": true, \"showland\": true, \"subunitcolor\": \"white\"}, \"hoverlabel\": {\"align\": \"left\"}, \"hovermode\": \"closest\", \"mapbox\": {\"style\": \"light\"}, \"paper_bgcolor\": \"white\", \"plot_bgcolor\": \"#E5ECF6\", \"polar\": {\"angularaxis\": {\"gridcolor\": \"white\", \"linecolor\": \"white\", \"ticks\": \"\"}, \"bgcolor\": \"#E5ECF6\", \"radialaxis\": {\"gridcolor\": \"white\", \"linecolor\": \"white\", \"ticks\": \"\"}}, \"scene\": {\"xaxis\": {\"backgroundcolor\": \"#E5ECF6\", \"gridcolor\": \"white\", \"gridwidth\": 2, \"linecolor\": \"white\", \"showbackground\": true, \"ticks\": \"\", \"zerolinecolor\": \"white\"}, \"yaxis\": {\"backgroundcolor\": \"#E5ECF6\", \"gridcolor\": \"white\", \"gridwidth\": 2, \"linecolor\": \"white\", \"showbackground\": true, \"ticks\": \"\", \"zerolinecolor\": \"white\"}, \"zaxis\": {\"backgroundcolor\": \"#E5ECF6\", \"gridcolor\": \"white\", \"gridwidth\": 2, \"linecolor\": \"white\", \"showbackground\": true, \"ticks\": \"\", \"zerolinecolor\": \"white\"}}, \"shapedefaults\": {\"line\": {\"color\": \"#2a3f5f\"}}, \"ternary\": {\"aaxis\": {\"gridcolor\": \"white\", \"linecolor\": \"white\", \"ticks\": \"\"}, \"baxis\": {\"gridcolor\": \"white\", \"linecolor\": \"white\", \"ticks\": \"\"}, \"bgcolor\": \"#E5ECF6\", \"caxis\": {\"gridcolor\": \"white\", \"linecolor\": \"white\", \"ticks\": \"\"}}, \"title\": {\"x\": 0.05}, \"xaxis\": {\"automargin\": true, \"gridcolor\": \"white\", \"linecolor\": \"white\", \"ticks\": \"\", \"zerolinecolor\": \"white\", \"zerolinewidth\": 2}, \"yaxis\": {\"automargin\": true, \"gridcolor\": \"white\", \"linecolor\": \"white\", \"ticks\": \"\", \"zerolinecolor\": \"white\", \"zerolinewidth\": 2}}}, \"title\": {\"text\": \"Accidental Drug-Related Deaths by Cause\"}, \"xaxis\": {\"rangeselector\": {\"buttons\": [{\"count\": 1, \"label\": \"1m\", \"step\": \"month\", \"stepmode\": \"backward\"}, {\"count\": 6, \"label\": \"6m\", \"step\": \"month\", \"stepmode\": \"backward\"}, {\"count\": 1, \"label\": \"1y\", \"step\": \"year\", \"stepmode\": \"backward\"}, {\"step\": \"all\"}]}, \"rangeslider\": {\"visible\": true}, \"type\": \"date\"}, \"yaxis\": {\"anchor\": \"x\", \"domain\": [0.0, 1.0], \"title\": {\"text\": \"DescriptionofInjury\"}}},\n",
              "                        {\"responsive\": true}\n",
              "                    ).then(function(){\n",
              "                            \n",
              "var gd = document.getElementById('5313b535-c52c-4fc4-ba5d-dc4b1303c698');\n",
              "var x = new MutationObserver(function (mutations, observer) {{\n",
              "        var display = window.getComputedStyle(gd).display;\n",
              "        if (!display || display === 'none') {{\n",
              "            console.log([gd, 'removed!']);\n",
              "            Plotly.purge(gd);\n",
              "            observer.disconnect();\n",
              "        }}\n",
              "}});\n",
              "\n",
              "// Listen for the removal of the full notebook cells\n",
              "var notebookContainer = gd.closest('#notebook-container');\n",
              "if (notebookContainer) {{\n",
              "    x.observe(notebookContainer, {childList: true});\n",
              "}}\n",
              "\n",
              "// Listen for the clearing of the current output cell\n",
              "var outputEl = gd.closest('.output');\n",
              "if (outputEl) {{\n",
              "    x.observe(outputEl, {childList: true});\n",
              "}}\n",
              "\n",
              "                        })\n",
              "                };\n",
              "                \n",
              "            </script>\n",
              "        </div>\n",
              "</body>\n",
              "</html>"
            ]
          },
          "metadata": {
            "tags": []
          }
        }
      ]
    },
    {
      "cell_type": "code",
      "metadata": {
        "id": "Uqj3yanT-E_n",
        "colab_type": "code",
        "colab": {}
      },
      "source": [
        "#Pull out data with mask so that I can extrapalate a difference\n",
        "opimask = dfor['AnyOpioid'] == 1\n",
        "opinull = dfor['AnyOpioid'] == 0\n",
        "opidf = dfor[opimask]\n",
        "opinull = dfor[opinull]"
      ],
      "execution_count": 0,
      "outputs": []
    },
    {
      "cell_type": "code",
      "metadata": {
        "id": "XXjgBR-dU-6A",
        "colab_type": "code",
        "colab": {
          "base_uri": "https://localhost:8080/",
          "height": 52
        },
        "outputId": "6b4c35e7-2e61-4a2f-9bde-87a6d771f4ce"
      },
      "source": [
        "print(len(opidf['ID']))\n",
        "print(len(opinull['ID']))"
      ],
      "execution_count": 199,
      "outputs": [
        {
          "output_type": "stream",
          "text": [
            "948\n",
            "70\n"
          ],
          "name": "stdout"
        }
      ]
    },
    {
      "cell_type": "code",
      "metadata": {
        "id": "4w2bf3TBH-X9",
        "colab_type": "code",
        "colab": {
          "base_uri": "https://localhost:8080/",
          "height": 616
        },
        "outputId": "be0a3d44-80a0-4b37-97b5-600043fddb4e"
      },
      "source": [
        "fig2 = px.scatter(opidf, x=\"Date\", y=\"Location\", color=\"Location\", \n",
        "    marginal_x=\"histogram\",\n",
        "    title=\"Accidental Deaths from Opiates by location and Date\")\n",
        "fig2.show()"
      ],
      "execution_count": 161,
      "outputs": [
        {
          "output_type": "display_data",
          "data": {
            "text/html": [
              "<html>\n",
              "<head><meta charset=\"utf-8\" /></head>\n",
              "<body>\n",
              "    <div>\n",
              "            <script src=\"https://cdnjs.cloudflare.com/ajax/libs/mathjax/2.7.5/MathJax.js?config=TeX-AMS-MML_SVG\"></script><script type=\"text/javascript\">if (window.MathJax) {MathJax.Hub.Config({SVG: {font: \"STIX-Web\"}});}</script>\n",
              "                <script type=\"text/javascript\">window.PlotlyConfig = {MathJaxConfig: 'local'};</script>\n",
              "        <script src=\"https://cdn.plot.ly/plotly-latest.min.js\"></script>    \n",
              "            <div id=\"1161e760-b28c-4c67-a679-8f161b4985a8\" class=\"plotly-graph-div\" style=\"height:600px; width:100%;\"></div>\n",
              "            <script type=\"text/javascript\">\n",
              "                \n",
              "                    window.PLOTLYENV=window.PLOTLYENV || {};\n",
              "                    \n",
              "                if (document.getElementById(\"1161e760-b28c-4c67-a679-8f161b4985a8\")) {\n",
              "                    Plotly.newPlot(\n",
              "                        '1161e760-b28c-4c67-a679-8f161b4985a8',\n",
              "                        [{\"hoverlabel\": {\"namelength\": 0}, \"hovertemplate\": \"Location=%{y}<br>Date=%{x}\", \"legendgroup\": \"Location=Hospital\", \"marker\": {\"color\": \"#636efa\", \"symbol\": \"circle\"}, \"mode\": \"markers\", \"name\": \"Location=Hospital\", \"showlegend\": true, \"type\": \"scatter\", \"x\": [\"2018-02-10\", \"2018-02-21\", \"2018-01-01\", \"2018-09-22\", \"2018-02-07\", \"2018-10-15\", \"2018-04-02\", \"2018-11-17\", \"2018-04-19\", \"2018-08-01\", \"2018-08-05\", \"2018-03-29\", \"2018-08-24\", \"2018-01-04\", \"2018-02-27\", \"2018-12-03\", \"2018-05-03\", \"2018-09-22\", \"2018-06-06\", \"2018-06-27\", \"2018-11-11\", \"2018-08-29\", \"2018-10-31\", \"2018-05-26\", \"2018-03-09\", \"2018-07-23\", \"2018-02-15\", \"2018-01-21\", \"2018-07-02\", \"2018-11-02\", \"2018-06-03\", \"2018-03-03\", \"2018-07-10\", \"2018-06-14\", \"2018-04-04\", \"2018-11-04\", \"2018-07-29\", \"2018-12-13\", \"2018-03-11\", \"2018-06-20\", \"2018-11-12\", \"2018-02-13\", \"2018-03-10\", \"2018-07-05\", \"2018-10-26\", \"2018-09-21\", \"2018-03-24\", \"2018-12-09\", \"2018-04-09\", \"2018-01-24\", \"2018-07-08\", \"2018-03-09\", \"2018-04-15\", \"2018-04-18\", \"2018-12-17\", \"2018-04-30\", \"2018-07-31\", \"2018-03-29\", \"2018-07-12\", \"2018-03-06\", \"2018-08-11\", \"2018-01-20\", \"2018-10-05\", \"2018-09-10\", \"2018-09-07\", \"2018-09-15\", \"2018-02-02\", \"2018-08-25\", \"2018-07-17\", \"2018-02-26\", \"2018-09-25\", \"2018-12-29\", \"2018-06-11\", \"2018-10-10\", \"2018-02-21\", \"2018-03-26\", \"2018-10-16\", \"2018-02-03\", \"2018-12-07\", \"2018-10-07\", \"2018-04-03\", \"2018-03-12\", \"2018-09-22\", \"2018-02-01\", \"2018-09-27\", \"2018-07-01\", \"2018-06-25\", \"2018-08-11\", \"2018-09-03\", \"2018-08-23\", \"2018-03-23\", \"2018-12-28\", \"2018-06-03\", \"2018-09-08\", \"2018-10-07\", \"2018-12-17\", \"2018-09-17\", \"2018-07-22\", \"2018-07-15\", \"2018-06-24\", \"2018-05-04\", \"2018-06-14\", \"2018-04-27\", \"2018-02-11\", \"2018-08-22\", \"2018-07-04\", \"2018-02-06\", \"2018-11-07\", \"2018-05-20\", \"2018-09-21\", \"2018-06-12\", \"2018-08-08\", \"2018-04-03\", \"2018-01-29\", \"2018-03-06\", \"2018-02-13\", \"2018-06-20\", \"2018-09-05\", \"2018-02-19\", \"2018-05-17\", \"2018-11-15\", \"2018-06-15\", \"2018-04-14\", \"2018-06-28\", \"2018-10-06\", \"2018-07-16\", \"2018-06-18\", \"2018-09-10\", \"2018-04-02\", \"2018-04-07\", \"2018-06-29\", \"2018-01-25\", \"2018-11-16\", \"2018-07-17\", \"2018-03-09\", \"2018-03-20\", \"2018-06-29\", \"2018-12-08\", \"2018-07-03\", \"2018-11-02\", \"2018-11-25\", \"2018-11-09\", \"2018-01-17\", \"2018-02-09\", \"2018-09-10\", \"2018-01-10\", \"2018-02-22\", \"2018-06-22\", \"2018-09-29\", \"2018-09-08\", \"2018-02-25\", \"2018-05-27\", \"2018-04-10\", \"2018-08-03\", \"2018-12-10\", \"2018-06-25\", \"2018-02-20\", \"2018-12-26\", \"2018-03-18\", \"2018-06-02\", \"2018-01-05\", \"2018-02-15\", \"2018-04-24\", \"2018-12-03\", \"2018-06-12\", \"2018-05-09\", \"2018-06-20\", \"2018-05-13\", \"2018-11-12\", \"2018-05-11\", \"2018-09-28\", \"2018-07-27\", \"2018-06-16\", \"2018-11-13\", \"2018-10-26\", \"2018-09-22\", \"2018-12-11\", \"2018-08-08\", \"2018-12-27\", \"2018-04-11\", \"2018-10-15\", \"2018-05-27\", \"2018-07-07\", \"2018-05-20\", \"2018-05-16\", \"2018-02-17\", \"2018-04-27\", \"2018-10-17\", \"2018-04-20\", \"2018-05-12\", \"2018-06-28\", \"2018-08-14\", \"2018-10-07\", \"2018-02-05\", \"2018-01-11\", \"2018-09-15\", \"2018-03-04\", \"2018-12-06\", \"2018-10-02\", \"2018-10-31\", \"2018-04-08\", \"2018-06-10\", \"2018-12-17\", \"2018-03-14\", \"2018-08-26\", \"2018-11-04\", \"2018-04-13\", \"2018-07-08\", \"2018-06-28\", \"2018-04-22\", \"2018-02-10\", \"2018-06-15\", \"2018-02-23\", \"2018-08-18\", \"2018-02-02\", \"2018-11-04\", \"2018-11-10\", \"2018-06-02\", \"2018-10-26\", \"2018-05-05\", \"2018-02-27\", \"2018-02-15\", \"2018-07-31\", \"2018-03-09\", \"2018-12-20\", \"2018-12-29\", \"2018-09-10\", \"2018-06-03\", \"2018-07-19\", \"2018-01-07\", \"2018-05-02\", \"2018-01-21\", \"2018-09-28\", \"2018-08-12\", \"2018-11-01\", \"2018-11-16\", \"2018-08-18\", \"2018-09-04\", \"2018-02-08\", \"2018-07-13\", \"2018-05-13\", \"2018-03-20\", \"2018-11-20\", \"2018-05-14\", \"2018-07-28\", \"2018-03-03\", \"2018-01-16\", \"2018-09-19\", \"2018-03-07\", \"2018-02-06\", \"2018-02-20\", \"2018-12-03\", \"2018-05-19\", \"2018-04-26\", \"2018-05-09\", \"2018-06-21\", \"2018-04-10\", \"2018-12-09\", \"2018-04-24\", \"2018-03-04\", \"2018-06-28\", \"2018-06-05\", \"2018-05-23\", \"2018-07-18\", \"2018-11-22\", \"2018-04-09\", \"2018-05-12\", \"2018-01-26\", \"2018-09-03\", \"2018-12-25\", \"2018-11-11\", \"2018-02-19\", \"2018-01-31\", \"2018-11-23\", \"2018-10-18\", \"2018-11-08\", \"2018-01-12\", \"2018-02-09\", \"2018-10-06\", \"2018-11-13\", \"2018-06-02\", \"2018-05-22\", \"2018-02-26\", \"2018-03-30\", \"2018-04-03\", \"2018-03-10\", \"2018-04-01\", \"2018-12-16\", \"2018-06-04\", \"2018-07-11\", \"2018-10-11\", \"2018-06-15\", \"2018-11-10\", \"2018-05-04\", \"2018-10-17\", \"2018-03-05\", \"2018-11-10\"], \"xaxis\": \"x\", \"y\": [\"Hospital\", \"Hospital\", \"Hospital\", \"Hospital\", \"Hospital\", \"Hospital\", \"Hospital\", \"Hospital\", \"Hospital\", \"Hospital\", \"Hospital\", \"Hospital\", \"Hospital\", \"Hospital\", \"Hospital\", \"Hospital\", \"Hospital\", \"Hospital\", \"Hospital\", \"Hospital\", \"Hospital\", \"Hospital\", \"Hospital\", \"Hospital\", \"Hospital\", \"Hospital\", \"Hospital\", \"Hospital\", \"Hospital\", \"Hospital\", \"Hospital\", \"Hospital\", \"Hospital\", \"Hospital\", \"Hospital\", \"Hospital\", \"Hospital\", \"Hospital\", \"Hospital\", \"Hospital\", \"Hospital\", \"Hospital\", \"Hospital\", \"Hospital\", \"Hospital\", \"Hospital\", \"Hospital\", \"Hospital\", \"Hospital\", \"Hospital\", \"Hospital\", \"Hospital\", \"Hospital\", \"Hospital\", \"Hospital\", \"Hospital\", \"Hospital\", \"Hospital\", \"Hospital\", \"Hospital\", \"Hospital\", \"Hospital\", \"Hospital\", \"Hospital\", \"Hospital\", \"Hospital\", \"Hospital\", \"Hospital\", \"Hospital\", \"Hospital\", \"Hospital\", \"Hospital\", \"Hospital\", \"Hospital\", \"Hospital\", \"Hospital\", \"Hospital\", \"Hospital\", \"Hospital\", \"Hospital\", \"Hospital\", \"Hospital\", \"Hospital\", \"Hospital\", \"Hospital\", \"Hospital\", \"Hospital\", \"Hospital\", \"Hospital\", \"Hospital\", \"Hospital\", \"Hospital\", \"Hospital\", \"Hospital\", \"Hospital\", \"Hospital\", \"Hospital\", \"Hospital\", \"Hospital\", \"Hospital\", \"Hospital\", \"Hospital\", \"Hospital\", \"Hospital\", \"Hospital\", \"Hospital\", \"Hospital\", \"Hospital\", \"Hospital\", \"Hospital\", \"Hospital\", \"Hospital\", \"Hospital\", \"Hospital\", \"Hospital\", \"Hospital\", \"Hospital\", \"Hospital\", \"Hospital\", \"Hospital\", \"Hospital\", \"Hospital\", \"Hospital\", \"Hospital\", \"Hospital\", \"Hospital\", \"Hospital\", \"Hospital\", \"Hospital\", \"Hospital\", \"Hospital\", \"Hospital\", \"Hospital\", \"Hospital\", \"Hospital\", \"Hospital\", \"Hospital\", \"Hospital\", \"Hospital\", \"Hospital\", \"Hospital\", \"Hospital\", \"Hospital\", \"Hospital\", \"Hospital\", \"Hospital\", \"Hospital\", \"Hospital\", \"Hospital\", \"Hospital\", \"Hospital\", \"Hospital\", \"Hospital\", \"Hospital\", \"Hospital\", \"Hospital\", \"Hospital\", \"Hospital\", \"Hospital\", \"Hospital\", \"Hospital\", \"Hospital\", \"Hospital\", \"Hospital\", \"Hospital\", \"Hospital\", \"Hospital\", \"Hospital\", \"Hospital\", \"Hospital\", \"Hospital\", \"Hospital\", \"Hospital\", \"Hospital\", \"Hospital\", \"Hospital\", \"Hospital\", \"Hospital\", \"Hospital\", \"Hospital\", \"Hospital\", \"Hospital\", \"Hospital\", \"Hospital\", \"Hospital\", \"Hospital\", \"Hospital\", \"Hospital\", \"Hospital\", \"Hospital\", \"Hospital\", \"Hospital\", \"Hospital\", \"Hospital\", \"Hospital\", \"Hospital\", \"Hospital\", \"Hospital\", \"Hospital\", \"Hospital\", \"Hospital\", \"Hospital\", \"Hospital\", \"Hospital\", \"Hospital\", \"Hospital\", \"Hospital\", \"Hospital\", \"Hospital\", \"Hospital\", \"Hospital\", \"Hospital\", \"Hospital\", \"Hospital\", \"Hospital\", \"Hospital\", \"Hospital\", \"Hospital\", \"Hospital\", \"Hospital\", \"Hospital\", \"Hospital\", \"Hospital\", \"Hospital\", \"Hospital\", \"Hospital\", \"Hospital\", \"Hospital\", \"Hospital\", \"Hospital\", \"Hospital\", \"Hospital\", \"Hospital\", \"Hospital\", \"Hospital\", \"Hospital\", \"Hospital\", \"Hospital\", \"Hospital\", \"Hospital\", \"Hospital\", \"Hospital\", \"Hospital\", \"Hospital\", \"Hospital\", \"Hospital\", \"Hospital\", \"Hospital\", \"Hospital\", \"Hospital\", \"Hospital\", \"Hospital\", \"Hospital\", \"Hospital\", \"Hospital\", \"Hospital\", \"Hospital\", \"Hospital\", \"Hospital\", \"Hospital\", \"Hospital\", \"Hospital\", \"Hospital\", \"Hospital\", \"Hospital\", \"Hospital\", \"Hospital\", \"Hospital\", \"Hospital\", \"Hospital\", \"Hospital\", \"Hospital\", \"Hospital\", \"Hospital\", \"Hospital\", \"Hospital\", \"Hospital\", \"Hospital\", \"Hospital\", \"Hospital\", \"Hospital\", \"Hospital\", \"Hospital\", \"Hospital\", \"Hospital\", \"Hospital\", \"Hospital\", \"Hospital\", \"Hospital\", \"Hospital\", \"Hospital\", \"Hospital\", \"Hospital\", \"Hospital\", \"Hospital\", \"Hospital\", \"Hospital\"], \"yaxis\": \"y\"}, {\"alignmentgroup\": \"True\", \"bingroup\": \"x\", \"hoverlabel\": {\"namelength\": 0}, \"hovertemplate\": \"Location=Hospital<br>Date=%{x}<br>count=%{y}\", \"legendgroup\": \"Location=Hospital\", \"marker\": {\"color\": \"#636efa\"}, \"name\": \"Location=Hospital\", \"offsetgroup\": \"Location=Hospital\", \"opacity\": 0.5, \"showlegend\": false, \"type\": \"histogram\", \"x\": [\"2018-02-10\", \"2018-02-21\", \"2018-01-01\", \"2018-09-22\", \"2018-02-07\", \"2018-10-15\", \"2018-04-02\", \"2018-11-17\", \"2018-04-19\", \"2018-08-01\", \"2018-08-05\", \"2018-03-29\", \"2018-08-24\", \"2018-01-04\", \"2018-02-27\", \"2018-12-03\", \"2018-05-03\", \"2018-09-22\", \"2018-06-06\", \"2018-06-27\", \"2018-11-11\", \"2018-08-29\", \"2018-10-31\", \"2018-05-26\", \"2018-03-09\", \"2018-07-23\", \"2018-02-15\", \"2018-01-21\", \"2018-07-02\", \"2018-11-02\", \"2018-06-03\", \"2018-03-03\", \"2018-07-10\", \"2018-06-14\", \"2018-04-04\", \"2018-11-04\", \"2018-07-29\", \"2018-12-13\", \"2018-03-11\", \"2018-06-20\", \"2018-11-12\", \"2018-02-13\", \"2018-03-10\", \"2018-07-05\", \"2018-10-26\", \"2018-09-21\", \"2018-03-24\", \"2018-12-09\", \"2018-04-09\", \"2018-01-24\", \"2018-07-08\", \"2018-03-09\", \"2018-04-15\", \"2018-04-18\", \"2018-12-17\", \"2018-04-30\", \"2018-07-31\", \"2018-03-29\", \"2018-07-12\", \"2018-03-06\", \"2018-08-11\", \"2018-01-20\", \"2018-10-05\", \"2018-09-10\", \"2018-09-07\", \"2018-09-15\", \"2018-02-02\", \"2018-08-25\", \"2018-07-17\", \"2018-02-26\", \"2018-09-25\", \"2018-12-29\", \"2018-06-11\", \"2018-10-10\", \"2018-02-21\", \"2018-03-26\", \"2018-10-16\", \"2018-02-03\", \"2018-12-07\", \"2018-10-07\", \"2018-04-03\", \"2018-03-12\", \"2018-09-22\", \"2018-02-01\", \"2018-09-27\", \"2018-07-01\", \"2018-06-25\", \"2018-08-11\", \"2018-09-03\", \"2018-08-23\", \"2018-03-23\", \"2018-12-28\", \"2018-06-03\", \"2018-09-08\", \"2018-10-07\", \"2018-12-17\", \"2018-09-17\", \"2018-07-22\", \"2018-07-15\", \"2018-06-24\", \"2018-05-04\", \"2018-06-14\", \"2018-04-27\", \"2018-02-11\", \"2018-08-22\", \"2018-07-04\", \"2018-02-06\", \"2018-11-07\", \"2018-05-20\", \"2018-09-21\", \"2018-06-12\", \"2018-08-08\", \"2018-04-03\", \"2018-01-29\", \"2018-03-06\", \"2018-02-13\", \"2018-06-20\", \"2018-09-05\", \"2018-02-19\", \"2018-05-17\", \"2018-11-15\", \"2018-06-15\", \"2018-04-14\", \"2018-06-28\", \"2018-10-06\", \"2018-07-16\", \"2018-06-18\", \"2018-09-10\", \"2018-04-02\", \"2018-04-07\", \"2018-06-29\", \"2018-01-25\", \"2018-11-16\", \"2018-07-17\", \"2018-03-09\", \"2018-03-20\", \"2018-06-29\", \"2018-12-08\", \"2018-07-03\", \"2018-11-02\", \"2018-11-25\", \"2018-11-09\", \"2018-01-17\", \"2018-02-09\", \"2018-09-10\", \"2018-01-10\", \"2018-02-22\", \"2018-06-22\", \"2018-09-29\", \"2018-09-08\", \"2018-02-25\", \"2018-05-27\", \"2018-04-10\", \"2018-08-03\", \"2018-12-10\", \"2018-06-25\", \"2018-02-20\", \"2018-12-26\", \"2018-03-18\", \"2018-06-02\", \"2018-01-05\", \"2018-02-15\", \"2018-04-24\", \"2018-12-03\", \"2018-06-12\", \"2018-05-09\", \"2018-06-20\", \"2018-05-13\", \"2018-11-12\", \"2018-05-11\", \"2018-09-28\", \"2018-07-27\", \"2018-06-16\", \"2018-11-13\", \"2018-10-26\", \"2018-09-22\", \"2018-12-11\", \"2018-08-08\", \"2018-12-27\", \"2018-04-11\", \"2018-10-15\", \"2018-05-27\", \"2018-07-07\", \"2018-05-20\", \"2018-05-16\", \"2018-02-17\", \"2018-04-27\", \"2018-10-17\", \"2018-04-20\", \"2018-05-12\", \"2018-06-28\", \"2018-08-14\", \"2018-10-07\", \"2018-02-05\", \"2018-01-11\", \"2018-09-15\", \"2018-03-04\", \"2018-12-06\", \"2018-10-02\", \"2018-10-31\", \"2018-04-08\", \"2018-06-10\", \"2018-12-17\", \"2018-03-14\", \"2018-08-26\", \"2018-11-04\", \"2018-04-13\", \"2018-07-08\", \"2018-06-28\", \"2018-04-22\", \"2018-02-10\", \"2018-06-15\", \"2018-02-23\", \"2018-08-18\", \"2018-02-02\", \"2018-11-04\", \"2018-11-10\", \"2018-06-02\", \"2018-10-26\", \"2018-05-05\", \"2018-02-27\", \"2018-02-15\", \"2018-07-31\", \"2018-03-09\", \"2018-12-20\", \"2018-12-29\", \"2018-09-10\", \"2018-06-03\", \"2018-07-19\", \"2018-01-07\", \"2018-05-02\", \"2018-01-21\", \"2018-09-28\", \"2018-08-12\", \"2018-11-01\", \"2018-11-16\", \"2018-08-18\", \"2018-09-04\", \"2018-02-08\", \"2018-07-13\", \"2018-05-13\", \"2018-03-20\", \"2018-11-20\", \"2018-05-14\", \"2018-07-28\", \"2018-03-03\", \"2018-01-16\", \"2018-09-19\", \"2018-03-07\", \"2018-02-06\", \"2018-02-20\", \"2018-12-03\", \"2018-05-19\", \"2018-04-26\", \"2018-05-09\", \"2018-06-21\", \"2018-04-10\", \"2018-12-09\", \"2018-04-24\", \"2018-03-04\", \"2018-06-28\", \"2018-06-05\", \"2018-05-23\", \"2018-07-18\", \"2018-11-22\", \"2018-04-09\", \"2018-05-12\", \"2018-01-26\", \"2018-09-03\", \"2018-12-25\", \"2018-11-11\", \"2018-02-19\", \"2018-01-31\", \"2018-11-23\", \"2018-10-18\", \"2018-11-08\", \"2018-01-12\", \"2018-02-09\", \"2018-10-06\", \"2018-11-13\", \"2018-06-02\", \"2018-05-22\", \"2018-02-26\", \"2018-03-30\", \"2018-04-03\", \"2018-03-10\", \"2018-04-01\", \"2018-12-16\", \"2018-06-04\", \"2018-07-11\", \"2018-10-11\", \"2018-06-15\", \"2018-11-10\", \"2018-05-04\", \"2018-10-17\", \"2018-03-05\", \"2018-11-10\"], \"xaxis\": \"x2\", \"yaxis\": \"y2\"}, {\"hoverlabel\": {\"namelength\": 0}, \"hovertemplate\": \"Location=%{y}<br>Date=%{x}\", \"legendgroup\": \"Location=Nursing Home\", \"marker\": {\"color\": \"#EF553B\", \"symbol\": \"circle\"}, \"mode\": \"markers\", \"name\": \"Location=Nursing Home\", \"showlegend\": true, \"type\": \"scatter\", \"x\": [\"2018-04-11\"], \"xaxis\": \"x\", \"y\": [\"Nursing Home\"], \"yaxis\": \"y\"}, {\"alignmentgroup\": \"True\", \"bingroup\": \"x\", \"hoverlabel\": {\"namelength\": 0}, \"hovertemplate\": \"Location=Nursing Home<br>Date=%{x}<br>count=%{y}\", \"legendgroup\": \"Location=Nursing Home\", \"marker\": {\"color\": \"#EF553B\"}, \"name\": \"Location=Nursing Home\", \"offsetgroup\": \"Location=Nursing Home\", \"opacity\": 0.5, \"showlegend\": false, \"type\": \"histogram\", \"x\": [\"2018-04-11\"], \"xaxis\": \"x2\", \"yaxis\": \"y2\"}, {\"hoverlabel\": {\"namelength\": 0}, \"hovertemplate\": \"Location=%{y}<br>Date=%{x}\", \"legendgroup\": \"Location=Residence\", \"marker\": {\"color\": \"#00cc96\", \"symbol\": \"circle\"}, \"mode\": \"markers\", \"name\": \"Location=Residence\", \"showlegend\": true, \"type\": \"scatter\", \"x\": [\"2018-06-18\", \"2018-12-23\", \"2018-06-21\", \"2018-01-04\", \"2018-05-11\", \"2018-05-13\", \"2018-09-19\", \"2018-03-07\", \"2018-10-13\", \"2018-03-16\", \"2018-09-29\", \"2018-11-26\", \"2018-10-06\", \"2018-11-14\", \"2018-02-03\", \"2018-10-26\", \"2018-08-06\", \"2018-04-11\", \"2018-05-30\", \"2018-03-21\", \"2018-06-03\", \"2018-12-15\", \"2018-09-15\", \"2018-11-04\", \"2018-02-21\", \"2018-07-03\", \"2018-07-06\", \"2018-05-19\", \"2018-06-07\", \"2018-04-26\", \"2018-08-18\", \"2018-06-23\", \"2018-07-13\", \"2018-10-04\", \"2018-01-07\", \"2018-07-10\", \"2018-05-07\", \"2018-07-14\", \"2018-03-16\", \"2018-11-19\", \"2018-05-06\", \"2018-04-03\", \"2018-09-12\", \"2018-12-11\", \"2018-10-20\", \"2018-06-30\", \"2018-08-27\", \"2018-11-05\", \"2018-07-18\", \"2018-03-26\", \"2018-01-31\", \"2018-09-03\", \"2018-11-26\", \"2018-04-16\", \"2018-02-28\", \"2018-08-22\", \"2018-10-03\", \"2018-05-04\", \"2018-01-29\", \"2018-02-24\", \"2018-07-15\", \"2018-04-01\", \"2018-09-04\", \"2018-01-19\", \"2018-08-31\", \"2018-03-01\", \"2018-01-13\", \"2018-04-07\", \"2018-02-06\", \"2018-07-18\", \"2018-05-24\", \"2018-07-22\", \"2018-11-03\", \"2018-05-12\", \"2018-12-17\", \"2018-05-15\", \"2018-06-02\", \"2018-11-24\", \"2018-04-24\", \"2018-09-02\", \"2018-03-18\", \"2018-03-04\", \"2018-07-20\", \"2018-08-26\", \"2018-06-28\", \"2018-02-17\", \"2018-11-13\", \"2018-06-24\", \"2018-10-15\", \"2018-05-28\", \"2018-12-21\", \"2018-11-22\", \"2018-09-29\", \"2018-05-12\", \"2018-03-17\", \"2018-09-18\", \"2018-09-27\", \"2018-03-14\", \"2018-12-01\", \"2018-07-28\", \"2018-06-17\", \"2018-12-05\", \"2018-07-12\", \"2018-08-08\", \"2018-10-28\", \"2018-12-28\", \"2018-06-02\", \"2018-04-08\", \"2018-11-16\", \"2018-03-20\", \"2018-10-23\", \"2018-08-03\", \"2018-07-12\", \"2018-06-04\", \"2018-08-05\", \"2018-04-14\", \"2018-06-26\", \"2018-02-19\", \"2018-05-17\", \"2018-05-21\", \"2018-08-03\", \"2018-09-29\", \"2018-06-29\", \"2018-11-22\", \"2018-02-15\", \"2018-10-12\", \"2018-11-04\", \"2018-08-26\", \"2018-06-26\", \"2018-10-09\", \"2018-05-20\", \"2018-06-07\", \"2018-11-23\", \"2018-12-02\", \"2018-04-10\", \"2018-03-21\", \"2018-11-16\", \"2018-10-23\", \"2018-10-19\", \"2018-05-13\", \"2018-11-18\", \"2018-10-20\", \"2018-04-11\", \"2018-05-06\", \"2018-11-13\", \"2018-12-04\", \"2018-03-04\", \"2018-06-04\", \"2018-02-16\", \"2018-09-07\", \"2018-05-28\", \"2018-05-11\", \"2018-05-24\", \"2018-12-22\", \"2018-09-18\", \"2018-07-17\", \"2018-03-17\", \"2018-01-21\", \"2018-11-15\", \"2018-11-02\", \"2018-03-29\", \"2018-02-09\", \"2018-12-03\", \"2018-04-25\", \"2018-11-11\", \"2018-05-03\", \"2018-08-20\", \"2018-05-13\", \"2018-07-24\", \"2018-12-13\", \"2018-09-15\", \"2018-11-04\", \"2018-12-09\", \"2018-07-19\", \"2018-11-19\", \"2018-11-08\", \"2018-03-03\", \"2018-05-22\", \"2018-06-13\", \"2018-05-05\", \"2018-06-06\", \"2018-07-30\", \"2018-09-26\", \"2018-10-26\", \"2018-02-25\", \"2018-01-02\", \"2018-02-23\", \"2018-03-08\", \"2018-03-16\", \"2018-03-25\", \"2018-03-31\", \"2018-11-03\", \"2018-03-18\", \"2018-12-01\", \"2018-12-17\", \"2018-11-12\", \"2018-12-17\", \"2018-09-02\", \"2018-08-09\", \"2018-02-03\", \"2018-04-18\", \"2018-03-23\", \"2018-06-03\", \"2018-09-30\", \"2018-07-13\", \"2018-05-09\", \"2018-06-15\", \"2018-09-13\", \"2018-12-13\", \"2018-09-26\", \"2018-04-16\", \"2018-02-28\", \"2018-01-13\", \"2018-02-27\", \"2018-01-20\", \"2018-11-03\", \"2018-07-28\", \"2018-11-26\", \"2018-05-02\", \"2018-02-24\", \"2018-02-02\", \"2018-06-11\", \"2018-01-26\", \"2018-02-08\", \"2018-04-06\", \"2018-07-12\", \"2018-03-14\", \"2018-07-06\", \"2018-10-09\", \"2018-11-05\", \"2018-05-10\", \"2018-03-20\", \"2018-06-22\", \"2018-10-21\", \"2018-10-20\", \"2018-01-20\", \"2018-08-05\", \"2018-05-14\", \"2018-07-27\", \"2018-01-12\", \"2018-04-06\", \"2018-07-03\", \"2018-04-30\", \"2018-03-05\", \"2018-04-20\", \"2018-05-31\", \"2018-06-23\", \"2018-03-10\", \"2018-05-23\", \"2018-04-08\", \"2018-12-04\", \"2018-09-08\", \"2018-03-12\", \"2018-02-01\", \"2018-12-13\", \"2018-10-24\", \"2018-01-15\", \"2018-08-05\", \"2018-05-13\", \"2018-12-29\", \"2018-04-14\", \"2018-06-27\", \"2018-08-27\", \"2018-09-01\", \"2018-06-02\", \"2018-06-06\", \"2018-06-11\", \"2018-05-22\", \"2018-12-03\", \"2018-12-02\", \"2018-11-22\", \"2018-09-23\", \"2018-07-12\", \"2018-01-04\", \"2018-01-27\", \"2018-02-03\", \"2018-07-21\", \"2018-05-01\", \"2018-03-10\", \"2018-08-31\", \"2018-07-11\", \"2018-10-08\", \"2018-05-06\", \"2018-08-08\", \"2018-12-15\", \"2018-12-30\", \"2018-07-04\", \"2018-09-21\", \"2018-10-19\", \"2018-06-29\", \"2018-09-14\", \"2018-11-04\", \"2018-07-03\", \"2018-07-19\", \"2018-02-05\", \"2018-05-18\", \"2018-04-17\", \"2018-07-30\", \"2018-07-09\", \"2018-05-03\", \"2018-10-07\", \"2018-01-04\", \"2018-09-22\", \"2018-10-18\", \"2018-08-13\", \"2018-03-09\", \"2018-10-13\", \"2018-03-11\", \"2018-04-10\", \"2018-07-14\", \"2018-03-17\", \"2018-08-12\", \"2018-09-26\", \"2018-02-27\", \"2018-05-31\", \"2018-12-04\", \"2018-08-04\", \"2018-11-03\", \"2018-02-13\", \"2018-03-12\", \"2018-12-24\", \"2018-10-10\", \"2018-11-05\", \"2018-02-18\", \"2018-02-01\", \"2018-03-31\", \"2018-05-04\", \"2018-05-08\", \"2018-01-20\", \"2018-10-14\", \"2018-10-04\", \"2018-10-08\", \"2018-03-06\", \"2018-06-23\", \"2018-11-26\", \"2018-03-16\", \"2018-06-20\", \"2018-07-22\", \"2018-04-01\", \"2018-11-12\", \"2018-02-03\", \"2018-07-16\", \"2018-08-24\", \"2018-04-07\", \"2018-03-10\", \"2018-11-02\", \"2018-02-15\", \"2018-06-04\", \"2018-05-14\", \"2018-10-12\", \"2018-12-17\", \"2018-11-23\", \"2018-05-07\", \"2018-06-05\", \"2018-06-18\", \"2018-04-03\", \"2018-03-01\", \"2018-10-15\", \"2018-11-22\", \"2018-08-31\", \"2018-01-26\", \"2018-04-06\", \"2018-01-20\", \"2018-12-12\", \"2018-11-17\", \"2018-09-11\", \"2018-11-11\", \"2018-09-04\", \"2018-01-12\", \"2018-10-06\", \"2018-09-12\", \"2018-03-06\", \"2018-07-02\", \"2018-05-06\", \"2018-03-02\", \"2018-08-23\", \"2018-01-05\", \"2018-01-25\", \"2018-03-06\", \"2018-04-19\", \"2018-02-22\", \"2018-07-11\", \"2018-03-14\", \"2018-03-11\", \"2018-07-14\", \"2018-08-01\", \"2018-06-30\", \"2018-03-29\", \"2018-06-26\", \"2018-11-02\", \"2018-02-02\", \"2018-10-05\", \"2018-05-03\", \"2018-07-16\", \"2018-06-18\", \"2018-01-04\", \"2018-02-03\", \"2018-12-14\", \"2018-07-22\", \"2018-06-22\", \"2018-12-11\", \"2018-01-13\", \"2018-10-18\", \"2018-08-05\", \"2018-07-19\", \"2018-07-26\", \"2018-06-12\", \"2018-08-07\", \"2018-10-17\", \"2018-12-23\", \"2018-10-07\", \"2018-12-31\", \"2018-11-06\", \"2018-08-23\", \"2018-06-29\", \"2018-02-14\", \"2018-03-16\", \"2018-11-05\", \"2018-03-25\", \"2018-02-05\", \"2018-01-29\", \"2018-08-27\", \"2018-03-17\", \"2018-04-16\", \"2018-12-16\", \"2018-01-04\", \"2018-10-04\", \"2018-03-20\", \"2018-10-24\", \"2018-01-15\", \"2018-10-07\", \"2018-09-17\", \"2018-10-20\", \"2018-11-20\", \"2018-09-09\", \"2018-01-12\", \"2018-05-16\", \"2018-09-15\", \"2018-07-28\", \"2018-08-05\", \"2018-07-20\", \"2018-04-14\", \"2018-04-06\", \"2018-11-18\", \"2018-09-15\", \"2018-08-08\", \"2018-12-17\", \"2018-09-25\", \"2018-09-08\", \"2018-04-07\", \"2018-06-23\", \"2018-10-08\", \"2018-06-28\", \"2018-12-04\", \"2018-02-06\", \"2018-03-19\", \"2018-06-19\", \"2018-08-26\", \"2018-10-12\", \"2018-03-12\", \"2018-03-14\", \"2018-07-08\", \"2018-05-04\", \"2018-05-17\", \"2018-11-06\", \"2018-12-03\", \"2018-02-12\", \"2018-03-24\", \"2018-10-22\", \"2018-09-27\", \"2018-01-19\", \"2018-04-15\", \"2018-12-12\", \"2018-12-12\", \"2018-03-01\", \"2018-09-21\", \"2018-12-06\", \"2018-02-17\", \"2018-08-06\", \"2018-04-20\", \"2018-11-03\", \"2018-07-29\", \"2018-02-23\", \"2018-04-08\", \"2018-07-21\", \"2018-09-20\", \"2018-07-16\", \"2018-09-04\", \"2018-11-28\", \"2018-03-10\", \"2018-08-04\", \"2018-07-07\", \"2018-06-25\", \"2018-08-11\", \"2018-06-17\", \"2018-09-07\", \"2018-11-02\", \"2018-08-31\", \"2018-02-01\", \"2018-08-25\", \"2018-08-21\", \"2018-03-23\", \"2018-02-10\", \"2018-05-12\", \"2018-02-04\", \"2018-10-31\", \"2018-06-16\", \"2018-03-17\"], \"xaxis\": \"x\", \"y\": [\"Residence\", \"Residence\", \"Residence\", \"Residence\", \"Residence\", \"Residence\", \"Residence\", \"Residence\", \"Residence\", \"Residence\", \"Residence\", \"Residence\", \"Residence\", \"Residence\", \"Residence\", \"Residence\", \"Residence\", \"Residence\", \"Residence\", \"Residence\", \"Residence\", \"Residence\", \"Residence\", \"Residence\", \"Residence\", \"Residence\", \"Residence\", \"Residence\", \"Residence\", \"Residence\", \"Residence\", \"Residence\", \"Residence\", \"Residence\", \"Residence\", \"Residence\", \"Residence\", \"Residence\", \"Residence\", \"Residence\", \"Residence\", \"Residence\", \"Residence\", \"Residence\", \"Residence\", \"Residence\", \"Residence\", \"Residence\", \"Residence\", \"Residence\", \"Residence\", \"Residence\", \"Residence\", \"Residence\", \"Residence\", \"Residence\", \"Residence\", \"Residence\", \"Residence\", \"Residence\", \"Residence\", \"Residence\", \"Residence\", \"Residence\", \"Residence\", \"Residence\", \"Residence\", \"Residence\", \"Residence\", \"Residence\", \"Residence\", \"Residence\", \"Residence\", \"Residence\", \"Residence\", \"Residence\", \"Residence\", \"Residence\", \"Residence\", \"Residence\", \"Residence\", \"Residence\", \"Residence\", \"Residence\", \"Residence\", \"Residence\", \"Residence\", \"Residence\", \"Residence\", \"Residence\", \"Residence\", \"Residence\", \"Residence\", \"Residence\", \"Residence\", \"Residence\", \"Residence\", \"Residence\", \"Residence\", \"Residence\", \"Residence\", \"Residence\", \"Residence\", \"Residence\", \"Residence\", \"Residence\", \"Residence\", \"Residence\", \"Residence\", \"Residence\", \"Residence\", \"Residence\", \"Residence\", \"Residence\", \"Residence\", \"Residence\", \"Residence\", \"Residence\", \"Residence\", \"Residence\", \"Residence\", \"Residence\", \"Residence\", \"Residence\", \"Residence\", \"Residence\", \"Residence\", \"Residence\", \"Residence\", \"Residence\", \"Residence\", \"Residence\", \"Residence\", \"Residence\", \"Residence\", \"Residence\", \"Residence\", \"Residence\", \"Residence\", \"Residence\", \"Residence\", \"Residence\", \"Residence\", \"Residence\", \"Residence\", \"Residence\", \"Residence\", \"Residence\", \"Residence\", \"Residence\", \"Residence\", \"Residence\", \"Residence\", \"Residence\", \"Residence\", \"Residence\", \"Residence\", \"Residence\", \"Residence\", \"Residence\", \"Residence\", \"Residence\", \"Residence\", \"Residence\", \"Residence\", \"Residence\", \"Residence\", \"Residence\", \"Residence\", \"Residence\", \"Residence\", \"Residence\", \"Residence\", \"Residence\", \"Residence\", \"Residence\", \"Residence\", \"Residence\", \"Residence\", \"Residence\", \"Residence\", \"Residence\", \"Residence\", \"Residence\", \"Residence\", \"Residence\", \"Residence\", \"Residence\", \"Residence\", \"Residence\", \"Residence\", \"Residence\", \"Residence\", \"Residence\", \"Residence\", \"Residence\", \"Residence\", \"Residence\", \"Residence\", \"Residence\", \"Residence\", \"Residence\", \"Residence\", \"Residence\", \"Residence\", \"Residence\", \"Residence\", \"Residence\", \"Residence\", \"Residence\", \"Residence\", \"Residence\", \"Residence\", \"Residence\", \"Residence\", \"Residence\", \"Residence\", \"Residence\", \"Residence\", \"Residence\", \"Residence\", \"Residence\", \"Residence\", \"Residence\", \"Residence\", \"Residence\", \"Residence\", \"Residence\", \"Residence\", \"Residence\", \"Residence\", \"Residence\", \"Residence\", \"Residence\", \"Residence\", \"Residence\", \"Residence\", \"Residence\", \"Residence\", \"Residence\", \"Residence\", \"Residence\", \"Residence\", \"Residence\", \"Residence\", \"Residence\", \"Residence\", \"Residence\", \"Residence\", \"Residence\", \"Residence\", \"Residence\", \"Residence\", \"Residence\", \"Residence\", \"Residence\", \"Residence\", \"Residence\", \"Residence\", \"Residence\", \"Residence\", \"Residence\", \"Residence\", \"Residence\", \"Residence\", \"Residence\", \"Residence\", \"Residence\", \"Residence\", \"Residence\", \"Residence\", \"Residence\", \"Residence\", \"Residence\", \"Residence\", \"Residence\", \"Residence\", \"Residence\", \"Residence\", \"Residence\", \"Residence\", \"Residence\", \"Residence\", \"Residence\", \"Residence\", \"Residence\", \"Residence\", \"Residence\", \"Residence\", \"Residence\", \"Residence\", \"Residence\", \"Residence\", \"Residence\", \"Residence\", \"Residence\", \"Residence\", \"Residence\", \"Residence\", \"Residence\", \"Residence\", \"Residence\", \"Residence\", \"Residence\", \"Residence\", \"Residence\", \"Residence\", \"Residence\", \"Residence\", \"Residence\", \"Residence\", \"Residence\", \"Residence\", \"Residence\", \"Residence\", \"Residence\", \"Residence\", \"Residence\", \"Residence\", \"Residence\", \"Residence\", \"Residence\", \"Residence\", \"Residence\", \"Residence\", \"Residence\", \"Residence\", \"Residence\", \"Residence\", \"Residence\", \"Residence\", \"Residence\", \"Residence\", \"Residence\", \"Residence\", \"Residence\", \"Residence\", \"Residence\", \"Residence\", \"Residence\", \"Residence\", \"Residence\", \"Residence\", \"Residence\", \"Residence\", \"Residence\", \"Residence\", \"Residence\", \"Residence\", \"Residence\", \"Residence\", \"Residence\", \"Residence\", \"Residence\", \"Residence\", \"Residence\", \"Residence\", \"Residence\", \"Residence\", \"Residence\", \"Residence\", \"Residence\", \"Residence\", \"Residence\", \"Residence\", \"Residence\", \"Residence\", \"Residence\", \"Residence\", \"Residence\", \"Residence\", \"Residence\", \"Residence\", \"Residence\", \"Residence\", \"Residence\", \"Residence\", \"Residence\", \"Residence\", \"Residence\", \"Residence\", \"Residence\", \"Residence\", \"Residence\", \"Residence\", \"Residence\", \"Residence\", \"Residence\", \"Residence\", \"Residence\", \"Residence\", \"Residence\", \"Residence\", \"Residence\", \"Residence\", \"Residence\", \"Residence\", \"Residence\", \"Residence\", \"Residence\", \"Residence\", \"Residence\", \"Residence\", \"Residence\", \"Residence\", \"Residence\", \"Residence\", \"Residence\", \"Residence\", \"Residence\", \"Residence\", \"Residence\", \"Residence\", \"Residence\", \"Residence\", \"Residence\", \"Residence\", \"Residence\", \"Residence\", \"Residence\", \"Residence\", \"Residence\", \"Residence\", \"Residence\", \"Residence\", \"Residence\", \"Residence\", \"Residence\", \"Residence\", \"Residence\", \"Residence\", \"Residence\", \"Residence\", \"Residence\", \"Residence\", \"Residence\", \"Residence\", \"Residence\", \"Residence\", \"Residence\", \"Residence\", \"Residence\", \"Residence\", \"Residence\", \"Residence\", \"Residence\", \"Residence\", \"Residence\", \"Residence\", \"Residence\", \"Residence\", \"Residence\", \"Residence\", \"Residence\", \"Residence\", \"Residence\", \"Residence\", \"Residence\", \"Residence\", \"Residence\", \"Residence\", \"Residence\", \"Residence\", \"Residence\", \"Residence\", \"Residence\", \"Residence\", \"Residence\", \"Residence\", \"Residence\", \"Residence\", \"Residence\", \"Residence\", \"Residence\", \"Residence\", \"Residence\", \"Residence\", \"Residence\", \"Residence\", \"Residence\", \"Residence\", \"Residence\", \"Residence\", \"Residence\", \"Residence\", \"Residence\", \"Residence\", \"Residence\", \"Residence\", \"Residence\", \"Residence\", \"Residence\", \"Residence\", \"Residence\", \"Residence\", \"Residence\", \"Residence\", \"Residence\", \"Residence\", \"Residence\", \"Residence\", \"Residence\", \"Residence\", \"Residence\", \"Residence\", \"Residence\", \"Residence\", \"Residence\"], \"yaxis\": \"y\"}, {\"alignmentgroup\": \"True\", \"bingroup\": \"x\", \"hoverlabel\": {\"namelength\": 0}, \"hovertemplate\": \"Location=Residence<br>Date=%{x}<br>count=%{y}\", \"legendgroup\": \"Location=Residence\", \"marker\": {\"color\": \"#00cc96\"}, \"name\": \"Location=Residence\", \"offsetgroup\": \"Location=Residence\", \"opacity\": 0.5, \"showlegend\": false, \"type\": \"histogram\", \"x\": [\"2018-06-18\", \"2018-12-23\", \"2018-06-21\", \"2018-01-04\", \"2018-05-11\", \"2018-05-13\", \"2018-09-19\", \"2018-03-07\", \"2018-10-13\", \"2018-03-16\", \"2018-09-29\", \"2018-11-26\", \"2018-10-06\", \"2018-11-14\", \"2018-02-03\", \"2018-10-26\", \"2018-08-06\", \"2018-04-11\", \"2018-05-30\", \"2018-03-21\", \"2018-06-03\", \"2018-12-15\", \"2018-09-15\", \"2018-11-04\", \"2018-02-21\", \"2018-07-03\", \"2018-07-06\", \"2018-05-19\", \"2018-06-07\", \"2018-04-26\", \"2018-08-18\", \"2018-06-23\", \"2018-07-13\", \"2018-10-04\", \"2018-01-07\", \"2018-07-10\", \"2018-05-07\", \"2018-07-14\", \"2018-03-16\", \"2018-11-19\", \"2018-05-06\", \"2018-04-03\", \"2018-09-12\", \"2018-12-11\", \"2018-10-20\", \"2018-06-30\", \"2018-08-27\", \"2018-11-05\", \"2018-07-18\", \"2018-03-26\", \"2018-01-31\", \"2018-09-03\", \"2018-11-26\", \"2018-04-16\", \"2018-02-28\", \"2018-08-22\", \"2018-10-03\", \"2018-05-04\", \"2018-01-29\", \"2018-02-24\", \"2018-07-15\", \"2018-04-01\", \"2018-09-04\", \"2018-01-19\", \"2018-08-31\", \"2018-03-01\", \"2018-01-13\", \"2018-04-07\", \"2018-02-06\", \"2018-07-18\", \"2018-05-24\", \"2018-07-22\", \"2018-11-03\", \"2018-05-12\", \"2018-12-17\", \"2018-05-15\", \"2018-06-02\", \"2018-11-24\", \"2018-04-24\", \"2018-09-02\", \"2018-03-18\", \"2018-03-04\", \"2018-07-20\", \"2018-08-26\", \"2018-06-28\", \"2018-02-17\", \"2018-11-13\", \"2018-06-24\", \"2018-10-15\", \"2018-05-28\", \"2018-12-21\", \"2018-11-22\", \"2018-09-29\", \"2018-05-12\", \"2018-03-17\", \"2018-09-18\", \"2018-09-27\", \"2018-03-14\", \"2018-12-01\", \"2018-07-28\", \"2018-06-17\", \"2018-12-05\", \"2018-07-12\", \"2018-08-08\", \"2018-10-28\", \"2018-12-28\", \"2018-06-02\", \"2018-04-08\", \"2018-11-16\", \"2018-03-20\", \"2018-10-23\", \"2018-08-03\", \"2018-07-12\", \"2018-06-04\", \"2018-08-05\", \"2018-04-14\", \"2018-06-26\", \"2018-02-19\", \"2018-05-17\", \"2018-05-21\", \"2018-08-03\", \"2018-09-29\", \"2018-06-29\", \"2018-11-22\", \"2018-02-15\", \"2018-10-12\", \"2018-11-04\", \"2018-08-26\", \"2018-06-26\", \"2018-10-09\", \"2018-05-20\", \"2018-06-07\", \"2018-11-23\", \"2018-12-02\", \"2018-04-10\", \"2018-03-21\", \"2018-11-16\", \"2018-10-23\", \"2018-10-19\", \"2018-05-13\", \"2018-11-18\", \"2018-10-20\", \"2018-04-11\", \"2018-05-06\", \"2018-11-13\", \"2018-12-04\", \"2018-03-04\", \"2018-06-04\", \"2018-02-16\", \"2018-09-07\", \"2018-05-28\", \"2018-05-11\", \"2018-05-24\", \"2018-12-22\", \"2018-09-18\", \"2018-07-17\", \"2018-03-17\", \"2018-01-21\", \"2018-11-15\", \"2018-11-02\", \"2018-03-29\", \"2018-02-09\", \"2018-12-03\", \"2018-04-25\", \"2018-11-11\", \"2018-05-03\", \"2018-08-20\", \"2018-05-13\", \"2018-07-24\", \"2018-12-13\", \"2018-09-15\", \"2018-11-04\", \"2018-12-09\", \"2018-07-19\", \"2018-11-19\", \"2018-11-08\", \"2018-03-03\", \"2018-05-22\", \"2018-06-13\", \"2018-05-05\", \"2018-06-06\", \"2018-07-30\", \"2018-09-26\", \"2018-10-26\", \"2018-02-25\", \"2018-01-02\", \"2018-02-23\", \"2018-03-08\", \"2018-03-16\", \"2018-03-25\", \"2018-03-31\", \"2018-11-03\", \"2018-03-18\", \"2018-12-01\", \"2018-12-17\", \"2018-11-12\", \"2018-12-17\", \"2018-09-02\", \"2018-08-09\", \"2018-02-03\", \"2018-04-18\", \"2018-03-23\", \"2018-06-03\", \"2018-09-30\", \"2018-07-13\", \"2018-05-09\", \"2018-06-15\", \"2018-09-13\", \"2018-12-13\", \"2018-09-26\", \"2018-04-16\", \"2018-02-28\", \"2018-01-13\", \"2018-02-27\", \"2018-01-20\", \"2018-11-03\", \"2018-07-28\", \"2018-11-26\", \"2018-05-02\", \"2018-02-24\", \"2018-02-02\", \"2018-06-11\", \"2018-01-26\", \"2018-02-08\", \"2018-04-06\", \"2018-07-12\", \"2018-03-14\", \"2018-07-06\", \"2018-10-09\", \"2018-11-05\", \"2018-05-10\", \"2018-03-20\", \"2018-06-22\", \"2018-10-21\", \"2018-10-20\", \"2018-01-20\", \"2018-08-05\", \"2018-05-14\", \"2018-07-27\", \"2018-01-12\", \"2018-04-06\", \"2018-07-03\", \"2018-04-30\", \"2018-03-05\", \"2018-04-20\", \"2018-05-31\", \"2018-06-23\", \"2018-03-10\", \"2018-05-23\", \"2018-04-08\", \"2018-12-04\", \"2018-09-08\", \"2018-03-12\", \"2018-02-01\", \"2018-12-13\", \"2018-10-24\", \"2018-01-15\", \"2018-08-05\", \"2018-05-13\", \"2018-12-29\", \"2018-04-14\", \"2018-06-27\", \"2018-08-27\", \"2018-09-01\", \"2018-06-02\", \"2018-06-06\", \"2018-06-11\", \"2018-05-22\", \"2018-12-03\", \"2018-12-02\", \"2018-11-22\", \"2018-09-23\", \"2018-07-12\", \"2018-01-04\", \"2018-01-27\", \"2018-02-03\", \"2018-07-21\", \"2018-05-01\", \"2018-03-10\", \"2018-08-31\", \"2018-07-11\", \"2018-10-08\", \"2018-05-06\", \"2018-08-08\", \"2018-12-15\", \"2018-12-30\", \"2018-07-04\", \"2018-09-21\", \"2018-10-19\", \"2018-06-29\", \"2018-09-14\", \"2018-11-04\", \"2018-07-03\", \"2018-07-19\", \"2018-02-05\", \"2018-05-18\", \"2018-04-17\", \"2018-07-30\", \"2018-07-09\", \"2018-05-03\", \"2018-10-07\", \"2018-01-04\", \"2018-09-22\", \"2018-10-18\", \"2018-08-13\", \"2018-03-09\", \"2018-10-13\", \"2018-03-11\", \"2018-04-10\", \"2018-07-14\", \"2018-03-17\", \"2018-08-12\", \"2018-09-26\", \"2018-02-27\", \"2018-05-31\", \"2018-12-04\", \"2018-08-04\", \"2018-11-03\", \"2018-02-13\", \"2018-03-12\", \"2018-12-24\", \"2018-10-10\", \"2018-11-05\", \"2018-02-18\", \"2018-02-01\", \"2018-03-31\", \"2018-05-04\", \"2018-05-08\", \"2018-01-20\", \"2018-10-14\", \"2018-10-04\", \"2018-10-08\", \"2018-03-06\", \"2018-06-23\", \"2018-11-26\", \"2018-03-16\", \"2018-06-20\", \"2018-07-22\", \"2018-04-01\", \"2018-11-12\", \"2018-02-03\", \"2018-07-16\", \"2018-08-24\", \"2018-04-07\", \"2018-03-10\", \"2018-11-02\", \"2018-02-15\", \"2018-06-04\", \"2018-05-14\", \"2018-10-12\", \"2018-12-17\", \"2018-11-23\", \"2018-05-07\", \"2018-06-05\", \"2018-06-18\", \"2018-04-03\", \"2018-03-01\", \"2018-10-15\", \"2018-11-22\", \"2018-08-31\", \"2018-01-26\", \"2018-04-06\", \"2018-01-20\", \"2018-12-12\", \"2018-11-17\", \"2018-09-11\", \"2018-11-11\", \"2018-09-04\", \"2018-01-12\", \"2018-10-06\", \"2018-09-12\", \"2018-03-06\", \"2018-07-02\", \"2018-05-06\", \"2018-03-02\", \"2018-08-23\", \"2018-01-05\", \"2018-01-25\", \"2018-03-06\", \"2018-04-19\", \"2018-02-22\", \"2018-07-11\", \"2018-03-14\", \"2018-03-11\", \"2018-07-14\", \"2018-08-01\", \"2018-06-30\", \"2018-03-29\", \"2018-06-26\", \"2018-11-02\", \"2018-02-02\", \"2018-10-05\", \"2018-05-03\", \"2018-07-16\", \"2018-06-18\", \"2018-01-04\", \"2018-02-03\", \"2018-12-14\", \"2018-07-22\", \"2018-06-22\", \"2018-12-11\", \"2018-01-13\", \"2018-10-18\", \"2018-08-05\", \"2018-07-19\", \"2018-07-26\", \"2018-06-12\", \"2018-08-07\", \"2018-10-17\", \"2018-12-23\", \"2018-10-07\", \"2018-12-31\", \"2018-11-06\", \"2018-08-23\", \"2018-06-29\", \"2018-02-14\", \"2018-03-16\", \"2018-11-05\", \"2018-03-25\", \"2018-02-05\", \"2018-01-29\", \"2018-08-27\", \"2018-03-17\", \"2018-04-16\", \"2018-12-16\", \"2018-01-04\", \"2018-10-04\", \"2018-03-20\", \"2018-10-24\", \"2018-01-15\", \"2018-10-07\", \"2018-09-17\", \"2018-10-20\", \"2018-11-20\", \"2018-09-09\", \"2018-01-12\", \"2018-05-16\", \"2018-09-15\", \"2018-07-28\", \"2018-08-05\", \"2018-07-20\", \"2018-04-14\", \"2018-04-06\", \"2018-11-18\", \"2018-09-15\", \"2018-08-08\", \"2018-12-17\", \"2018-09-25\", \"2018-09-08\", \"2018-04-07\", \"2018-06-23\", \"2018-10-08\", \"2018-06-28\", \"2018-12-04\", \"2018-02-06\", \"2018-03-19\", \"2018-06-19\", \"2018-08-26\", \"2018-10-12\", \"2018-03-12\", \"2018-03-14\", \"2018-07-08\", \"2018-05-04\", \"2018-05-17\", \"2018-11-06\", \"2018-12-03\", \"2018-02-12\", \"2018-03-24\", \"2018-10-22\", \"2018-09-27\", \"2018-01-19\", \"2018-04-15\", \"2018-12-12\", \"2018-12-12\", \"2018-03-01\", \"2018-09-21\", \"2018-12-06\", \"2018-02-17\", \"2018-08-06\", \"2018-04-20\", \"2018-11-03\", \"2018-07-29\", \"2018-02-23\", \"2018-04-08\", \"2018-07-21\", \"2018-09-20\", \"2018-07-16\", \"2018-09-04\", \"2018-11-28\", \"2018-03-10\", \"2018-08-04\", \"2018-07-07\", \"2018-06-25\", \"2018-08-11\", \"2018-06-17\", \"2018-09-07\", \"2018-11-02\", \"2018-08-31\", \"2018-02-01\", \"2018-08-25\", \"2018-08-21\", \"2018-03-23\", \"2018-02-10\", \"2018-05-12\", \"2018-02-04\", \"2018-10-31\", \"2018-06-16\", \"2018-03-17\"], \"xaxis\": \"x2\", \"yaxis\": \"y2\"}, {\"hoverlabel\": {\"namelength\": 0}, \"hovertemplate\": \"Location=%{y}<br>Date=%{x}\", \"legendgroup\": \"Location=Other\", \"marker\": {\"color\": \"#ab63fa\", \"symbol\": \"circle\"}, \"mode\": \"markers\", \"name\": \"Location=Other\", \"showlegend\": true, \"type\": \"scatter\", \"x\": [\"2018-10-17\", \"2018-07-26\", \"2018-02-25\", \"2018-06-29\", \"2018-04-28\", \"2018-07-09\", \"2018-10-08\", \"2018-03-11\", \"2018-09-29\", \"2018-03-03\", \"2018-09-09\", \"2018-01-25\", \"2018-01-15\", \"2018-05-13\", \"2018-06-12\", \"2018-05-07\", \"2018-06-05\", \"2018-05-02\", \"2018-04-05\", \"2018-09-08\", \"2018-12-25\", \"2018-09-09\", \"2018-11-05\", \"2018-05-06\", \"2018-04-20\", \"2018-02-04\", \"2018-11-26\", \"2018-12-12\", \"2018-09-19\", \"2018-03-13\", \"2018-07-08\", \"2018-12-15\", \"2018-06-17\", \"2018-01-04\", \"2018-04-22\", \"2018-07-01\", \"2018-01-18\", \"2018-03-16\", \"2018-02-11\", \"2018-01-30\", \"2018-04-16\", \"2018-06-16\", \"2018-01-13\", \"2018-01-15\", \"2018-01-06\", \"2018-02-27\", \"2018-10-13\", \"2018-09-30\", \"2018-06-23\", \"2018-08-25\", \"2018-05-03\", \"2018-08-25\", \"2018-10-30\", \"2018-09-16\", \"2018-08-18\", \"2018-06-07\", \"2018-06-02\", \"2018-03-02\", \"2018-10-26\", \"2018-12-12\", \"2018-10-14\", \"2018-04-07\", \"2018-12-24\", \"2018-09-14\", \"2018-10-17\", \"2018-10-05\", \"2018-12-07\", \"2018-12-28\", \"2018-05-12\", \"2018-11-01\", \"2018-12-13\", \"2018-07-22\", \"2018-09-11\", \"2018-12-28\", \"2018-03-29\", \"2018-11-09\", \"2018-03-03\", \"2018-06-18\", \"2018-12-21\", \"2018-03-02\", \"2018-04-01\", \"2018-08-04\", \"2018-10-26\", \"2018-01-30\", \"2018-04-11\", \"2018-12-19\", \"2018-10-17\", \"2018-03-31\", \"2018-11-14\", \"2018-04-08\", \"2018-09-21\", \"2018-07-29\", \"2018-05-12\", \"2018-09-16\", \"2018-06-07\", \"2018-03-25\", \"2018-09-30\", \"2018-07-28\", \"2018-06-24\", \"2018-08-11\", \"2018-11-18\", \"2018-05-23\", \"2018-10-29\", \"2018-10-21\", \"2018-07-11\", \"2018-03-29\", \"2018-04-28\", \"2018-03-23\", \"2018-07-06\", \"2018-09-07\", \"2018-11-14\", \"2018-06-11\", \"2018-07-09\", \"2018-02-24\", \"2018-04-03\", \"2018-09-23\", \"2018-01-28\", \"2018-06-15\", \"2018-09-01\", \"2018-09-14\", \"2018-07-03\", \"2018-04-02\", \"2018-11-21\", \"2018-09-22\", \"2018-06-06\", \"2018-10-14\", \"2018-05-11\", \"2018-09-29\", \"2018-07-13\", \"2018-06-27\", \"2018-09-03\", \"2018-11-26\", \"2018-07-04\", \"2018-09-24\", \"2018-04-05\", \"2018-10-03\", \"2018-04-28\", \"2018-10-29\", \"2018-05-30\", \"2018-06-09\", \"2018-10-02\", \"2018-08-14\"], \"xaxis\": \"x\", \"y\": [\"Other\", \"Other\", \"Other\", \"Other\", \"Other\", \"Other\", \"Other\", \"Other\", \"Other\", \"Other\", \"Other\", \"Other\", \"Other\", \"Other\", \"Other\", \"Other\", \"Other\", \"Other\", \"Other\", \"Other\", \"Other\", \"Other\", \"Other\", \"Other\", \"Other\", \"Other\", \"Other\", \"Other\", \"Other\", \"Other\", \"Other\", \"Other\", \"Other\", \"Other\", \"Other\", \"Other\", \"Other\", \"Other\", \"Other\", \"Other\", \"Other\", \"Other\", \"Other\", \"Other\", \"Other\", \"Other\", \"Other\", \"Other\", \"Other\", \"Other\", \"Other\", \"Other\", \"Other\", \"Other\", \"Other\", \"Other\", \"Other\", \"Other\", \"Other\", \"Other\", \"Other\", \"Other\", \"Other\", \"Other\", \"Other\", \"Other\", \"Other\", \"Other\", \"Other\", \"Other\", \"Other\", \"Other\", \"Other\", \"Other\", \"Other\", \"Other\", \"Other\", \"Other\", \"Other\", \"Other\", \"Other\", \"Other\", \"Other\", \"Other\", \"Other\", \"Other\", \"Other\", \"Other\", \"Other\", \"Other\", \"Other\", \"Other\", \"Other\", \"Other\", \"Other\", \"Other\", \"Other\", \"Other\", \"Other\", \"Other\", \"Other\", \"Other\", \"Other\", \"Other\", \"Other\", \"Other\", \"Other\", \"Other\", \"Other\", \"Other\", \"Other\", \"Other\", \"Other\", \"Other\", \"Other\", \"Other\", \"Other\", \"Other\", \"Other\", \"Other\", \"Other\", \"Other\", \"Other\", \"Other\", \"Other\", \"Other\", \"Other\", \"Other\", \"Other\", \"Other\", \"Other\", \"Other\", \"Other\", \"Other\", \"Other\", \"Other\", \"Other\", \"Other\", \"Other\", \"Other\", \"Other\", \"Other\"], \"yaxis\": \"y\"}, {\"alignmentgroup\": \"True\", \"bingroup\": \"x\", \"hoverlabel\": {\"namelength\": 0}, \"hovertemplate\": \"Location=Other<br>Date=%{x}<br>count=%{y}\", \"legendgroup\": \"Location=Other\", \"marker\": {\"color\": \"#ab63fa\"}, \"name\": \"Location=Other\", \"offsetgroup\": \"Location=Other\", \"opacity\": 0.5, \"showlegend\": false, \"type\": \"histogram\", \"x\": [\"2018-10-17\", \"2018-07-26\", \"2018-02-25\", \"2018-06-29\", \"2018-04-28\", \"2018-07-09\", \"2018-10-08\", \"2018-03-11\", \"2018-09-29\", \"2018-03-03\", \"2018-09-09\", \"2018-01-25\", \"2018-01-15\", \"2018-05-13\", \"2018-06-12\", \"2018-05-07\", \"2018-06-05\", \"2018-05-02\", \"2018-04-05\", \"2018-09-08\", \"2018-12-25\", \"2018-09-09\", \"2018-11-05\", \"2018-05-06\", \"2018-04-20\", \"2018-02-04\", \"2018-11-26\", \"2018-12-12\", \"2018-09-19\", \"2018-03-13\", \"2018-07-08\", \"2018-12-15\", \"2018-06-17\", \"2018-01-04\", \"2018-04-22\", \"2018-07-01\", \"2018-01-18\", \"2018-03-16\", \"2018-02-11\", \"2018-01-30\", \"2018-04-16\", \"2018-06-16\", \"2018-01-13\", \"2018-01-15\", \"2018-01-06\", \"2018-02-27\", \"2018-10-13\", \"2018-09-30\", \"2018-06-23\", \"2018-08-25\", \"2018-05-03\", \"2018-08-25\", \"2018-10-30\", \"2018-09-16\", \"2018-08-18\", \"2018-06-07\", \"2018-06-02\", \"2018-03-02\", \"2018-10-26\", \"2018-12-12\", \"2018-10-14\", \"2018-04-07\", \"2018-12-24\", \"2018-09-14\", \"2018-10-17\", \"2018-10-05\", \"2018-12-07\", \"2018-12-28\", \"2018-05-12\", \"2018-11-01\", \"2018-12-13\", \"2018-07-22\", \"2018-09-11\", \"2018-12-28\", \"2018-03-29\", \"2018-11-09\", \"2018-03-03\", \"2018-06-18\", \"2018-12-21\", \"2018-03-02\", \"2018-04-01\", \"2018-08-04\", \"2018-10-26\", \"2018-01-30\", \"2018-04-11\", \"2018-12-19\", \"2018-10-17\", \"2018-03-31\", \"2018-11-14\", \"2018-04-08\", \"2018-09-21\", \"2018-07-29\", \"2018-05-12\", \"2018-09-16\", \"2018-06-07\", \"2018-03-25\", \"2018-09-30\", \"2018-07-28\", \"2018-06-24\", \"2018-08-11\", \"2018-11-18\", \"2018-05-23\", \"2018-10-29\", \"2018-10-21\", \"2018-07-11\", \"2018-03-29\", \"2018-04-28\", \"2018-03-23\", \"2018-07-06\", \"2018-09-07\", \"2018-11-14\", \"2018-06-11\", \"2018-07-09\", \"2018-02-24\", \"2018-04-03\", \"2018-09-23\", \"2018-01-28\", \"2018-06-15\", \"2018-09-01\", \"2018-09-14\", \"2018-07-03\", \"2018-04-02\", \"2018-11-21\", \"2018-09-22\", \"2018-06-06\", \"2018-10-14\", \"2018-05-11\", \"2018-09-29\", \"2018-07-13\", \"2018-06-27\", \"2018-09-03\", \"2018-11-26\", \"2018-07-04\", \"2018-09-24\", \"2018-04-05\", \"2018-10-03\", \"2018-04-28\", \"2018-10-29\", \"2018-05-30\", \"2018-06-09\", \"2018-10-02\", \"2018-08-14\"], \"xaxis\": \"x2\", \"yaxis\": \"y2\"}],\n",
              "                        {\"barmode\": \"overlay\", \"height\": 600, \"legend\": {\"tracegroupgap\": 0}, \"template\": {\"data\": {\"bar\": [{\"error_x\": {\"color\": \"#2a3f5f\"}, \"error_y\": {\"color\": \"#2a3f5f\"}, \"marker\": {\"line\": {\"color\": \"#E5ECF6\", \"width\": 0.5}}, \"type\": \"bar\"}], \"barpolar\": [{\"marker\": {\"line\": {\"color\": \"#E5ECF6\", \"width\": 0.5}}, \"type\": \"barpolar\"}], \"carpet\": [{\"aaxis\": {\"endlinecolor\": \"#2a3f5f\", \"gridcolor\": \"white\", \"linecolor\": \"white\", \"minorgridcolor\": \"white\", \"startlinecolor\": \"#2a3f5f\"}, \"baxis\": {\"endlinecolor\": \"#2a3f5f\", \"gridcolor\": \"white\", \"linecolor\": \"white\", \"minorgridcolor\": \"white\", \"startlinecolor\": \"#2a3f5f\"}, \"type\": \"carpet\"}], \"choropleth\": [{\"colorbar\": {\"outlinewidth\": 0, \"ticks\": \"\"}, \"type\": \"choropleth\"}], \"contour\": [{\"colorbar\": {\"outlinewidth\": 0, \"ticks\": \"\"}, \"colorscale\": [[0.0, \"#0d0887\"], [0.1111111111111111, \"#46039f\"], [0.2222222222222222, \"#7201a8\"], [0.3333333333333333, \"#9c179e\"], [0.4444444444444444, \"#bd3786\"], [0.5555555555555556, \"#d8576b\"], [0.6666666666666666, \"#ed7953\"], [0.7777777777777778, \"#fb9f3a\"], [0.8888888888888888, \"#fdca26\"], [1.0, \"#f0f921\"]], \"type\": \"contour\"}], \"contourcarpet\": [{\"colorbar\": {\"outlinewidth\": 0, \"ticks\": \"\"}, \"type\": \"contourcarpet\"}], \"heatmap\": [{\"colorbar\": {\"outlinewidth\": 0, \"ticks\": \"\"}, \"colorscale\": [[0.0, \"#0d0887\"], [0.1111111111111111, \"#46039f\"], [0.2222222222222222, \"#7201a8\"], [0.3333333333333333, \"#9c179e\"], [0.4444444444444444, \"#bd3786\"], [0.5555555555555556, \"#d8576b\"], [0.6666666666666666, \"#ed7953\"], [0.7777777777777778, \"#fb9f3a\"], [0.8888888888888888, \"#fdca26\"], [1.0, \"#f0f921\"]], \"type\": \"heatmap\"}], \"heatmapgl\": [{\"colorbar\": {\"outlinewidth\": 0, \"ticks\": \"\"}, \"colorscale\": [[0.0, \"#0d0887\"], [0.1111111111111111, \"#46039f\"], [0.2222222222222222, \"#7201a8\"], [0.3333333333333333, \"#9c179e\"], [0.4444444444444444, \"#bd3786\"], [0.5555555555555556, \"#d8576b\"], [0.6666666666666666, \"#ed7953\"], [0.7777777777777778, \"#fb9f3a\"], [0.8888888888888888, \"#fdca26\"], [1.0, \"#f0f921\"]], \"type\": \"heatmapgl\"}], \"histogram\": [{\"marker\": {\"colorbar\": {\"outlinewidth\": 0, \"ticks\": \"\"}}, \"type\": \"histogram\"}], \"histogram2d\": [{\"colorbar\": {\"outlinewidth\": 0, \"ticks\": \"\"}, \"colorscale\": [[0.0, \"#0d0887\"], [0.1111111111111111, \"#46039f\"], [0.2222222222222222, \"#7201a8\"], [0.3333333333333333, \"#9c179e\"], [0.4444444444444444, \"#bd3786\"], [0.5555555555555556, \"#d8576b\"], [0.6666666666666666, \"#ed7953\"], [0.7777777777777778, \"#fb9f3a\"], [0.8888888888888888, \"#fdca26\"], [1.0, \"#f0f921\"]], \"type\": \"histogram2d\"}], \"histogram2dcontour\": [{\"colorbar\": {\"outlinewidth\": 0, \"ticks\": \"\"}, \"colorscale\": [[0.0, \"#0d0887\"], [0.1111111111111111, \"#46039f\"], [0.2222222222222222, \"#7201a8\"], [0.3333333333333333, \"#9c179e\"], [0.4444444444444444, \"#bd3786\"], [0.5555555555555556, \"#d8576b\"], [0.6666666666666666, \"#ed7953\"], [0.7777777777777778, \"#fb9f3a\"], [0.8888888888888888, \"#fdca26\"], [1.0, \"#f0f921\"]], \"type\": \"histogram2dcontour\"}], \"mesh3d\": [{\"colorbar\": {\"outlinewidth\": 0, \"ticks\": \"\"}, \"type\": \"mesh3d\"}], \"parcoords\": [{\"line\": {\"colorbar\": {\"outlinewidth\": 0, \"ticks\": \"\"}}, \"type\": \"parcoords\"}], \"scatter\": [{\"marker\": {\"colorbar\": {\"outlinewidth\": 0, \"ticks\": \"\"}}, \"type\": \"scatter\"}], \"scatter3d\": [{\"line\": {\"colorbar\": {\"outlinewidth\": 0, \"ticks\": \"\"}}, \"marker\": {\"colorbar\": {\"outlinewidth\": 0, \"ticks\": \"\"}}, \"type\": \"scatter3d\"}], \"scattercarpet\": [{\"marker\": {\"colorbar\": {\"outlinewidth\": 0, \"ticks\": \"\"}}, \"type\": \"scattercarpet\"}], \"scattergeo\": [{\"marker\": {\"colorbar\": {\"outlinewidth\": 0, \"ticks\": \"\"}}, \"type\": \"scattergeo\"}], \"scattergl\": [{\"marker\": {\"colorbar\": {\"outlinewidth\": 0, \"ticks\": \"\"}}, \"type\": \"scattergl\"}], \"scattermapbox\": [{\"marker\": {\"colorbar\": {\"outlinewidth\": 0, \"ticks\": \"\"}}, \"type\": \"scattermapbox\"}], \"scatterpolar\": [{\"marker\": {\"colorbar\": {\"outlinewidth\": 0, \"ticks\": \"\"}}, \"type\": \"scatterpolar\"}], \"scatterpolargl\": [{\"marker\": {\"colorbar\": {\"outlinewidth\": 0, \"ticks\": \"\"}}, \"type\": \"scatterpolargl\"}], \"scatterternary\": [{\"marker\": {\"colorbar\": {\"outlinewidth\": 0, \"ticks\": \"\"}}, \"type\": \"scatterternary\"}], \"surface\": [{\"colorbar\": {\"outlinewidth\": 0, \"ticks\": \"\"}, \"colorscale\": [[0.0, \"#0d0887\"], [0.1111111111111111, \"#46039f\"], [0.2222222222222222, \"#7201a8\"], [0.3333333333333333, \"#9c179e\"], [0.4444444444444444, \"#bd3786\"], [0.5555555555555556, \"#d8576b\"], [0.6666666666666666, \"#ed7953\"], [0.7777777777777778, \"#fb9f3a\"], [0.8888888888888888, \"#fdca26\"], [1.0, \"#f0f921\"]], \"type\": \"surface\"}], \"table\": [{\"cells\": {\"fill\": {\"color\": \"#EBF0F8\"}, \"line\": {\"color\": \"white\"}}, \"header\": {\"fill\": {\"color\": \"#C8D4E3\"}, \"line\": {\"color\": \"white\"}}, \"type\": \"table\"}]}, \"layout\": {\"annotationdefaults\": {\"arrowcolor\": \"#2a3f5f\", \"arrowhead\": 0, \"arrowwidth\": 1}, \"colorscale\": {\"diverging\": [[0, \"#8e0152\"], [0.1, \"#c51b7d\"], [0.2, \"#de77ae\"], [0.3, \"#f1b6da\"], [0.4, \"#fde0ef\"], [0.5, \"#f7f7f7\"], [0.6, \"#e6f5d0\"], [0.7, \"#b8e186\"], [0.8, \"#7fbc41\"], [0.9, \"#4d9221\"], [1, \"#276419\"]], \"sequential\": [[0.0, \"#0d0887\"], [0.1111111111111111, \"#46039f\"], [0.2222222222222222, \"#7201a8\"], [0.3333333333333333, \"#9c179e\"], [0.4444444444444444, \"#bd3786\"], [0.5555555555555556, \"#d8576b\"], [0.6666666666666666, \"#ed7953\"], [0.7777777777777778, \"#fb9f3a\"], [0.8888888888888888, \"#fdca26\"], [1.0, \"#f0f921\"]], \"sequentialminus\": [[0.0, \"#0d0887\"], [0.1111111111111111, \"#46039f\"], [0.2222222222222222, \"#7201a8\"], [0.3333333333333333, \"#9c179e\"], [0.4444444444444444, \"#bd3786\"], [0.5555555555555556, \"#d8576b\"], [0.6666666666666666, \"#ed7953\"], [0.7777777777777778, \"#fb9f3a\"], [0.8888888888888888, \"#fdca26\"], [1.0, \"#f0f921\"]]}, \"colorway\": [\"#636efa\", \"#EF553B\", \"#00cc96\", \"#ab63fa\", \"#FFA15A\", \"#19d3f3\", \"#FF6692\", \"#B6E880\", \"#FF97FF\", \"#FECB52\"], \"font\": {\"color\": \"#2a3f5f\"}, \"geo\": {\"bgcolor\": \"white\", \"lakecolor\": \"white\", \"landcolor\": \"#E5ECF6\", \"showlakes\": true, \"showland\": true, \"subunitcolor\": \"white\"}, \"hoverlabel\": {\"align\": \"left\"}, \"hovermode\": \"closest\", \"mapbox\": {\"style\": \"light\"}, \"paper_bgcolor\": \"white\", \"plot_bgcolor\": \"#E5ECF6\", \"polar\": {\"angularaxis\": {\"gridcolor\": \"white\", \"linecolor\": \"white\", \"ticks\": \"\"}, \"bgcolor\": \"#E5ECF6\", \"radialaxis\": {\"gridcolor\": \"white\", \"linecolor\": \"white\", \"ticks\": \"\"}}, \"scene\": {\"xaxis\": {\"backgroundcolor\": \"#E5ECF6\", \"gridcolor\": \"white\", \"gridwidth\": 2, \"linecolor\": \"white\", \"showbackground\": true, \"ticks\": \"\", \"zerolinecolor\": \"white\"}, \"yaxis\": {\"backgroundcolor\": \"#E5ECF6\", \"gridcolor\": \"white\", \"gridwidth\": 2, \"linecolor\": \"white\", \"showbackground\": true, \"ticks\": \"\", \"zerolinecolor\": \"white\"}, \"zaxis\": {\"backgroundcolor\": \"#E5ECF6\", \"gridcolor\": \"white\", \"gridwidth\": 2, \"linecolor\": \"white\", \"showbackground\": true, \"ticks\": \"\", \"zerolinecolor\": \"white\"}}, \"shapedefaults\": {\"line\": {\"color\": \"#2a3f5f\"}}, \"ternary\": {\"aaxis\": {\"gridcolor\": \"white\", \"linecolor\": \"white\", \"ticks\": \"\"}, \"baxis\": {\"gridcolor\": \"white\", \"linecolor\": \"white\", \"ticks\": \"\"}, \"bgcolor\": \"#E5ECF6\", \"caxis\": {\"gridcolor\": \"white\", \"linecolor\": \"white\", \"ticks\": \"\"}}, \"title\": {\"x\": 0.05}, \"xaxis\": {\"automargin\": true, \"gridcolor\": \"white\", \"linecolor\": \"white\", \"ticks\": \"\", \"zerolinecolor\": \"white\", \"zerolinewidth\": 2}, \"yaxis\": {\"automargin\": true, \"gridcolor\": \"white\", \"linecolor\": \"white\", \"ticks\": \"\", \"zerolinecolor\": \"white\", \"zerolinewidth\": 2}}}, \"title\": {\"text\": \"Accidental Deaths from Opiates by location and Date\"}, \"xaxis\": {\"anchor\": \"y\", \"domain\": [0.0, 0.98], \"title\": {\"text\": \"Date\"}}, \"xaxis2\": {\"anchor\": \"y2\", \"domain\": [0.0, 0.98], \"matches\": \"x\", \"showgrid\": true, \"showticklabels\": false}, \"yaxis\": {\"anchor\": \"x\", \"categoryarray\": [\"Other\", \"Residence\", \"Nursing Home\", \"Hospital\"], \"categoryorder\": \"array\", \"domain\": [0.0, 0.7326], \"title\": {\"text\": \"Location\"}}, \"yaxis2\": {\"anchor\": \"x2\", \"categoryarray\": [\"Other\", \"Residence\", \"Nursing Home\", \"Hospital\"], \"categoryorder\": \"array\", \"domain\": [0.7426, 1.0], \"matches\": \"y2\", \"showgrid\": true, \"showticklabels\": false}},\n",
              "                        {\"responsive\": true}\n",
              "                    ).then(function(){\n",
              "                            \n",
              "var gd = document.getElementById('1161e760-b28c-4c67-a679-8f161b4985a8');\n",
              "var x = new MutationObserver(function (mutations, observer) {{\n",
              "        var display = window.getComputedStyle(gd).display;\n",
              "        if (!display || display === 'none') {{\n",
              "            console.log([gd, 'removed!']);\n",
              "            Plotly.purge(gd);\n",
              "            observer.disconnect();\n",
              "        }}\n",
              "}});\n",
              "\n",
              "// Listen for the removal of the full notebook cells\n",
              "var notebookContainer = gd.closest('#notebook-container');\n",
              "if (notebookContainer) {{\n",
              "    x.observe(notebookContainer, {childList: true});\n",
              "}}\n",
              "\n",
              "// Listen for the clearing of the current output cell\n",
              "var outputEl = gd.closest('.output');\n",
              "if (outputEl) {{\n",
              "    x.observe(outputEl, {childList: true});\n",
              "}}\n",
              "\n",
              "                        })\n",
              "                };\n",
              "                \n",
              "            </script>\n",
              "        </div>\n",
              "</body>\n",
              "</html>"
            ]
          },
          "metadata": {
            "tags": []
          }
        }
      ]
    },
    {
      "cell_type": "code",
      "metadata": {
        "id": "KA1MKvTgKMWa",
        "colab_type": "code",
        "colab": {
          "base_uri": "https://localhost:8080/",
          "height": 616
        },
        "outputId": "309d5b18-4de0-448a-c580-7c33579c0dc5"
      },
      "source": [
        "fig3 = px.scatter(opinull, x=\"Date\",\n",
        "                  y=\"Location\", color=\"Location\",\n",
        "                  marginal_x=\"histogram\",\n",
        "                  title=\"Accidental Deaths not involving opiates\")\n",
        "fig3.show()"
      ],
      "execution_count": 196,
      "outputs": [
        {
          "output_type": "display_data",
          "data": {
            "text/html": [
              "<html>\n",
              "<head><meta charset=\"utf-8\" /></head>\n",
              "<body>\n",
              "    <div>\n",
              "            <script src=\"https://cdnjs.cloudflare.com/ajax/libs/mathjax/2.7.5/MathJax.js?config=TeX-AMS-MML_SVG\"></script><script type=\"text/javascript\">if (window.MathJax) {MathJax.Hub.Config({SVG: {font: \"STIX-Web\"}});}</script>\n",
              "                <script type=\"text/javascript\">window.PlotlyConfig = {MathJaxConfig: 'local'};</script>\n",
              "        <script src=\"https://cdn.plot.ly/plotly-latest.min.js\"></script>    \n",
              "            <div id=\"8823ecab-b456-471a-b420-dd7e9551b447\" class=\"plotly-graph-div\" style=\"height:600px; width:100%;\"></div>\n",
              "            <script type=\"text/javascript\">\n",
              "                \n",
              "                    window.PLOTLYENV=window.PLOTLYENV || {};\n",
              "                    \n",
              "                if (document.getElementById(\"8823ecab-b456-471a-b420-dd7e9551b447\")) {\n",
              "                    Plotly.newPlot(\n",
              "                        '8823ecab-b456-471a-b420-dd7e9551b447',\n",
              "                        [{\"hoverlabel\": {\"namelength\": 0}, \"hovertemplate\": \"Location=%{y}<br>Date=%{x}\", \"legendgroup\": \"Location=Hospital\", \"marker\": {\"color\": \"#636efa\", \"symbol\": \"circle\"}, \"mode\": \"markers\", \"name\": \"Location=Hospital\", \"showlegend\": true, \"type\": \"scatter\", \"x\": [\"2018-05-09\", \"2018-05-23\", \"2018-01-03\", \"2018-02-23\", \"2018-04-10\", \"2018-04-06\", \"2018-08-12\", \"2018-01-12\", \"2018-08-28\", \"2018-10-31\", \"2018-06-04\", \"2018-09-18\", \"2018-01-21\", \"2018-11-19\", \"2018-08-20\", \"2018-11-30\", \"2018-08-29\", \"2018-03-01\", \"2018-07-14\"], \"xaxis\": \"x\", \"y\": [\"Hospital\", \"Hospital\", \"Hospital\", \"Hospital\", \"Hospital\", \"Hospital\", \"Hospital\", \"Hospital\", \"Hospital\", \"Hospital\", \"Hospital\", \"Hospital\", \"Hospital\", \"Hospital\", \"Hospital\", \"Hospital\", \"Hospital\", \"Hospital\", \"Hospital\"], \"yaxis\": \"y\"}, {\"alignmentgroup\": \"True\", \"bingroup\": \"x\", \"hoverlabel\": {\"namelength\": 0}, \"hovertemplate\": \"Location=Hospital<br>Date=%{x}<br>count=%{y}\", \"legendgroup\": \"Location=Hospital\", \"marker\": {\"color\": \"#636efa\"}, \"name\": \"Location=Hospital\", \"offsetgroup\": \"Location=Hospital\", \"opacity\": 0.5, \"showlegend\": false, \"type\": \"histogram\", \"x\": [\"2018-05-09\", \"2018-05-23\", \"2018-01-03\", \"2018-02-23\", \"2018-04-10\", \"2018-04-06\", \"2018-08-12\", \"2018-01-12\", \"2018-08-28\", \"2018-10-31\", \"2018-06-04\", \"2018-09-18\", \"2018-01-21\", \"2018-11-19\", \"2018-08-20\", \"2018-11-30\", \"2018-08-29\", \"2018-03-01\", \"2018-07-14\"], \"xaxis\": \"x2\", \"yaxis\": \"y2\"}, {\"hoverlabel\": {\"namelength\": 0}, \"hovertemplate\": \"Location=%{y}<br>Date=%{x}\", \"legendgroup\": \"Location=Residence\", \"marker\": {\"color\": \"#EF553B\", \"symbol\": \"circle\"}, \"mode\": \"markers\", \"name\": \"Location=Residence\", \"showlegend\": true, \"type\": \"scatter\", \"x\": [\"2018-02-03\", \"2018-08-12\", \"2018-08-12\", \"2018-11-08\", \"2018-06-28\", \"2018-06-13\", \"2018-07-03\", \"2018-10-13\", \"2018-06-19\", \"2018-08-28\", \"2018-08-01\", \"2018-05-05\", \"2018-06-15\", \"2018-06-03\", \"2018-06-29\", \"2018-09-16\", \"2018-04-28\", \"2018-07-08\", \"2018-06-23\", \"2018-08-05\", \"2018-08-13\", \"2018-09-23\", \"2018-01-06\", \"2018-10-04\", \"2018-05-07\", \"2018-04-02\", \"2018-05-25\", \"2018-01-05\", \"2018-01-03\", \"2018-03-19\", \"2018-05-05\", \"2018-02-06\", \"2018-03-19\", \"2018-07-27\", \"2018-11-07\", \"2018-03-01\", \"2018-09-17\", \"2018-08-13\", \"2018-08-04\", \"2018-05-09\", \"2018-09-10\"], \"xaxis\": \"x\", \"y\": [\"Residence\", \"Residence\", \"Residence\", \"Residence\", \"Residence\", \"Residence\", \"Residence\", \"Residence\", \"Residence\", \"Residence\", \"Residence\", \"Residence\", \"Residence\", \"Residence\", \"Residence\", \"Residence\", \"Residence\", \"Residence\", \"Residence\", \"Residence\", \"Residence\", \"Residence\", \"Residence\", \"Residence\", \"Residence\", \"Residence\", \"Residence\", \"Residence\", \"Residence\", \"Residence\", \"Residence\", \"Residence\", \"Residence\", \"Residence\", \"Residence\", \"Residence\", \"Residence\", \"Residence\", \"Residence\", \"Residence\", \"Residence\"], \"yaxis\": \"y\"}, {\"alignmentgroup\": \"True\", \"bingroup\": \"x\", \"hoverlabel\": {\"namelength\": 0}, \"hovertemplate\": \"Location=Residence<br>Date=%{x}<br>count=%{y}\", \"legendgroup\": \"Location=Residence\", \"marker\": {\"color\": \"#EF553B\"}, \"name\": \"Location=Residence\", \"offsetgroup\": \"Location=Residence\", \"opacity\": 0.5, \"showlegend\": false, \"type\": \"histogram\", \"x\": [\"2018-02-03\", \"2018-08-12\", \"2018-08-12\", \"2018-11-08\", \"2018-06-28\", \"2018-06-13\", \"2018-07-03\", \"2018-10-13\", \"2018-06-19\", \"2018-08-28\", \"2018-08-01\", \"2018-05-05\", \"2018-06-15\", \"2018-06-03\", \"2018-06-29\", \"2018-09-16\", \"2018-04-28\", \"2018-07-08\", \"2018-06-23\", \"2018-08-05\", \"2018-08-13\", \"2018-09-23\", \"2018-01-06\", \"2018-10-04\", \"2018-05-07\", \"2018-04-02\", \"2018-05-25\", \"2018-01-05\", \"2018-01-03\", \"2018-03-19\", \"2018-05-05\", \"2018-02-06\", \"2018-03-19\", \"2018-07-27\", \"2018-11-07\", \"2018-03-01\", \"2018-09-17\", \"2018-08-13\", \"2018-08-04\", \"2018-05-09\", \"2018-09-10\"], \"xaxis\": \"x2\", \"yaxis\": \"y2\"}, {\"hoverlabel\": {\"namelength\": 0}, \"hovertemplate\": \"Location=%{y}<br>Date=%{x}\", \"legendgroup\": \"Location=Other\", \"marker\": {\"color\": \"#00cc96\", \"symbol\": \"circle\"}, \"mode\": \"markers\", \"name\": \"Location=Other\", \"showlegend\": true, \"type\": \"scatter\", \"x\": [\"2018-10-01\", \"2018-07-03\", \"2018-12-29\", \"2018-11-24\", \"2018-07-10\", \"2018-11-22\", \"2018-02-28\", \"2018-09-02\", \"2018-05-04\", \"2018-05-26\"], \"xaxis\": \"x\", \"y\": [\"Other\", \"Other\", \"Other\", \"Other\", \"Other\", \"Other\", \"Other\", \"Other\", \"Other\", \"Other\"], \"yaxis\": \"y\"}, {\"alignmentgroup\": \"True\", \"bingroup\": \"x\", \"hoverlabel\": {\"namelength\": 0}, \"hovertemplate\": \"Location=Other<br>Date=%{x}<br>count=%{y}\", \"legendgroup\": \"Location=Other\", \"marker\": {\"color\": \"#00cc96\"}, \"name\": \"Location=Other\", \"offsetgroup\": \"Location=Other\", \"opacity\": 0.5, \"showlegend\": false, \"type\": \"histogram\", \"x\": [\"2018-10-01\", \"2018-07-03\", \"2018-12-29\", \"2018-11-24\", \"2018-07-10\", \"2018-11-22\", \"2018-02-28\", \"2018-09-02\", \"2018-05-04\", \"2018-05-26\"], \"xaxis\": \"x2\", \"yaxis\": \"y2\"}],\n",
              "                        {\"barmode\": \"overlay\", \"height\": 600, \"legend\": {\"tracegroupgap\": 0}, \"template\": {\"data\": {\"bar\": [{\"error_x\": {\"color\": \"#2a3f5f\"}, \"error_y\": {\"color\": \"#2a3f5f\"}, \"marker\": {\"line\": {\"color\": \"#E5ECF6\", \"width\": 0.5}}, \"type\": \"bar\"}], \"barpolar\": [{\"marker\": {\"line\": {\"color\": \"#E5ECF6\", \"width\": 0.5}}, \"type\": \"barpolar\"}], \"carpet\": [{\"aaxis\": {\"endlinecolor\": \"#2a3f5f\", \"gridcolor\": \"white\", \"linecolor\": \"white\", \"minorgridcolor\": \"white\", \"startlinecolor\": \"#2a3f5f\"}, \"baxis\": {\"endlinecolor\": \"#2a3f5f\", \"gridcolor\": \"white\", \"linecolor\": \"white\", \"minorgridcolor\": \"white\", \"startlinecolor\": \"#2a3f5f\"}, \"type\": \"carpet\"}], \"choropleth\": [{\"colorbar\": {\"outlinewidth\": 0, \"ticks\": \"\"}, \"type\": \"choropleth\"}], \"contour\": [{\"colorbar\": {\"outlinewidth\": 0, \"ticks\": \"\"}, \"colorscale\": [[0.0, \"#0d0887\"], [0.1111111111111111, \"#46039f\"], [0.2222222222222222, \"#7201a8\"], [0.3333333333333333, \"#9c179e\"], [0.4444444444444444, \"#bd3786\"], [0.5555555555555556, \"#d8576b\"], [0.6666666666666666, \"#ed7953\"], [0.7777777777777778, \"#fb9f3a\"], [0.8888888888888888, \"#fdca26\"], [1.0, \"#f0f921\"]], \"type\": \"contour\"}], \"contourcarpet\": [{\"colorbar\": {\"outlinewidth\": 0, \"ticks\": \"\"}, \"type\": \"contourcarpet\"}], \"heatmap\": [{\"colorbar\": {\"outlinewidth\": 0, \"ticks\": \"\"}, \"colorscale\": [[0.0, \"#0d0887\"], [0.1111111111111111, \"#46039f\"], [0.2222222222222222, \"#7201a8\"], [0.3333333333333333, \"#9c179e\"], [0.4444444444444444, \"#bd3786\"], [0.5555555555555556, \"#d8576b\"], [0.6666666666666666, \"#ed7953\"], [0.7777777777777778, \"#fb9f3a\"], [0.8888888888888888, \"#fdca26\"], [1.0, \"#f0f921\"]], \"type\": \"heatmap\"}], \"heatmapgl\": [{\"colorbar\": {\"outlinewidth\": 0, \"ticks\": \"\"}, \"colorscale\": [[0.0, \"#0d0887\"], [0.1111111111111111, \"#46039f\"], [0.2222222222222222, \"#7201a8\"], [0.3333333333333333, \"#9c179e\"], [0.4444444444444444, \"#bd3786\"], [0.5555555555555556, \"#d8576b\"], [0.6666666666666666, \"#ed7953\"], [0.7777777777777778, \"#fb9f3a\"], [0.8888888888888888, \"#fdca26\"], [1.0, \"#f0f921\"]], \"type\": \"heatmapgl\"}], \"histogram\": [{\"marker\": {\"colorbar\": {\"outlinewidth\": 0, \"ticks\": \"\"}}, \"type\": \"histogram\"}], \"histogram2d\": [{\"colorbar\": {\"outlinewidth\": 0, \"ticks\": \"\"}, \"colorscale\": [[0.0, \"#0d0887\"], [0.1111111111111111, \"#46039f\"], [0.2222222222222222, \"#7201a8\"], [0.3333333333333333, \"#9c179e\"], [0.4444444444444444, \"#bd3786\"], [0.5555555555555556, \"#d8576b\"], [0.6666666666666666, \"#ed7953\"], [0.7777777777777778, \"#fb9f3a\"], [0.8888888888888888, \"#fdca26\"], [1.0, \"#f0f921\"]], \"type\": \"histogram2d\"}], \"histogram2dcontour\": [{\"colorbar\": {\"outlinewidth\": 0, \"ticks\": \"\"}, \"colorscale\": [[0.0, \"#0d0887\"], [0.1111111111111111, \"#46039f\"], [0.2222222222222222, \"#7201a8\"], [0.3333333333333333, \"#9c179e\"], [0.4444444444444444, \"#bd3786\"], [0.5555555555555556, \"#d8576b\"], [0.6666666666666666, \"#ed7953\"], [0.7777777777777778, \"#fb9f3a\"], [0.8888888888888888, \"#fdca26\"], [1.0, \"#f0f921\"]], \"type\": \"histogram2dcontour\"}], \"mesh3d\": [{\"colorbar\": {\"outlinewidth\": 0, \"ticks\": \"\"}, \"type\": \"mesh3d\"}], \"parcoords\": [{\"line\": {\"colorbar\": {\"outlinewidth\": 0, \"ticks\": \"\"}}, \"type\": \"parcoords\"}], \"scatter\": [{\"marker\": {\"colorbar\": {\"outlinewidth\": 0, \"ticks\": \"\"}}, \"type\": \"scatter\"}], \"scatter3d\": [{\"line\": {\"colorbar\": {\"outlinewidth\": 0, \"ticks\": \"\"}}, \"marker\": {\"colorbar\": {\"outlinewidth\": 0, \"ticks\": \"\"}}, \"type\": \"scatter3d\"}], \"scattercarpet\": [{\"marker\": {\"colorbar\": {\"outlinewidth\": 0, \"ticks\": \"\"}}, \"type\": \"scattercarpet\"}], \"scattergeo\": [{\"marker\": {\"colorbar\": {\"outlinewidth\": 0, \"ticks\": \"\"}}, \"type\": \"scattergeo\"}], \"scattergl\": [{\"marker\": {\"colorbar\": {\"outlinewidth\": 0, \"ticks\": \"\"}}, \"type\": \"scattergl\"}], \"scattermapbox\": [{\"marker\": {\"colorbar\": {\"outlinewidth\": 0, \"ticks\": \"\"}}, \"type\": \"scattermapbox\"}], \"scatterpolar\": [{\"marker\": {\"colorbar\": {\"outlinewidth\": 0, \"ticks\": \"\"}}, \"type\": \"scatterpolar\"}], \"scatterpolargl\": [{\"marker\": {\"colorbar\": {\"outlinewidth\": 0, \"ticks\": \"\"}}, \"type\": \"scatterpolargl\"}], \"scatterternary\": [{\"marker\": {\"colorbar\": {\"outlinewidth\": 0, \"ticks\": \"\"}}, \"type\": \"scatterternary\"}], \"surface\": [{\"colorbar\": {\"outlinewidth\": 0, \"ticks\": \"\"}, \"colorscale\": [[0.0, \"#0d0887\"], [0.1111111111111111, \"#46039f\"], [0.2222222222222222, \"#7201a8\"], [0.3333333333333333, \"#9c179e\"], [0.4444444444444444, \"#bd3786\"], [0.5555555555555556, \"#d8576b\"], [0.6666666666666666, \"#ed7953\"], [0.7777777777777778, \"#fb9f3a\"], [0.8888888888888888, \"#fdca26\"], [1.0, \"#f0f921\"]], \"type\": \"surface\"}], \"table\": [{\"cells\": {\"fill\": {\"color\": \"#EBF0F8\"}, \"line\": {\"color\": \"white\"}}, \"header\": {\"fill\": {\"color\": \"#C8D4E3\"}, \"line\": {\"color\": \"white\"}}, \"type\": \"table\"}]}, \"layout\": {\"annotationdefaults\": {\"arrowcolor\": \"#2a3f5f\", \"arrowhead\": 0, \"arrowwidth\": 1}, \"colorscale\": {\"diverging\": [[0, \"#8e0152\"], [0.1, \"#c51b7d\"], [0.2, \"#de77ae\"], [0.3, \"#f1b6da\"], [0.4, \"#fde0ef\"], [0.5, \"#f7f7f7\"], [0.6, \"#e6f5d0\"], [0.7, \"#b8e186\"], [0.8, \"#7fbc41\"], [0.9, \"#4d9221\"], [1, \"#276419\"]], \"sequential\": [[0.0, \"#0d0887\"], [0.1111111111111111, \"#46039f\"], [0.2222222222222222, \"#7201a8\"], [0.3333333333333333, \"#9c179e\"], [0.4444444444444444, \"#bd3786\"], [0.5555555555555556, \"#d8576b\"], [0.6666666666666666, \"#ed7953\"], [0.7777777777777778, \"#fb9f3a\"], [0.8888888888888888, \"#fdca26\"], [1.0, \"#f0f921\"]], \"sequentialminus\": [[0.0, \"#0d0887\"], [0.1111111111111111, \"#46039f\"], [0.2222222222222222, \"#7201a8\"], [0.3333333333333333, \"#9c179e\"], [0.4444444444444444, \"#bd3786\"], [0.5555555555555556, \"#d8576b\"], [0.6666666666666666, \"#ed7953\"], [0.7777777777777778, \"#fb9f3a\"], [0.8888888888888888, \"#fdca26\"], [1.0, \"#f0f921\"]]}, \"colorway\": [\"#636efa\", \"#EF553B\", \"#00cc96\", \"#ab63fa\", \"#FFA15A\", \"#19d3f3\", \"#FF6692\", \"#B6E880\", \"#FF97FF\", \"#FECB52\"], \"font\": {\"color\": \"#2a3f5f\"}, \"geo\": {\"bgcolor\": \"white\", \"lakecolor\": \"white\", \"landcolor\": \"#E5ECF6\", \"showlakes\": true, \"showland\": true, \"subunitcolor\": \"white\"}, \"hoverlabel\": {\"align\": \"left\"}, \"hovermode\": \"closest\", \"mapbox\": {\"style\": \"light\"}, \"paper_bgcolor\": \"white\", \"plot_bgcolor\": \"#E5ECF6\", \"polar\": {\"angularaxis\": {\"gridcolor\": \"white\", \"linecolor\": \"white\", \"ticks\": \"\"}, \"bgcolor\": \"#E5ECF6\", \"radialaxis\": {\"gridcolor\": \"white\", \"linecolor\": \"white\", \"ticks\": \"\"}}, \"scene\": {\"xaxis\": {\"backgroundcolor\": \"#E5ECF6\", \"gridcolor\": \"white\", \"gridwidth\": 2, \"linecolor\": \"white\", \"showbackground\": true, \"ticks\": \"\", \"zerolinecolor\": \"white\"}, \"yaxis\": {\"backgroundcolor\": \"#E5ECF6\", \"gridcolor\": \"white\", \"gridwidth\": 2, \"linecolor\": \"white\", \"showbackground\": true, \"ticks\": \"\", \"zerolinecolor\": \"white\"}, \"zaxis\": {\"backgroundcolor\": \"#E5ECF6\", \"gridcolor\": \"white\", \"gridwidth\": 2, \"linecolor\": \"white\", \"showbackground\": true, \"ticks\": \"\", \"zerolinecolor\": \"white\"}}, \"shapedefaults\": {\"line\": {\"color\": \"#2a3f5f\"}}, \"ternary\": {\"aaxis\": {\"gridcolor\": \"white\", \"linecolor\": \"white\", \"ticks\": \"\"}, \"baxis\": {\"gridcolor\": \"white\", \"linecolor\": \"white\", \"ticks\": \"\"}, \"bgcolor\": \"#E5ECF6\", \"caxis\": {\"gridcolor\": \"white\", \"linecolor\": \"white\", \"ticks\": \"\"}}, \"title\": {\"x\": 0.05}, \"xaxis\": {\"automargin\": true, \"gridcolor\": \"white\", \"linecolor\": \"white\", \"ticks\": \"\", \"zerolinecolor\": \"white\", \"zerolinewidth\": 2}, \"yaxis\": {\"automargin\": true, \"gridcolor\": \"white\", \"linecolor\": \"white\", \"ticks\": \"\", \"zerolinecolor\": \"white\", \"zerolinewidth\": 2}}}, \"title\": {\"text\": \"Accidental Deaths not involving opiates\"}, \"xaxis\": {\"anchor\": \"y\", \"domain\": [0.0, 0.98], \"title\": {\"text\": \"Date\"}}, \"xaxis2\": {\"anchor\": \"y2\", \"domain\": [0.0, 0.98], \"matches\": \"x\", \"showgrid\": true, \"showticklabels\": false}, \"yaxis\": {\"anchor\": \"x\", \"categoryarray\": [\"Other\", \"Residence\", \"Hospital\"], \"categoryorder\": \"array\", \"domain\": [0.0, 0.7326], \"title\": {\"text\": \"Location\"}}, \"yaxis2\": {\"anchor\": \"x2\", \"categoryarray\": [\"Other\", \"Residence\", \"Hospital\"], \"categoryorder\": \"array\", \"domain\": [0.7426, 1.0], \"matches\": \"y2\", \"showgrid\": true, \"showticklabels\": false}},\n",
              "                        {\"responsive\": true}\n",
              "                    ).then(function(){\n",
              "                            \n",
              "var gd = document.getElementById('8823ecab-b456-471a-b420-dd7e9551b447');\n",
              "var x = new MutationObserver(function (mutations, observer) {{\n",
              "        var display = window.getComputedStyle(gd).display;\n",
              "        if (!display || display === 'none') {{\n",
              "            console.log([gd, 'removed!']);\n",
              "            Plotly.purge(gd);\n",
              "            observer.disconnect();\n",
              "        }}\n",
              "}});\n",
              "\n",
              "// Listen for the removal of the full notebook cells\n",
              "var notebookContainer = gd.closest('#notebook-container');\n",
              "if (notebookContainer) {{\n",
              "    x.observe(notebookContainer, {childList: true});\n",
              "}}\n",
              "\n",
              "// Listen for the clearing of the current output cell\n",
              "var outputEl = gd.closest('.output');\n",
              "if (outputEl) {{\n",
              "    x.observe(outputEl, {childList: true});\n",
              "}}\n",
              "\n",
              "                        })\n",
              "                };\n",
              "                \n",
              "            </script>\n",
              "        </div>\n",
              "</body>\n",
              "</html>"
            ]
          },
          "metadata": {
            "tags": []
          }
        }
      ]
    },
    {
      "cell_type": "markdown",
      "metadata": {
        "id": "K0AGHBV6KZln",
        "colab_type": "text"
      },
      "source": [
        "# Statistics"
      ]
    },
    {
      "cell_type": "code",
      "metadata": {
        "id": "9wVrZPz8KceE",
        "colab_type": "code",
        "colab": {}
      },
      "source": [
        "#opimask = dfor['AnyOpioid'] == 1\n",
        "#opinull = dfor['AnyOpioid'] == 0\n",
        "#P = prob, A = prior, B = Evidence, \n",
        "def bay_ther(p,a,b):\n",
        "  psterior = (p*(b|a) * p*(a)) / (p*b)\n",
        "  return(psterior)"
      ],
      "execution_count": 0,
      "outputs": []
    },
    {
      "cell_type": "code",
      "metadata": {
        "id": "6z2Ubs45om9j",
        "colab_type": "code",
        "colab": {
          "base_uri": "https://localhost:8080/",
          "height": 70
        },
        "outputId": "68710f26-f3b0-40e3-c233-950cca5a5727"
      },
      "source": [
        "print(df['AnyOpioid'].value_counts(normalize=True) * 100)"
      ],
      "execution_count": 164,
      "outputs": [
        {
          "output_type": "stream",
          "text": [
            "0.0    51.811949\n",
            "1.0    48.188051\n",
            "Name: AnyOpioid, dtype: float64\n"
          ],
          "name": "stdout"
        }
      ]
    },
    {
      "cell_type": "code",
      "metadata": {
        "id": "BKDBjE7ho2gT",
        "colab_type": "code",
        "colab": {
          "base_uri": "https://localhost:8080/",
          "height": 70
        },
        "outputId": "87a6ba12-c020-4e3d-ce1e-802ad3e37b6f"
      },
      "source": [
        "print(df['AnyOpioid'].value_counts(normalize=True) * 100)"
      ],
      "execution_count": 165,
      "outputs": [
        {
          "output_type": "stream",
          "text": [
            "0.0    51.811949\n",
            "1.0    48.188051\n",
            "Name: AnyOpioid, dtype: float64\n"
          ],
          "name": "stdout"
        }
      ]
    },
    {
      "cell_type": "code",
      "metadata": {
        "id": "NfoPaXr2oOIn",
        "colab_type": "code",
        "colab": {
          "base_uri": "https://localhost:8080/",
          "height": 34
        },
        "outputId": "840e524f-f4fc-4860-96dd-69275a959c9d"
      },
      "source": [
        "bay_ther(p=100,a=51,b=48)"
      ],
      "execution_count": 166,
      "outputs": [
        {
          "output_type": "execute_result",
          "data": {
            "text/plain": [
              "5418.75"
            ]
          },
          "metadata": {
            "tags": []
          },
          "execution_count": 166
        }
      ]
    },
    {
      "cell_type": "code",
      "metadata": {
        "id": "XXN1w7hwpYJt",
        "colab_type": "code",
        "colab": {
          "base_uri": "https://localhost:8080/",
          "height": 34
        },
        "outputId": "791603ba-a0ac-4b97-e39e-453817d166ab"
      },
      "source": [
        "total = len(df['ID'])\n",
        "print(total)"
      ],
      "execution_count": 167,
      "outputs": [
        {
          "output_type": "stream",
          "text": [
            "5105\n"
          ],
          "name": "stdout"
        }
      ]
    },
    {
      "cell_type": "code",
      "metadata": {
        "id": "bV4nA7_ddTf2",
        "colab_type": "code",
        "colab": {
          "base_uri": "https://localhost:8080/",
          "height": 34
        },
        "outputId": "ad716c69-6563-4c55-ece7-20dfe01db69c"
      },
      "source": [
        "cocmask = df['Cocaine'] == 1\n",
        "cocp = df[cocmask]\n",
        "coctotal = len(cocp['ID'])\n",
        "print(coctotal)"
      ],
      "execution_count": 168,
      "outputs": [
        {
          "output_type": "stream",
          "text": [
            "1521\n"
          ],
          "name": "stdout"
        }
      ]
    },
    {
      "cell_type": "code",
      "metadata": {
        "id": "l9JDI4Q1eQmV",
        "colab_type": "code",
        "colab": {
          "base_uri": "https://localhost:8080/",
          "height": 34
        },
        "outputId": "d79811ef-2dff-42ca-b13c-170acdb1f14e"
      },
      "source": [
        "fentmask = df['Fentanyl'] == 1\n",
        "fentp = df[fentmask]\n",
        "fenttotal = len(fentp['Fentanyl'])\n",
        "print(fenttotal)"
      ],
      "execution_count": 169,
      "outputs": [
        {
          "output_type": "stream",
          "text": [
            "2228\n"
          ],
          "name": "stdout"
        }
      ]
    },
    {
      "cell_type": "code",
      "metadata": {
        "id": "gRJYCNZmfQJa",
        "colab_type": "code",
        "colab": {
          "base_uri": "https://localhost:8080/",
          "height": 34
        },
        "outputId": "f8371eed-2a78-4c31-b22a-8efa9b96545f"
      },
      "source": [
        "hermask = df['Heroin'] == 1\n",
        "herp = df[hermask]\n",
        "hertotal = len(herp['Heroin'])\n",
        "print(hertotal)"
      ],
      "execution_count": 170,
      "outputs": [
        {
          "output_type": "stream",
          "text": [
            "2529\n"
          ],
          "name": "stdout"
        }
      ]
    },
    {
      "cell_type": "code",
      "metadata": {
        "id": "ZqqDNNzofmxP",
        "colab_type": "code",
        "colab": {
          "base_uri": "https://localhost:8080/",
          "height": 34
        },
        "outputId": "6372ad89-47de-4270-885e-626c9c7997c3"
      },
      "source": [
        "print(2228+2529)"
      ],
      "execution_count": 171,
      "outputs": [
        {
          "output_type": "stream",
          "text": [
            "4757\n"
          ],
          "name": "stdout"
        }
      ]
    },
    {
      "cell_type": "code",
      "metadata": {
        "id": "Bn_AZ6X6eyuG",
        "colab_type": "code",
        "colab": {}
      },
      "source": [
        "#Fentanol caused more Drug-Related accidental deaths than all Opiates besides\n",
        "#Fentanol and heroine caused more death than any other substance"
      ],
      "execution_count": 0,
      "outputs": []
    },
    {
      "cell_type": "markdown",
      "metadata": {
        "id": "YiFOZBL4QSCC",
        "colab_type": "text"
      },
      "source": [
        "# ML  Fitting and Visualization"
      ]
    },
    {
      "cell_type": "code",
      "metadata": {
        "id": "h1grDjaKQXBO",
        "colab_type": "code",
        "colab": {
          "base_uri": "https://localhost:8080/",
          "height": 425
        },
        "outputId": "c37a3103-81ed-42c4-98c4-14adfb144149"
      },
      "source": [
        "pipeline.fit(X_tr,y_tr)"
      ],
      "execution_count": 173,
      "outputs": [
        {
          "output_type": "execute_result",
          "data": {
            "text/plain": [
              "Pipeline(memory=None,\n",
              "         steps=[('ordinalencoder',\n",
              "                 OrdinalEncoder(cols=['ID', 'Date', 'DateType', 'Sex', 'Race',\n",
              "                                      'ResidenceCity', 'ResidenceCounty',\n",
              "                                      'ResidenceState', 'DeathCity',\n",
              "                                      'DeathCounty', 'Location',\n",
              "                                      'LocationifOther', 'DescriptionofInjury',\n",
              "                                      'InjuryPlace', 'InjuryCity',\n",
              "                                      'InjuryCounty', 'InjuryState', 'COD',\n",
              "                                      'OtherSignifican', 'Fentanyl', 'Morphine',\n",
              "                                      'MannerofDeath', '...\n",
              "                 RandomForestClassifier(bootstrap=True, class_weight=None,\n",
              "                                        criterion='gini', max_depth=None,\n",
              "                                        max_features='auto',\n",
              "                                        max_leaf_nodes=None,\n",
              "                                        min_impurity_decrease=0.0,\n",
              "                                        min_impurity_split=None,\n",
              "                                        min_samples_leaf=1, min_samples_split=2,\n",
              "                                        min_weight_fraction_leaf=0.0,\n",
              "                                        n_estimators=2500, n_jobs=-3,\n",
              "                                        oob_score=False, random_state=35,\n",
              "                                        verbose=0, warm_start=False))],\n",
              "         verbose=False)"
            ]
          },
          "metadata": {
            "tags": []
          },
          "execution_count": 173
        }
      ]
    },
    {
      "cell_type": "code",
      "metadata": {
        "id": "Kag-7j7Jqvps",
        "colab_type": "code",
        "colab": {}
      },
      "source": [
        "tntpreddf = df.copy()\n",
        "y_pred = pipeline.predict(X_te)"
      ],
      "execution_count": 0,
      "outputs": []
    },
    {
      "cell_type": "code",
      "metadata": {
        "id": "yaAkwE0dYv_2",
        "colab_type": "code",
        "colab": {
          "base_uri": "https://localhost:8080/",
          "height": 34
        },
        "outputId": "98da0038-6cdf-4590-c509-ef58a20bf2ec"
      },
      "source": [
        "print(y_pred)"
      ],
      "execution_count": 175,
      "outputs": [
        {
          "output_type": "stream",
          "text": [
            "[0. 0. 0. ... 0. 0. 1.]\n"
          ],
          "name": "stdout"
        }
      ]
    },
    {
      "cell_type": "code",
      "metadata": {
        "id": "x4JyHQb5iP_1",
        "colab_type": "code",
        "colab": {
          "base_uri": "https://localhost:8080/",
          "height": 194
        },
        "outputId": "1e97db3e-628c-40a0-b66b-408753cfb714"
      },
      "source": [
        "test.head(2)"
      ],
      "execution_count": 176,
      "outputs": [
        {
          "output_type": "execute_result",
          "data": {
            "text/html": [
              "<div>\n",
              "<style scoped>\n",
              "    .dataframe tbody tr th:only-of-type {\n",
              "        vertical-align: middle;\n",
              "    }\n",
              "\n",
              "    .dataframe tbody tr th {\n",
              "        vertical-align: top;\n",
              "    }\n",
              "\n",
              "    .dataframe thead th {\n",
              "        text-align: right;\n",
              "    }\n",
              "</style>\n",
              "<table border=\"1\" class=\"dataframe\">\n",
              "  <thead>\n",
              "    <tr style=\"text-align: right;\">\n",
              "      <th></th>\n",
              "      <th>ID</th>\n",
              "      <th>Date</th>\n",
              "      <th>DateType</th>\n",
              "      <th>Age</th>\n",
              "      <th>Sex</th>\n",
              "      <th>Race</th>\n",
              "      <th>ResidenceCity</th>\n",
              "      <th>ResidenceCounty</th>\n",
              "      <th>ResidenceState</th>\n",
              "      <th>DeathCity</th>\n",
              "      <th>DeathCounty</th>\n",
              "      <th>Location</th>\n",
              "      <th>LocationifOther</th>\n",
              "      <th>DescriptionofInjury</th>\n",
              "      <th>InjuryPlace</th>\n",
              "      <th>InjuryCity</th>\n",
              "      <th>InjuryCounty</th>\n",
              "      <th>InjuryState</th>\n",
              "      <th>COD</th>\n",
              "      <th>OtherSignifican</th>\n",
              "      <th>Heroin</th>\n",
              "      <th>Cocaine</th>\n",
              "      <th>Fentanyl</th>\n",
              "      <th>Oxycodone</th>\n",
              "      <th>Oxymorphone</th>\n",
              "      <th>Ethanol</th>\n",
              "      <th>Hydrocodone</th>\n",
              "      <th>Benzodiazepine</th>\n",
              "      <th>Methadone</th>\n",
              "      <th>Amphet</th>\n",
              "      <th>Tramad</th>\n",
              "      <th>Morphine</th>\n",
              "      <th>Hydromorphone</th>\n",
              "      <th>OpiateNOS</th>\n",
              "      <th>AnyOpioid</th>\n",
              "      <th>MannerofDeath</th>\n",
              "      <th>DeathCityGeo</th>\n",
              "      <th>ResidenceCityGeo</th>\n",
              "      <th>InjuryCityGeo</th>\n",
              "    </tr>\n",
              "  </thead>\n",
              "  <tbody>\n",
              "    <tr>\n",
              "      <th>26</th>\n",
              "      <td>18-0095</td>\n",
              "      <td>2018-02-10</td>\n",
              "      <td>DateReported</td>\n",
              "      <td>51.0</td>\n",
              "      <td>0</td>\n",
              "      <td>White</td>\n",
              "      <td>HARTFORD</td>\n",
              "      <td>HARTFORD</td>\n",
              "      <td>CT</td>\n",
              "      <td>HARTFORD</td>\n",
              "      <td>HARTFORD</td>\n",
              "      <td>Hospital</td>\n",
              "      <td>NaN</td>\n",
              "      <td>Drug Use</td>\n",
              "      <td>Other, Public Buildings</td>\n",
              "      <td>HARTFORD</td>\n",
              "      <td>HARTFORD</td>\n",
              "      <td>NaN</td>\n",
              "      <td>Acute IntoxicationCombined Effects of Ethanol,...</td>\n",
              "      <td>0</td>\n",
              "      <td>0.0</td>\n",
              "      <td>0.0</td>\n",
              "      <td>1</td>\n",
              "      <td>0.0</td>\n",
              "      <td>0.0</td>\n",
              "      <td>1.0</td>\n",
              "      <td>0.0</td>\n",
              "      <td>1.0</td>\n",
              "      <td>0.0</td>\n",
              "      <td>0.0</td>\n",
              "      <td>0.0</td>\n",
              "      <td>0</td>\n",
              "      <td>0.0</td>\n",
              "      <td>NaN</td>\n",
              "      <td>1.0</td>\n",
              "      <td>Accident</td>\n",
              "      <td>Hartford, CT\\n(41.765775, -72.673356)</td>\n",
              "      <td>HARTFORD, CT\\n(41.765775, -72.673356)</td>\n",
              "      <td>HARTFORD, CT\\n(41.765775, -72.673356)</td>\n",
              "    </tr>\n",
              "    <tr>\n",
              "      <th>29</th>\n",
              "      <td>18-0285</td>\n",
              "      <td>2018-04-11</td>\n",
              "      <td>DateReported</td>\n",
              "      <td>25.0</td>\n",
              "      <td>0</td>\n",
              "      <td>Hispanic, White</td>\n",
              "      <td>HARRISBURG</td>\n",
              "      <td>DAUPHIN</td>\n",
              "      <td>PA</td>\n",
              "      <td>NEW HAVEN</td>\n",
              "      <td>NEW HAVEN</td>\n",
              "      <td>Nursing Home</td>\n",
              "      <td>NaN</td>\n",
              "      <td>Substance Abuse</td>\n",
              "      <td>Unknown</td>\n",
              "      <td>NaN</td>\n",
              "      <td>NaN</td>\n",
              "      <td>NaN</td>\n",
              "      <td>Complications of Anoxic-Ischemic Encephalopath...</td>\n",
              "      <td>0</td>\n",
              "      <td>0.0</td>\n",
              "      <td>0.0</td>\n",
              "      <td>0</td>\n",
              "      <td>0.0</td>\n",
              "      <td>0.0</td>\n",
              "      <td>0.0</td>\n",
              "      <td>0.0</td>\n",
              "      <td>0.0</td>\n",
              "      <td>0.0</td>\n",
              "      <td>0.0</td>\n",
              "      <td>0.0</td>\n",
              "      <td>0</td>\n",
              "      <td>0.0</td>\n",
              "      <td>1.0</td>\n",
              "      <td>1.0</td>\n",
              "      <td>Accident</td>\n",
              "      <td>NEW HAVEN, CT\\n(41.308252, -72.924161)</td>\n",
              "      <td>HARRISBURG, CT\\n(41.617199, -73.284203)</td>\n",
              "      <td>CT\\n(41.575155, -72.738288)</td>\n",
              "    </tr>\n",
              "  </tbody>\n",
              "</table>\n",
              "</div>"
            ],
            "text/plain": [
              "         ID  ...                          InjuryCityGeo\n",
              "26  18-0095  ...  HARTFORD, CT\\n(41.765775, -72.673356)\n",
              "29  18-0285  ...            CT\\n(41.575155, -72.738288)\n",
              "\n",
              "[2 rows x 39 columns]"
            ]
          },
          "metadata": {
            "tags": []
          },
          "execution_count": 176
        }
      ]
    },
    {
      "cell_type": "code",
      "metadata": {
        "id": "USnBpytFk9E6",
        "colab_type": "code",
        "colab": {}
      },
      "source": [
        "test = df[testmask]\n",
        "train = df[trainmask]"
      ],
      "execution_count": 0,
      "outputs": []
    },
    {
      "cell_type": "code",
      "metadata": {
        "id": "lIc_fkVTgIUj",
        "colab_type": "code",
        "colab": {
          "base_uri": "https://localhost:8080/",
          "height": 158
        },
        "outputId": "3bc88512-3548-49e6-c0ac-8c6e2925b458"
      },
      "source": [
        "test['Opioid-Based'] = y_pred"
      ],
      "execution_count": 191,
      "outputs": [
        {
          "output_type": "stream",
          "text": [
            "/usr/local/lib/python3.6/dist-packages/ipykernel_launcher.py:1: SettingWithCopyWarning:\n",
            "\n",
            "\n",
            "A value is trying to be set on a copy of a slice from a DataFrame.\n",
            "Try using .loc[row_indexer,col_indexer] = value instead\n",
            "\n",
            "See the caveats in the documentation: http://pandas.pydata.org/pandas-docs/stable/indexing.html#indexing-view-versus-copy\n",
            "\n"
          ],
          "name": "stderr"
        }
      ]
    },
    {
      "cell_type": "code",
      "metadata": {
        "id": "xoUxf7C8oIVO",
        "colab_type": "code",
        "colab": {
          "base_uri": "https://localhost:8080/",
          "height": 616
        },
        "outputId": "96f5a587-56ad-4142-d7c4-2068c578511e"
      },
      "source": [
        "fig = px.scatter(test, x=\"Date\", y='ID', color=\"Opioid-Based\",\n",
        "                 size='AnyOpioid',\n",
        "                title='Opiate Versus non-Opiate related death prediction: 2019')\n",
        "fig.show()"
      ],
      "execution_count": 195,
      "outputs": [
        {
          "output_type": "display_data",
          "data": {
            "text/html": [
              "<html>\n",
              "<head><meta charset=\"utf-8\" /></head>\n",
              "<body>\n",
              "    <div>\n",
              "            <script src=\"https://cdnjs.cloudflare.com/ajax/libs/mathjax/2.7.5/MathJax.js?config=TeX-AMS-MML_SVG\"></script><script type=\"text/javascript\">if (window.MathJax) {MathJax.Hub.Config({SVG: {font: \"STIX-Web\"}});}</script>\n",
              "                <script type=\"text/javascript\">window.PlotlyConfig = {MathJaxConfig: 'local'};</script>\n",
              "        <script src=\"https://cdn.plot.ly/plotly-latest.min.js\"></script>    \n",
              "            <div id=\"17b1ac11-c49a-421c-8fd0-fbdf08fca043\" class=\"plotly-graph-div\" style=\"height:600px; width:100%;\"></div>\n",
              "            <script type=\"text/javascript\">\n",
              "                \n",
              "                    window.PLOTLYENV=window.PLOTLYENV || {};\n",
              "                    \n",
              "                if (document.getElementById(\"17b1ac11-c49a-421c-8fd0-fbdf08fca043\")) {\n",
              "                    Plotly.newPlot(\n",
              "                        '17b1ac11-c49a-421c-8fd0-fbdf08fca043',\n",
              "                        [{\"hoverlabel\": {\"namelength\": 0}, \"hovertemplate\": \"Date=%{x}<br>ID=%{y}<br>AnyOpioid=%{marker.size}<br>Opioid-Based=%{marker.color}\", \"legendgroup\": \"\", \"marker\": {\"color\": [0.0, 0.0, 0.0, 0.0, 1.0, 1.0, 1.0, 1.0, 0.0, 0.0, 0.0, 0.0, 1.0, 1.0, 0.0, 1.0, 0.0, 1.0, 0.0, 0.0, 1.0, 0.0, 0.0, 0.0, 1.0, 0.0, 1.0, 0.0, 1.0, 1.0, 0.0, 0.0, 0.0, 0.0, 0.0, 0.0, 0.0, 1.0, 0.0, 0.0, 0.0, 0.0, 0.0, 0.0, 0.0, 0.0, 1.0, 0.0, 0.0, 1.0, 1.0, 0.0, 1.0, 1.0, 0.0, 1.0, 1.0, 0.0, 1.0, 0.0, 0.0, 0.0, 1.0, 0.0, 0.0, 0.0, 0.0, 1.0, 1.0, 0.0, 0.0, 0.0, 1.0, 0.0, 0.0, 0.0, 0.0, 0.0, 1.0, 0.0, 1.0, 0.0, 1.0, 1.0, 0.0, 1.0, 0.0, 0.0, 0.0, 0.0, 0.0, 1.0, 0.0, 1.0, 0.0, 1.0, 1.0, 0.0, 0.0, 0.0, 1.0, 1.0, 1.0, 1.0, 0.0, 1.0, 0.0, 0.0, 1.0, 0.0, 1.0, 0.0, 0.0, 1.0, 0.0, 0.0, 0.0, 0.0, 0.0, 0.0, 1.0, 1.0, 0.0, 0.0, 0.0, 0.0, 1.0, 1.0, 0.0, 0.0, 0.0, 1.0, 1.0, 0.0, 1.0, 0.0, 0.0, 0.0, 0.0, 0.0, 1.0, 1.0, 0.0, 0.0, 0.0, 0.0, 0.0, 0.0, 0.0, 0.0, 0.0, 0.0, 1.0, 1.0, 0.0, 1.0, 1.0, 0.0, 0.0, 1.0, 1.0, 0.0, 0.0, 0.0, 1.0, 0.0, 0.0, 0.0, 0.0, 1.0, 0.0, 0.0, 0.0, 1.0, 0.0, 1.0, 0.0, 1.0, 0.0, 0.0, 0.0, 0.0, 0.0, 1.0, 1.0, 0.0, 0.0, 0.0, 1.0, 0.0, 1.0, 0.0, 0.0, 0.0, 0.0, 1.0, 0.0, 1.0, 0.0, 1.0, 1.0, 1.0, 0.0, 0.0, 0.0, 0.0, 0.0, 0.0, 1.0, 0.0, 0.0, 1.0, 1.0, 0.0, 1.0, 1.0, 0.0, 0.0, 1.0, 0.0, 1.0, 0.0, 0.0, 0.0, 1.0, 1.0, 1.0, 0.0, 0.0, 1.0, 1.0, 1.0, 1.0, 0.0, 0.0, 1.0, 0.0, 1.0, 1.0, 0.0, 1.0, 0.0, 0.0, 1.0, 0.0, 0.0, 0.0, 0.0, 0.0, 0.0, 0.0, 1.0, 1.0, 1.0, 0.0, 0.0, 0.0, 0.0, 1.0, 0.0, 1.0, 1.0, 0.0, 1.0, 1.0, 1.0, 0.0, 0.0, 0.0, 1.0, 0.0, 1.0, 0.0, 0.0, 1.0, 0.0, 0.0, 0.0, 1.0, 1.0, 0.0, 1.0, 0.0, 0.0, 0.0, 1.0, 0.0, 0.0, 0.0, 1.0, 0.0, 0.0, 1.0, 0.0, 0.0, 0.0, 0.0, 0.0, 1.0, 0.0, 0.0, 0.0, 0.0, 0.0, 0.0, 1.0, 1.0, 0.0, 1.0, 0.0, 0.0, 0.0, 1.0, 0.0, 0.0, 0.0, 1.0, 0.0, 1.0, 1.0, 1.0, 0.0, 1.0, 0.0, 1.0, 0.0, 0.0, 1.0, 1.0, 0.0, 1.0, 1.0, 0.0, 1.0, 0.0, 1.0, 1.0, 1.0, 0.0, 0.0, 1.0, 0.0, 1.0, 1.0, 1.0, 1.0, 1.0, 1.0, 1.0, 0.0, 0.0, 0.0, 1.0, 0.0, 0.0, 0.0, 0.0, 0.0, 1.0, 0.0, 0.0, 0.0, 0.0, 0.0, 1.0, 1.0, 0.0, 0.0, 1.0, 1.0, 0.0, 1.0, 0.0, 0.0, 0.0, 1.0, 1.0, 0.0, 0.0, 1.0, 1.0, 0.0, 0.0, 0.0, 0.0, 1.0, 1.0, 1.0, 1.0, 0.0, 0.0, 0.0, 0.0, 0.0, 1.0, 0.0, 1.0, 1.0, 0.0, 0.0, 1.0, 0.0, 1.0, 1.0, 0.0, 0.0, 1.0, 1.0, 0.0, 1.0, 0.0, 1.0, 1.0, 0.0, 0.0, 0.0, 1.0, 0.0, 0.0, 0.0, 1.0, 0.0, 0.0, 0.0, 1.0, 0.0, 0.0, 0.0, 0.0, 0.0, 1.0, 0.0, 0.0, 0.0, 1.0, 0.0, 0.0, 0.0, 0.0, 0.0, 0.0, 0.0, 0.0, 1.0, 0.0, 0.0, 1.0, 1.0, 0.0, 1.0, 0.0, 1.0, 0.0, 0.0, 0.0, 0.0, 1.0, 0.0, 1.0, 0.0, 1.0, 1.0, 0.0, 0.0, 0.0, 0.0, 1.0, 0.0, 0.0, 0.0, 0.0, 1.0, 0.0, 1.0, 0.0, 0.0, 0.0, 1.0, 0.0, 0.0, 0.0, 1.0, 0.0, 0.0, 0.0, 0.0, 0.0, 1.0, 0.0, 0.0, 0.0, 1.0, 0.0, 1.0, 0.0, 1.0, 0.0, 1.0, 1.0, 0.0, 0.0, 0.0, 0.0, 1.0, 1.0, 0.0, 0.0, 0.0, 1.0, 1.0, 1.0, 0.0, 1.0, 0.0, 0.0, 1.0, 0.0, 1.0, 0.0, 0.0, 0.0, 0.0, 0.0, 1.0, 0.0, 0.0, 1.0, 1.0, 0.0, 0.0, 0.0, 0.0, 1.0, 1.0, 1.0, 1.0, 0.0, 0.0, 0.0, 1.0, 1.0, 1.0, 0.0, 0.0, 0.0, 0.0, 0.0, 0.0, 0.0, 1.0, 0.0, 0.0, 0.0, 0.0, 1.0, 0.0, 0.0, 1.0, 1.0, 0.0, 0.0, 1.0, 1.0, 0.0, 0.0, 1.0, 0.0, 0.0, 0.0, 0.0, 1.0, 0.0, 0.0, 1.0, 1.0, 0.0, 0.0, 1.0, 1.0, 0.0, 0.0, 1.0, 0.0, 1.0, 1.0, 0.0, 0.0, 0.0, 1.0, 0.0, 1.0, 0.0, 0.0, 0.0, 0.0, 1.0, 0.0, 1.0, 0.0, 0.0, 1.0, 0.0, 0.0, 0.0, 1.0, 0.0, 1.0, 1.0, 0.0, 0.0, 0.0, 0.0, 0.0, 0.0, 1.0, 0.0, 0.0, 0.0, 0.0, 0.0, 0.0, 1.0, 0.0, 0.0, 1.0, 1.0, 1.0, 1.0, 0.0, 1.0, 1.0, 1.0, 1.0, 1.0, 1.0, 0.0, 1.0, 0.0, 0.0, 0.0, 0.0, 0.0, 1.0, 1.0, 0.0, 1.0, 0.0, 0.0, 0.0, 1.0, 0.0, 1.0, 1.0, 0.0, 0.0, 0.0, 0.0, 0.0, 0.0, 0.0, 0.0, 0.0, 1.0, 1.0, 0.0, 0.0, 0.0, 1.0, 0.0, 1.0, 0.0, 0.0, 1.0, 0.0, 1.0, 0.0, 0.0, 0.0, 0.0, 0.0, 1.0, 0.0, 1.0, 0.0, 0.0, 0.0, 0.0, 0.0, 1.0, 1.0, 1.0, 0.0, 1.0, 1.0, 1.0, 1.0, 1.0, 0.0, 0.0, 0.0, 1.0, 0.0, 1.0, 0.0, 1.0, 0.0, 0.0, 1.0, 1.0, 0.0, 0.0, 0.0, 0.0, 0.0, 0.0, 0.0, 1.0, 1.0, 1.0, 1.0, 0.0, 0.0, 0.0, 0.0, 0.0, 1.0, 0.0, 0.0, 0.0, 0.0, 0.0, 0.0, 0.0, 0.0, 1.0, 0.0, 1.0, 0.0, 0.0, 0.0, 0.0, 0.0, 0.0, 0.0, 0.0, 1.0, 0.0, 1.0, 1.0, 1.0, 1.0, 0.0, 1.0, 0.0, 0.0, 1.0, 0.0, 1.0, 1.0, 0.0, 0.0, 0.0, 0.0, 0.0, 1.0, 0.0, 0.0, 0.0, 1.0, 0.0, 0.0, 0.0, 0.0, 1.0, 1.0, 0.0, 0.0, 0.0, 1.0, 0.0, 0.0, 1.0, 0.0, 0.0, 0.0, 1.0, 0.0, 0.0, 1.0, 0.0, 0.0, 1.0, 0.0, 0.0, 0.0, 1.0, 0.0, 0.0, 1.0, 1.0, 0.0, 1.0, 0.0, 0.0, 1.0, 1.0, 0.0, 0.0, 1.0, 1.0, 0.0, 0.0, 1.0, 0.0, 1.0, 0.0, 0.0, 1.0, 0.0, 0.0, 0.0, 1.0, 0.0, 0.0, 0.0, 0.0, 0.0, 0.0, 1.0, 1.0, 1.0, 1.0, 1.0, 0.0, 0.0, 1.0, 1.0, 0.0, 0.0, 0.0, 1.0, 0.0, 0.0, 1.0, 1.0, 0.0, 0.0, 0.0, 1.0, 0.0, 0.0, 1.0, 0.0, 1.0, 0.0, 0.0, 1.0, 1.0, 1.0, 0.0, 0.0, 1.0, 0.0, 0.0, 0.0, 0.0, 0.0, 0.0, 0.0, 0.0, 1.0, 0.0, 1.0, 0.0, 0.0, 0.0, 0.0, 1.0, 0.0, 0.0, 0.0, 1.0, 0.0, 0.0, 0.0, 0.0, 0.0, 0.0, 1.0, 0.0, 1.0, 1.0, 0.0, 0.0, 0.0, 0.0, 1.0, 0.0, 1.0, 0.0, 0.0, 0.0, 0.0, 1.0, 1.0, 1.0, 1.0, 0.0, 0.0, 1.0, 0.0, 1.0, 0.0, 1.0, 0.0, 0.0, 1.0, 1.0, 0.0, 0.0, 0.0, 1.0, 0.0, 0.0, 0.0, 0.0, 1.0, 0.0, 0.0, 1.0, 0.0, 1.0, 0.0, 0.0, 0.0, 1.0, 0.0, 0.0, 1.0, 0.0, 1.0, 1.0, 1.0, 1.0, 0.0, 1.0, 0.0, 1.0, 1.0, 0.0, 0.0, 0.0, 0.0, 0.0, 0.0, 0.0, 1.0, 0.0, 0.0, 0.0, 0.0, 0.0, 0.0, 0.0, 1.0, 0.0, 1.0, 0.0, 1.0, 0.0, 0.0, 1.0, 0.0, 0.0, 1.0, 0.0, 0.0, 0.0, 1.0, 1.0, 1.0, 0.0, 0.0, 1.0, 1.0, 0.0, 0.0, 0.0, 0.0, 0.0, 0.0, 1.0, 1.0, 0.0, 0.0, 1.0, 0.0, 1.0, 1.0, 0.0, 0.0, 0.0, 0.0, 1.0, 0.0, 0.0, 0.0, 1.0, 1.0, 0.0, 0.0, 0.0, 0.0, 0.0, 1.0, 0.0, 0.0, 1.0], \"coloraxis\": \"coloraxis\", \"size\": [1.0, 1.0, 1.0, 0.0, 1.0, 1.0, 1.0, 1.0, 1.0, 1.0, 1.0, 1.0, 1.0, 1.0, 1.0, 0.0, 1.0, 0.0, 1.0, 1.0, 1.0, 1.0, 1.0, 0.0, 1.0, 1.0, 1.0, 1.0, 1.0, 1.0, 1.0, 1.0, 1.0, 1.0, 1.0, 1.0, 1.0, 1.0, 1.0, 1.0, 1.0, 1.0, 1.0, 1.0, 1.0, 1.0, 1.0, 1.0, 1.0, 0.0, 1.0, 0.0, 0.0, 1.0, 1.0, 1.0, 0.0, 1.0, 1.0, 1.0, 1.0, 1.0, 1.0, 1.0, 1.0, 1.0, 0.0, 1.0, 1.0, 1.0, 0.0, 1.0, 1.0, 1.0, 1.0, 1.0, 1.0, 1.0, 1.0, 1.0, 1.0, 1.0, 1.0, 1.0, 1.0, 1.0, 1.0, 1.0, 1.0, 0.0, 1.0, 1.0, 0.0, 1.0, 1.0, 1.0, 1.0, 1.0, 1.0, 1.0, 1.0, 1.0, 1.0, 1.0, 1.0, 1.0, 1.0, 1.0, 1.0, 1.0, 1.0, 1.0, 1.0, 1.0, 1.0, 1.0, 1.0, 1.0, 1.0, 1.0, 1.0, 1.0, 0.0, 0.0, 1.0, 1.0, 1.0, 1.0, 1.0, 1.0, 0.0, 1.0, 1.0, 1.0, 1.0, 0.0, 1.0, 1.0, 1.0, 1.0, 1.0, 1.0, 0.0, 1.0, 0.0, 1.0, 0.0, 1.0, 0.0, 1.0, 1.0, 1.0, 1.0, 1.0, 1.0, 1.0, 1.0, 1.0, 1.0, 1.0, 1.0, 0.0, 1.0, 1.0, 1.0, 1.0, 1.0, 1.0, 1.0, 1.0, 1.0, 1.0, 1.0, 1.0, 1.0, 1.0, 1.0, 1.0, 1.0, 1.0, 0.0, 1.0, 1.0, 1.0, 1.0, 1.0, 1.0, 1.0, 1.0, 1.0, 1.0, 1.0, 1.0, 1.0, 1.0, 1.0, 1.0, 1.0, 1.0, 1.0, 1.0, 1.0, 1.0, 1.0, 0.0, 1.0, 0.0, 1.0, 1.0, 1.0, 0.0, 1.0, 1.0, 1.0, 1.0, 1.0, 0.0, 1.0, 1.0, 1.0, 1.0, 1.0, 1.0, 1.0, 1.0, 1.0, 1.0, 1.0, 1.0, 1.0, 1.0, 1.0, 1.0, 1.0, 1.0, 1.0, 1.0, 1.0, 1.0, 1.0, 1.0, 1.0, 1.0, 1.0, 1.0, 1.0, 1.0, 1.0, 1.0, 1.0, 1.0, 1.0, 1.0, 1.0, 1.0, 1.0, 1.0, 1.0, 1.0, 1.0, 1.0, 1.0, 1.0, 0.0, 0.0, 1.0, 1.0, 1.0, 1.0, 1.0, 1.0, 1.0, 1.0, 0.0, 1.0, 1.0, 1.0, 1.0, 1.0, 1.0, 1.0, 1.0, 0.0, 1.0, 1.0, 1.0, 1.0, 1.0, 1.0, 1.0, 1.0, 1.0, 1.0, 1.0, 1.0, 1.0, 1.0, 1.0, 1.0, 0.0, 1.0, 1.0, 1.0, 1.0, 1.0, 1.0, 1.0, 1.0, 1.0, 1.0, 1.0, 1.0, 1.0, 1.0, 1.0, 1.0, 1.0, 1.0, 1.0, 0.0, 1.0, 1.0, 0.0, 1.0, 1.0, 1.0, 1.0, 1.0, 1.0, 1.0, 0.0, 1.0, 1.0, 1.0, 1.0, 1.0, 0.0, 1.0, 1.0, 1.0, 1.0, 1.0, 1.0, 1.0, 1.0, 1.0, 1.0, 1.0, 1.0, 1.0, 1.0, 1.0, 1.0, 1.0, 1.0, 0.0, 1.0, 1.0, 1.0, 1.0, 1.0, 1.0, 1.0, 0.0, 1.0, 1.0, 0.0, 1.0, 1.0, 1.0, 1.0, 1.0, 1.0, 1.0, 1.0, 1.0, 1.0, 0.0, 1.0, 1.0, 1.0, 1.0, 1.0, 1.0, 1.0, 1.0, 1.0, 1.0, 1.0, 1.0, 1.0, 1.0, 1.0, 1.0, 1.0, 1.0, 1.0, 1.0, 1.0, 1.0, 1.0, 1.0, 1.0, 0.0, 1.0, 1.0, 1.0, 1.0, 1.0, 1.0, 1.0, 1.0, 1.0, 1.0, 1.0, 1.0, 1.0, 1.0, 1.0, 1.0, 1.0, 1.0, 1.0, 1.0, 1.0, 1.0, 1.0, 1.0, 1.0, 1.0, 1.0, 1.0, 1.0, 1.0, 1.0, 1.0, 1.0, 1.0, 1.0, 1.0, 1.0, 1.0, 1.0, 1.0, 1.0, 1.0, 1.0, 1.0, 1.0, 1.0, 1.0, 1.0, 1.0, 1.0, 1.0, 1.0, 1.0, 1.0, 1.0, 1.0, 1.0, 1.0, 1.0, 1.0, 1.0, 1.0, 1.0, 1.0, 1.0, 1.0, 1.0, 1.0, 1.0, 1.0, 1.0, 1.0, 0.0, 1.0, 1.0, 1.0, 1.0, 1.0, 1.0, 0.0, 1.0, 1.0, 1.0, 1.0, 1.0, 1.0, 1.0, 1.0, 1.0, 1.0, 1.0, 1.0, 1.0, 1.0, 1.0, 0.0, 1.0, 1.0, 0.0, 1.0, 1.0, 1.0, 1.0, 0.0, 1.0, 1.0, 1.0, 1.0, 1.0, 1.0, 1.0, 1.0, 1.0, 1.0, 1.0, 1.0, 1.0, 1.0, 1.0, 1.0, 1.0, 1.0, 1.0, 1.0, 1.0, 1.0, 1.0, 1.0, 1.0, 1.0, 1.0, 1.0, 1.0, 1.0, 0.0, 1.0, 1.0, 1.0, 1.0, 1.0, 1.0, 1.0, 1.0, 0.0, 1.0, 1.0, 0.0, 1.0, 1.0, 1.0, 1.0, 1.0, 1.0, 1.0, 1.0, 1.0, 1.0, 1.0, 1.0, 1.0, 1.0, 1.0, 1.0, 1.0, 1.0, 1.0, 1.0, 0.0, 1.0, 1.0, 1.0, 1.0, 1.0, 1.0, 1.0, 0.0, 1.0, 1.0, 1.0, 1.0, 1.0, 1.0, 1.0, 1.0, 1.0, 1.0, 0.0, 1.0, 1.0, 1.0, 1.0, 1.0, 1.0, 1.0, 1.0, 0.0, 1.0, 1.0, 1.0, 1.0, 1.0, 1.0, 1.0, 1.0, 1.0, 1.0, 1.0, 1.0, 1.0, 1.0, 1.0, 1.0, 1.0, 1.0, 1.0, 0.0, 1.0, 1.0, 1.0, 1.0, 1.0, 1.0, 0.0, 1.0, 1.0, 1.0, 1.0, 1.0, 1.0, 1.0, 1.0, 1.0, 1.0, 1.0, 1.0, 1.0, 1.0, 1.0, 1.0, 1.0, 0.0, 1.0, 1.0, 1.0, 1.0, 1.0, 1.0, 1.0, 1.0, 1.0, 1.0, 1.0, 1.0, 1.0, 1.0, 1.0, 0.0, 1.0, 1.0, 1.0, 1.0, 1.0, 1.0, 1.0, 1.0, 1.0, 1.0, 1.0, 1.0, 1.0, 1.0, 1.0, 1.0, 1.0, 1.0, 1.0, 1.0, 1.0, 1.0, 1.0, 1.0, 1.0, 1.0, 1.0, 1.0, 1.0, 1.0, 1.0, 1.0, 1.0, 1.0, 1.0, 1.0, 1.0, 1.0, 1.0, 1.0, 1.0, 1.0, 1.0, 1.0, 1.0, 0.0, 1.0, 1.0, 1.0, 1.0, 1.0, 1.0, 1.0, 1.0, 1.0, 1.0, 1.0, 1.0, 0.0, 1.0, 1.0, 1.0, 1.0, 1.0, 1.0, 1.0, 1.0, 1.0, 1.0, 1.0, 1.0, 1.0, 1.0, 1.0, 1.0, 1.0, 1.0, 1.0, 1.0, 1.0, 0.0, 1.0, 1.0, 1.0, 1.0, 0.0, 1.0, 1.0, 1.0, 1.0, 1.0, 1.0, 1.0, 1.0, 1.0, 1.0, 1.0, 1.0, 1.0, 1.0, 1.0, 1.0, 1.0, 1.0, 1.0, 1.0, 1.0, 1.0, 1.0, 1.0, 1.0, 1.0, 1.0, 1.0, 1.0, 1.0, 1.0, 1.0, 1.0, 1.0, 1.0, 1.0, 1.0, 1.0, 1.0, 1.0, 1.0, 0.0, 1.0, 1.0, 1.0, 1.0, 1.0, 1.0, 1.0, 0.0, 1.0, 1.0, 1.0, 1.0, 1.0, 1.0, 1.0, 1.0, 1.0, 0.0, 1.0, 1.0, 1.0, 1.0, 1.0, 1.0, 1.0, 1.0, 1.0, 1.0, 1.0, 1.0, 1.0, 1.0, 1.0, 1.0, 0.0, 1.0, 1.0, 1.0, 1.0, 1.0, 1.0, 1.0, 1.0, 1.0, 1.0, 1.0, 1.0, 1.0, 1.0, 1.0, 1.0, 1.0, 1.0, 1.0, 1.0, 1.0, 0.0, 1.0, 0.0, 1.0, 1.0, 1.0, 1.0, 1.0, 1.0, 1.0, 1.0, 1.0, 1.0, 1.0, 1.0, 1.0, 1.0, 1.0, 1.0, 1.0, 1.0, 1.0, 1.0, 1.0, 1.0, 1.0, 1.0, 1.0, 1.0, 1.0, 1.0, 1.0, 1.0, 1.0, 1.0, 1.0, 1.0, 1.0, 1.0, 1.0, 1.0, 1.0, 1.0, 1.0, 1.0, 1.0, 1.0, 1.0, 1.0, 1.0, 1.0, 1.0, 1.0, 1.0, 1.0, 1.0, 1.0, 1.0, 1.0, 1.0, 1.0, 1.0, 1.0, 1.0, 1.0, 1.0, 1.0, 1.0, 1.0, 1.0, 1.0, 1.0, 1.0, 1.0, 1.0, 1.0, 1.0, 1.0, 1.0, 1.0, 1.0, 1.0, 1.0, 1.0, 1.0, 1.0, 1.0, 1.0, 1.0, 1.0, 1.0, 1.0, 1.0, 1.0, 1.0, 1.0, 1.0, 1.0, 0.0, 1.0, 1.0, 1.0, 1.0, 1.0, 1.0, 0.0, 0.0, 1.0, 1.0, 1.0, 1.0, 1.0, 1.0, 1.0, 1.0, 1.0, 1.0, 1.0, 1.0, 1.0, 1.0, 1.0, 1.0, 0.0, 1.0, 1.0, 1.0, 1.0, 1.0, 1.0, 1.0, 1.0, 1.0, 1.0, 1.0, 1.0, 1.0, 1.0, 1.0, 1.0, 1.0, 1.0, 1.0, 1.0, 1.0, 1.0, 1.0, 1.0, 1.0, 1.0, 1.0, 1.0, 1.0, 1.0, 1.0, 1.0, 1.0, 1.0, 1.0, 1.0, 1.0, 1.0, 1.0, 1.0, 1.0, 1.0, 1.0, 1.0, 1.0, 1.0, 1.0, 1.0, 1.0], \"sizemode\": \"area\", \"sizeref\": 0.0025, \"symbol\": \"circle\"}, \"mode\": \"markers\", \"name\": \"\", \"showlegend\": false, \"type\": \"scattergl\", \"x\": [\"2018-02-10\", \"2018-04-11\", \"2018-06-18\", \"2018-05-09\", \"2018-02-21\", \"2018-01-01\", \"2018-12-23\", \"2018-09-22\", \"2018-06-21\", \"2018-01-04\", \"2018-05-11\", \"2018-05-13\", \"2018-09-19\", \"2018-10-17\", \"2018-03-07\", \"2018-02-03\", \"2018-10-13\", \"2018-08-12\", \"2018-02-07\", \"2018-03-16\", \"2018-09-29\", \"2018-07-26\", \"2018-11-26\", \"2018-08-12\", \"2018-10-06\", \"2018-11-14\", \"2018-10-15\", \"2018-02-03\", \"2018-10-26\", \"2018-08-06\", \"2018-04-11\", \"2018-02-25\", \"2018-05-30\", \"2018-04-02\", \"2018-03-21\", \"2018-06-03\", \"2018-12-15\", \"2018-11-17\", \"2018-04-19\", \"2018-08-01\", \"2018-09-15\", \"2018-11-04\", \"2018-08-05\", \"2018-06-29\", \"2018-03-29\", \"2018-02-21\", \"2018-07-03\", \"2018-07-06\", \"2018-04-28\", \"2018-11-08\", \"2018-08-24\", \"2018-05-23\", \"2018-06-28\", \"2018-05-19\", \"2018-06-07\", \"2018-01-04\", \"2018-06-13\", \"2018-02-27\", \"2018-12-03\", \"2018-07-09\", \"2018-04-26\", \"2018-05-03\", \"2018-08-18\", \"2018-06-23\", \"2018-09-22\", \"2018-07-13\", \"2018-01-03\", \"2018-10-08\", \"2018-10-04\", \"2018-01-07\", \"2018-02-23\", \"2018-06-06\", \"2018-07-10\", \"2018-03-11\", \"2018-09-29\", \"2018-05-07\", \"2018-06-27\", \"2018-07-14\", \"2018-03-16\", \"2018-03-03\", \"2018-11-19\", \"2018-05-06\", \"2018-11-11\", \"2018-08-29\", \"2018-10-31\", \"2018-09-09\", \"2018-04-03\", \"2018-01-25\", \"2018-05-26\", \"2018-04-10\", \"2018-03-09\", \"2018-07-23\", \"2018-07-03\", \"2018-09-12\", \"2018-01-15\", \"2018-12-11\", \"2018-10-20\", \"2018-02-15\", \"2018-01-21\", \"2018-06-30\", \"2018-08-27\", \"2018-11-05\", \"2018-07-18\", \"2018-03-26\", \"2018-01-31\", \"2018-07-02\", \"2018-11-02\", \"2018-05-13\", \"2018-09-03\", \"2018-06-03\", \"2018-11-26\", \"2018-03-03\", \"2018-04-16\", \"2018-07-10\", \"2018-02-28\", \"2018-06-12\", \"2018-05-07\", \"2018-06-14\", \"2018-06-05\", \"2018-04-04\", \"2018-08-22\", \"2018-10-03\", \"2018-10-13\", \"2018-06-19\", \"2018-05-04\", \"2018-11-04\", \"2018-01-29\", \"2018-07-29\", \"2018-05-02\", \"2018-02-24\", \"2018-08-28\", \"2018-12-13\", \"2018-07-15\", \"2018-04-01\", \"2018-09-04\", \"2018-08-01\", \"2018-01-19\", \"2018-03-11\", \"2018-04-05\", \"2018-06-20\", \"2018-11-12\", \"2018-08-31\", \"2018-05-05\", \"2018-03-01\", \"2018-04-06\", \"2018-01-13\", \"2018-10-01\", \"2018-09-08\", \"2018-07-03\", \"2018-02-13\", \"2018-04-07\", \"2018-03-10\", \"2018-02-06\", \"2018-07-18\", \"2018-05-24\", \"2018-07-05\", \"2018-10-26\", \"2018-09-21\", \"2018-03-24\", \"2018-12-09\", \"2018-07-22\", \"2018-06-15\", \"2018-04-09\", \"2018-01-24\", \"2018-11-03\", \"2018-07-08\", \"2018-03-09\", \"2018-04-15\", \"2018-05-12\", \"2018-12-17\", \"2018-04-18\", \"2018-12-25\", \"2018-05-15\", \"2018-09-09\", \"2018-06-02\", \"2018-11-24\", \"2018-04-24\", \"2018-09-02\", \"2018-12-17\", \"2018-03-18\", \"2018-06-03\", \"2018-03-04\", \"2018-11-05\", \"2018-07-20\", \"2018-08-26\", \"2018-06-28\", \"2018-05-06\", \"2018-04-30\", \"2018-07-31\", \"2018-02-17\", \"2018-11-13\", \"2018-04-20\", \"2018-03-29\", \"2018-06-24\", \"2018-02-04\", \"2018-10-15\", \"2018-05-28\", \"2018-12-21\", \"2018-07-12\", \"2018-11-26\", \"2018-11-22\", \"2018-09-29\", \"2018-03-06\", \"2018-05-12\", \"2018-06-29\", \"2018-03-17\", \"2018-08-12\", \"2018-09-18\", \"2018-09-27\", \"2018-03-14\", \"2018-09-16\", \"2018-08-11\", \"2018-12-01\", \"2018-01-20\", \"2018-10-05\", \"2018-09-10\", \"2018-01-12\", \"2018-07-28\", \"2018-09-07\", \"2018-06-17\", \"2018-09-15\", \"2018-02-02\", \"2018-12-05\", \"2018-12-12\", \"2018-07-12\", \"2018-08-08\", \"2018-08-25\", \"2018-07-17\", \"2018-02-26\", \"2018-10-28\", \"2018-09-25\", \"2018-12-28\", \"2018-12-29\", \"2018-06-02\", \"2018-04-08\", \"2018-11-16\", \"2018-03-20\", \"2018-10-23\", \"2018-09-19\", \"2018-06-11\", \"2018-08-03\", \"2018-07-12\", \"2018-06-04\", \"2018-08-05\", \"2018-04-14\", \"2018-10-10\", \"2018-03-13\", \"2018-06-26\", \"2018-07-08\", \"2018-02-19\", \"2018-05-17\", \"2018-05-21\", \"2018-08-03\", \"2018-09-29\", \"2018-06-29\", \"2018-11-22\", \"2018-02-15\", \"2018-02-21\", \"2018-10-12\", \"2018-03-26\", \"2018-11-04\", \"2018-08-26\", \"2018-06-26\", \"2018-04-28\", \"2018-07-08\", \"2018-10-09\", \"2018-05-20\", \"2018-06-07\", \"2018-11-23\", \"2018-12-15\", \"2018-06-17\", \"2018-12-02\", \"2018-04-10\", \"2018-06-23\", \"2018-10-16\", \"2018-01-04\", \"2018-03-21\", \"2018-02-03\", \"2018-11-16\", \"2018-10-23\", \"2018-12-07\", \"2018-10-19\", \"2018-08-05\", \"2018-05-13\", \"2018-04-22\", \"2018-11-18\", \"2018-10-20\", \"2018-04-11\", \"2018-05-06\", \"2018-10-07\", \"2018-07-01\", \"2018-11-13\", \"2018-12-04\", \"2018-03-04\", \"2018-04-03\", \"2018-06-04\", \"2018-01-18\", \"2018-02-16\", \"2018-09-07\", \"2018-12-29\", \"2018-05-28\", \"2018-05-11\", \"2018-05-24\", \"2018-12-22\", \"2018-03-12\", \"2018-09-18\", \"2018-09-22\", \"2018-02-01\", \"2018-07-17\", \"2018-03-16\", \"2018-03-17\", \"2018-01-21\", \"2018-09-27\", \"2018-02-11\", \"2018-07-01\", \"2018-06-25\", \"2018-08-11\", \"2018-01-30\", \"2018-11-15\", \"2018-08-28\", \"2018-11-02\", \"2018-04-16\", \"2018-11-24\", \"2018-06-16\", \"2018-09-03\", \"2018-03-29\", \"2018-02-09\", \"2018-12-03\", \"2018-08-23\", \"2018-04-25\", \"2018-10-31\", \"2018-11-11\", \"2018-05-03\", \"2018-08-20\", \"2018-01-13\", \"2018-05-13\", \"2018-08-13\", \"2018-07-24\", \"2018-03-23\", \"2018-12-13\", \"2018-09-15\", \"2018-01-15\", \"2018-11-04\", \"2018-12-09\", \"2018-12-28\", \"2018-07-19\", \"2018-06-03\", \"2018-11-19\", \"2018-11-08\", \"2018-03-03\", \"2018-01-06\", \"2018-05-22\", \"2018-09-08\", \"2018-06-13\", \"2018-05-05\", \"2018-07-10\", \"2018-06-06\", \"2018-07-30\", \"2018-09-26\", \"2018-02-27\", \"2018-10-26\", \"2018-02-25\", \"2018-01-02\", \"2018-09-23\", \"2018-10-07\", \"2018-12-17\", \"2018-01-06\", \"2018-02-23\", \"2018-09-17\", \"2018-10-13\", \"2018-03-08\", \"2018-07-22\", \"2018-03-16\", \"2018-03-25\", \"2018-03-31\", \"2018-07-15\", \"2018-11-03\", \"2018-06-04\", \"2018-03-18\", \"2018-12-01\", \"2018-12-17\", \"2018-09-30\", \"2018-06-23\", \"2018-06-24\", \"2018-08-25\", \"2018-11-12\", \"2018-12-17\", \"2018-09-02\", \"2018-08-09\", \"2018-02-03\", \"2018-05-04\", \"2018-04-18\", \"2018-05-03\", \"2018-03-23\", \"2018-08-25\", \"2018-06-14\", \"2018-10-30\", \"2018-04-27\", \"2018-02-11\", \"2018-06-03\", \"2018-08-22\", \"2018-09-30\", \"2018-07-13\", \"2018-10-04\", \"2018-05-09\", \"2018-06-15\", \"2018-09-16\", \"2018-07-04\", \"2018-02-06\", \"2018-08-18\", \"2018-06-07\", \"2018-09-13\", \"2018-12-13\", \"2018-09-26\", \"2018-04-16\", \"2018-06-02\", \"2018-11-07\", \"2018-05-20\", \"2018-03-02\", \"2018-02-28\", \"2018-09-21\", \"2018-10-26\", \"2018-06-12\", \"2018-12-12\", \"2018-08-08\", \"2018-01-13\", \"2018-02-27\", \"2018-04-03\", \"2018-01-20\", \"2018-10-14\", \"2018-11-03\", \"2018-01-29\", \"2018-03-06\", \"2018-07-28\", \"2018-11-26\", \"2018-05-02\", \"2018-02-24\", \"2018-04-07\", \"2018-02-02\", \"2018-06-11\", \"2018-01-26\", \"2018-02-08\", \"2018-04-06\", \"2018-07-12\", \"2018-03-14\", \"2018-02-13\", \"2018-07-06\", \"2018-12-24\", \"2018-06-20\", \"2018-09-05\", \"2018-02-19\", \"2018-10-09\", \"2018-11-05\", \"2018-09-14\", \"2018-05-17\", \"2018-10-17\", \"2018-05-10\", \"2018-03-20\", \"2018-11-15\", \"2018-06-22\", \"2018-06-15\", \"2018-10-21\", \"2018-10-20\", \"2018-01-20\", \"2018-08-05\", \"2018-05-14\", \"2018-07-27\", \"2018-04-14\", \"2018-10-05\", \"2018-01-12\", \"2018-04-06\", \"2018-07-03\", \"2018-06-28\", \"2018-10-06\", \"2018-04-30\", \"2018-03-05\", \"2018-05-07\", \"2018-07-16\", \"2018-12-07\", \"2018-06-18\", \"2018-04-20\", \"2018-09-10\", \"2018-04-02\", \"2018-11-22\", \"2018-05-31\", \"2018-06-23\", \"2018-12-28\", \"2018-04-07\", \"2018-03-10\", \"2018-05-23\", \"2018-06-29\", \"2018-04-08\", \"2018-05-12\", \"2018-12-04\", \"2018-09-08\", \"2018-11-01\", \"2018-01-25\", \"2018-11-16\", \"2018-07-17\", \"2018-04-02\", \"2018-03-09\", \"2018-03-12\", \"2018-05-25\", \"2018-12-13\", \"2018-02-01\", \"2018-12-13\", \"2018-03-20\", \"2018-01-05\", \"2018-10-24\", \"2018-07-22\", \"2018-09-11\", \"2018-01-15\", \"2018-08-05\", \"2018-05-13\", \"2018-06-29\", \"2018-12-08\", \"2018-12-29\", \"2018-12-28\", \"2018-03-29\", \"2018-04-14\", \"2018-06-27\", \"2018-11-09\", \"2018-07-03\", \"2018-08-27\", \"2018-09-01\", \"2018-11-02\", \"2018-11-25\", \"2018-06-02\", \"2018-03-03\", \"2018-06-06\", \"2018-06-11\", \"2018-05-22\", \"2018-12-03\", \"2018-06-18\", \"2018-11-09\", \"2018-12-02\", \"2018-01-17\", \"2018-02-09\", \"2018-01-03\", \"2018-09-10\", \"2018-11-22\", \"2018-09-23\", \"2018-07-12\", \"2018-01-10\", \"2018-01-04\", \"2018-01-27\", \"2018-02-03\", \"2018-02-28\", \"2018-02-22\", \"2018-07-21\", \"2018-09-18\", \"2018-05-01\", \"2018-03-10\", \"2018-06-22\", \"2018-12-21\", \"2018-08-31\", \"2018-09-29\", \"2018-07-11\", \"2018-10-08\", \"2018-03-02\", \"2018-05-06\", \"2018-08-08\", \"2018-09-08\", \"2018-12-15\", \"2018-04-01\", \"2018-08-04\", \"2018-10-26\", \"2018-02-25\", \"2018-05-27\", \"2018-04-10\", \"2018-12-30\", \"2018-03-19\", \"2018-07-04\", \"2018-09-21\", \"2018-10-19\", \"2018-08-03\", \"2018-06-29\", \"2018-12-10\", \"2018-09-14\", \"2018-01-21\", \"2018-06-25\", \"2018-11-04\", \"2018-02-20\", \"2018-07-03\", \"2018-12-26\", \"2018-01-30\", \"2018-07-19\", \"2018-02-05\", \"2018-03-18\", \"2018-04-11\", \"2018-09-02\", \"2018-06-02\", \"2018-05-18\", \"2018-01-05\", \"2018-04-17\", \"2018-07-30\", \"2018-02-15\", \"2018-07-09\", \"2018-04-24\", \"2018-05-05\", \"2018-12-03\", \"2018-06-12\", \"2018-05-03\", \"2018-05-09\", \"2018-10-07\", \"2018-01-04\", \"2018-09-22\", \"2018-12-19\", \"2018-06-20\", \"2018-05-13\", \"2018-10-18\", \"2018-10-17\", \"2018-08-13\", \"2018-03-09\", \"2018-10-13\", \"2018-11-12\", \"2018-05-11\", \"2018-03-11\", \"2018-04-10\", \"2018-02-06\", \"2018-03-31\", \"2018-09-28\", \"2018-07-14\", \"2018-03-17\", \"2018-08-12\", \"2018-11-14\", \"2018-11-19\", \"2018-07-27\", \"2018-06-16\", \"2018-11-13\", \"2018-10-26\", \"2018-09-26\", \"2018-09-22\", \"2018-12-11\", \"2018-08-08\", \"2018-02-27\", \"2018-12-27\", \"2018-05-31\", \"2018-04-11\", \"2018-04-08\", \"2018-09-21\", \"2018-12-04\", \"2018-10-15\", \"2018-08-04\", \"2018-03-19\", \"2018-11-03\", \"2018-02-13\", \"2018-05-27\", \"2018-03-12\", \"2018-07-07\", \"2018-12-24\", \"2018-10-10\", \"2018-11-05\", \"2018-02-18\", \"2018-05-20\", \"2018-02-01\", \"2018-05-16\", \"2018-03-31\", \"2018-05-04\", \"2018-02-17\", \"2018-08-20\", \"2018-04-27\", \"2018-10-17\", \"2018-07-29\", \"2018-04-20\", \"2018-05-08\", \"2018-01-20\", \"2018-10-14\", \"2018-05-12\", \"2018-10-04\", \"2018-10-08\", \"2018-03-06\", \"2018-09-16\", \"2018-06-23\", \"2018-11-26\", \"2018-05-12\", \"2018-06-28\", \"2018-08-14\", \"2018-06-07\", \"2018-03-25\", \"2018-10-07\", \"2018-03-16\", \"2018-02-05\", \"2018-06-20\", \"2018-09-30\", \"2018-07-28\", \"2018-01-11\", \"2018-06-24\", \"2018-07-22\", \"2018-08-11\", \"2018-09-15\", \"2018-04-01\", \"2018-11-18\", \"2018-11-12\", \"2018-02-03\", \"2018-07-16\", \"2018-08-24\", \"2018-03-04\", \"2018-12-06\", \"2018-04-07\", \"2018-10-02\", \"2018-05-23\", \"2018-10-29\", \"2018-03-10\", \"2018-10-31\", \"2018-04-08\", \"2018-07-27\", \"2018-11-02\", \"2018-10-21\", \"2018-06-10\", \"2018-02-15\", \"2018-12-17\", \"2018-06-04\", \"2018-07-11\", \"2018-03-14\", \"2018-05-14\", \"2018-08-26\", \"2018-10-12\", \"2018-11-04\", \"2018-11-07\", \"2018-04-13\", \"2018-12-17\", \"2018-03-29\", \"2018-07-08\", \"2018-06-28\", \"2018-11-23\", \"2018-04-28\", \"2018-05-07\", \"2018-06-05\", \"2018-03-23\", \"2018-06-18\", \"2018-04-03\", \"2018-04-22\", \"2018-03-01\", \"2018-10-15\", \"2018-02-10\", \"2018-11-22\", \"2018-06-15\", \"2018-02-23\", \"2018-08-31\", \"2018-01-26\", \"2018-11-30\", \"2018-04-06\", \"2018-01-20\", \"2018-12-12\", \"2018-11-17\", \"2018-03-01\", \"2018-09-11\", \"2018-11-11\", \"2018-09-04\", \"2018-08-18\", \"2018-01-12\", \"2018-10-06\", \"2018-02-02\", \"2018-09-12\", \"2018-11-04\", \"2018-03-06\", \"2018-07-06\", \"2018-07-02\", \"2018-11-10\", \"2018-05-06\", \"2018-03-02\", \"2018-09-07\", \"2018-06-02\", \"2018-08-23\", \"2018-01-05\", \"2018-11-14\", \"2018-01-25\", \"2018-10-26\", \"2018-06-11\", \"2018-05-05\", \"2018-02-27\", \"2018-02-15\", \"2018-07-09\", \"2018-07-31\", \"2018-03-09\", \"2018-02-24\", \"2018-04-03\", \"2018-09-23\", \"2018-12-20\", \"2018-12-29\", \"2018-09-10\", \"2018-06-03\", \"2018-01-28\", \"2018-03-06\", \"2018-07-19\", \"2018-01-07\", \"2018-05-02\", \"2018-09-17\", \"2018-04-19\", \"2018-02-22\", \"2018-07-11\", \"2018-06-15\", \"2018-03-14\", \"2018-03-11\", \"2018-07-14\", \"2018-05-04\", \"2018-01-21\", \"2018-08-01\", \"2018-09-28\", \"2018-06-30\", \"2018-08-12\", \"2018-03-29\", \"2018-06-26\", \"2018-11-02\", \"2018-09-01\", \"2018-08-29\", \"2018-02-02\", \"2018-11-01\", \"2018-10-05\", \"2018-05-03\", \"2018-07-16\", \"2018-11-16\", \"2018-06-18\", \"2018-08-18\", \"2018-09-04\", \"2018-02-08\", \"2018-07-13\", \"2018-01-04\", \"2018-02-03\", \"2018-05-13\", \"2018-12-14\", \"2018-03-20\", \"2018-08-13\", \"2018-07-22\", \"2018-06-22\", \"2018-12-11\", \"2018-01-13\", \"2018-10-18\", \"2018-08-05\", \"2018-09-14\", \"2018-07-03\", \"2018-07-19\", \"2018-11-20\", \"2018-05-14\", \"2018-07-28\", \"2018-07-26\", \"2018-03-03\", \"2018-01-16\", \"2018-06-12\", \"2018-08-07\", \"2018-10-17\", \"2018-04-02\", \"2018-11-21\", \"2018-09-22\", \"2018-05-26\", \"2018-12-23\", \"2018-08-04\", \"2018-10-07\", \"2018-12-31\", \"2018-09-19\", \"2018-11-06\", \"2018-06-06\", \"2018-10-14\", \"2018-05-11\", \"2018-03-07\", \"2018-08-23\", \"2018-02-06\", \"2018-09-29\", \"2018-06-29\", \"2018-02-14\", \"2018-07-13\", \"2018-03-16\", \"2018-11-05\", \"2018-03-25\", \"2018-02-05\", \"2018-01-29\", \"2018-02-20\", \"2018-06-27\", \"2018-08-27\", \"2018-09-03\", \"2018-03-17\", \"2018-12-03\", \"2018-11-26\", \"2018-04-16\", \"2018-05-19\", \"2018-04-26\", \"2018-12-16\", \"2018-05-09\", \"2018-01-04\", \"2018-06-21\", \"2018-10-04\", \"2018-04-10\", \"2018-03-20\", \"2018-10-24\", \"2018-07-04\", \"2018-01-15\", \"2018-12-09\", \"2018-10-07\", \"2018-09-17\", \"2018-10-20\", \"2018-11-20\", \"2018-09-09\", \"2018-01-12\", \"2018-05-16\", \"2018-04-24\", \"2018-09-15\", \"2018-07-28\", \"2018-08-05\", \"2018-07-20\", \"2018-04-14\", \"2018-04-06\", \"2018-03-04\", \"2018-11-18\", \"2018-09-15\", \"2018-06-28\", \"2018-08-08\", \"2018-12-17\", \"2018-06-05\", \"2018-09-25\", \"2018-09-08\", \"2018-09-24\", \"2018-05-23\", \"2018-07-18\", \"2018-04-07\", \"2018-06-23\", \"2018-10-08\", \"2018-11-22\", \"2018-06-28\", \"2018-04-09\", \"2018-05-12\", \"2018-12-04\", \"2018-01-26\", \"2018-02-06\", \"2018-03-19\", \"2018-06-19\", \"2018-09-03\", \"2018-04-05\", \"2018-08-26\", \"2018-12-25\", \"2018-11-11\", \"2018-10-12\", \"2018-03-12\", \"2018-03-14\", \"2018-02-19\", \"2018-07-08\", \"2018-05-04\", \"2018-05-17\", \"2018-11-06\", \"2018-01-31\", \"2018-11-23\", \"2018-12-03\", \"2018-10-03\", \"2018-05-09\", \"2018-02-12\", \"2018-10-18\", \"2018-03-24\", \"2018-10-22\", \"2018-09-27\", \"2018-01-19\", \"2018-03-01\", \"2018-09-10\", \"2018-04-15\", \"2018-11-08\", \"2018-01-12\", \"2018-02-09\", \"2018-12-12\", \"2018-10-06\", \"2018-11-13\", \"2018-06-02\", \"2018-05-22\", \"2018-12-12\", \"2018-04-28\", \"2018-03-01\", \"2018-09-21\", \"2018-02-26\", \"2018-12-06\", \"2018-02-17\", \"2018-07-14\", \"2018-08-06\", \"2018-10-29\", \"2018-04-20\", \"2018-03-30\", \"2018-11-03\", \"2018-07-29\", \"2018-04-03\", \"2018-05-30\", \"2018-03-10\", \"2018-02-23\", \"2018-04-08\", \"2018-07-21\", \"2018-06-09\", \"2018-04-01\", \"2018-09-20\", \"2018-07-16\", \"2018-09-04\", \"2018-11-28\", \"2018-12-16\", \"2018-06-04\", \"2018-03-10\", \"2018-07-11\", \"2018-08-04\", \"2018-07-07\", \"2018-06-25\", \"2018-10-11\", \"2018-08-11\", \"2018-06-17\", \"2018-09-07\", \"2018-11-02\", \"2018-08-31\", \"2018-02-01\", \"2018-06-15\", \"2018-08-25\", \"2018-08-21\", \"2018-03-23\", \"2018-11-10\", \"2018-05-04\", \"2018-10-17\", \"2018-03-05\", \"2018-10-02\", \"2018-02-10\", \"2018-05-12\", \"2018-11-10\", \"2018-02-04\", \"2018-10-31\", \"2018-06-16\", \"2018-03-17\", \"2018-08-14\"], \"xaxis\": \"x\", \"y\": [\"18-0095\", \"18-0285\", \"18-0468\", \"18-0355\", \"18-0122\", \"18-0001\", \"18-1002\", \"18-0747\", \"18-0478\", \"18-0008\", \"18-0358\", \"18-0371\", \"18-0736\", \"18-0820\", \"18-0170\", \"18-0075\", \"18-0810\", \"18-0641\", \"18-0089\", \"18-0197\", \"18-0764\", \"18-0592\", \"18-0942\", \"18-0640\", \"18-0788\", \"18-0906\", \"18-0815\", \"18-0072\", \"18-0844\", \"18-0626\", \"18-0284\", \"18-0132\", \"18-0407\", \"18-0247\", \"18-0219\", \"18-0422\", \"18-0983\", \"18-0914\", \"18-0300\", \"18-0608\", \"18-0720\", \"18-0873\", \"18-0623\", \"18-0511\", \"18-0234\", \"18-0120\", \"18-0522\", \"18-0531\", \"18-0317\", \"18-0886\", \"18-0659\", \"18-0394\", \"18-0500\", \"18-0386\", \"18-0439\", \"18-0011\", \"18-0450\", \"18-0140\", \"18-0951\", \"18-0541\", \"18-0312\", \"18-0327\", \"18-0651\", \"18-0482\", \"18-0751\", \"18-0557\", \"18-0004\", \"18-0795\", \"18-0781\", \"18-0017\", \"18-0126\", \"18-0435\", \"18-0546\", \"18-0186\", \"18-0768\", \"18-0349\", \"18-0498\", \"18-0560\", \"18-0201\", \"18-0153\", \"18-0919\", \"18-0344\", \"18-0894\", \"18-0675\", \"18-0854\", \"18-0704\", \"18-0251\", \"18-0049\", \"18-0402\", \"18-0279\", \"18-0174\", \"18-0589\", \"18-0526\", \"18-0715\", \"18-0032\", \"18-0970\", \"18-0829\", \"18-0105\", \"18-0044\", \"18-0515\", \"18-0673\", \"18-0876\", \"18-0575\", \"18-0230\", \"18-0062\", \"18-0518\", \"18-0861\", \"18-0374\", \"18-0687\", \"18-0418\", \"18-0938\", \"18-0155\", \"18-0295\", \"18-0545\", \"18-0144\", \"18-0446\", \"18-0348\", \"18-0453\", \"18-0431\", \"18-0256\", \"18-0655\", \"18-0777\", \"18-0807\", \"18-0471\", \"18-0331\", \"18-0869\", \"18-0057\", \"18-0603\", \"18-0324\", \"18-0130\", \"18-0674\", \"18-0978\", \"18-0564\", \"18-0242\", \"18-0690\", \"18-0610\", \"18-0038\", \"18-0183\", \"18-0257\", \"18-0475\", \"18-0898\", \"18-0678\", \"18-0337\", \"18-0149\", \"18-0261\", \"18-0026\", \"18-0773\", \"18-0701\", \"18-0525\", \"18-0101\", \"18-0265\", \"18-0178\", \"18-0085\", \"18-0574\", \"18-0398\", \"18-0530\", \"18-0841\", \"18-0742\", \"18-0225\", \"18-0966\", \"18-0584\", \"18-0459\", \"18-0275\", \"18-0048\", \"18-0865\", \"18-0540\", \"18-0173\", \"18-0292\", \"18-0367\", \"18-0990\", \"18-0299\", \"18-1005\", \"18-0378\", \"18-0705\", \"18-0414\", \"18-0934\", \"18-0309\", \"18-0683\", \"18-0991\", \"18-0210\", \"18-0421\", \"18-0159\", \"18-0880\", \"18-0579\", \"18-0669\", \"18-0503\", \"18-0341\", \"18-0320\", \"18-0607\", \"18-0111\", \"18-0902\", \"18-0305\", \"18-0237\", \"18-0490\", \"18-0079\", \"18-0814\", \"18-0405\", \"18-0998\", \"18-0554\", \"18-0941\", \"18-0927\", \"18-0769\", \"18-0166\", \"18-0362\", \"18-0508\", \"18-0205\", \"18-0645\", \"18-0732\", \"18-0759\", \"18-0194\", \"18-0728\", \"18-0636\", \"18-0946\", \"18-0041\", \"18-0782\", \"18-0710\", \"18-0022\", \"18-0597\", \"18-0696\", \"18-0464\", \"18-0723\", \"18-0068\", \"18-0959\", \"18-0973\", \"18-0555\", \"18-0630\", \"18-0663\", \"18-0570\", \"18-0136\", \"18-0848\", \"18-0754\", \"18-1010\", \"18-1015\", \"18-0411\", \"18-0271\", \"18-0910\", \"18-0215\", \"18-0837\", \"18-0737\", \"18-0443\", \"18-0613\", \"18-0551\", \"18-0426\", \"18-0619\", \"18-0288\", \"18-0803\", \"18-0191\", \"18-0495\", \"18-0536\", \"18-0116\", \"18-0382\", \"18-0390\", \"18-0612\", \"18-0765\", \"18-0512\", \"18-0926\", \"18-0106\", \"18-0121\", \"18-0804\", \"18-0231\", \"18-0875\", \"18-0666\", \"18-0496\", \"18-0316\", \"18-0537\", \"18-0799\", \"18-0387\", \"18-0438\", \"18-0931\", \"18-0984\", \"18-0465\", \"18-0948\", \"18-0278\", \"18-0483\", \"18-0821\", \"18-0007\", \"18-0220\", \"18-0078\", \"18-0913\", \"18-0838\", \"18-0963\", \"18-0828\", \"18-0624\", \"18-0373\", \"18-0306\", \"18-0916\", \"18-0833\", \"18-0283\", \"18-0343\", \"18-0789\", \"18-0517\", \"18-0903\", \"18-0958\", \"18-0158\", \"18-0252\", \"18-0428\", \"18-0036\", \"18-0110\", \"18-0698\", \"18-1016\", \"18-0406\", \"18-0357\", \"18-0399\", \"18-0999\", \"18-0190\", \"18-0733\", \"18-0748\", \"18-0066\", \"18-0571\", \"18-0202\", \"18-0204\", \"18-0047\", \"18-0761\", \"18-0099\", \"18-0516\", \"18-0492\", \"18-0637\", \"18-0061\", \"18-0908\", \"18-0670\", \"18-0860\", \"18-0294\", \"18-0935\", \"18-0461\", \"18-0688\", \"18-0235\", \"18-0093\", \"18-0952\", \"18-0658\", \"18-0311\", \"18-0855\", \"18-0893\", \"18-0326\", \"18-0652\", \"18-0028\", \"18-0368\", \"18-0644\", \"18-0590\", \"18-0224\", \"18-0980\", \"18-0721\", \"18-0031\", \"18-0870\", \"18-0967\", \"18-1012\", \"18-0578\", \"18-0419\", \"18-0920\", \"18-0887\", \"18-0154\", \"18-0015\", \"18-0393\", \"18-0702\", \"18-0451\", \"18-0338\", \"18-0544\", \"18-0432\", \"18-0604\", \"18-0757\", \"18-0139\", \"18-0843\", \"18-0133\", \"18-0002\", \"18-0752\", \"18-0794\", \"18-0995\", \"18-0016\", \"18-0125\", \"18-0730\", \"18-0809\", \"18-0171\", \"18-0585\", \"18-0198\", \"18-0228\", \"18-0241\", \"18-0563\", \"18-0864\", \"18-0425\", \"18-0209\", \"18-0945\", \"18-0989\", \"18-0771\", \"18-0487\", \"18-0489\", \"18-0664\", \"18-0897\", \"18-0994\", \"18-0684\", \"18-0633\", \"18-0073\", \"18-0334\", \"18-0298\", \"18-0330\", \"18-0223\", \"18-0662\", \"18-0452\", \"18-0851\", \"18-0315\", \"18-0098\", \"18-0420\", \"18-0656\", \"18-0772\", \"18-0558\", \"18-0778\", \"18-0352\", \"18-0458\", \"18-0727\", \"18-0529\", \"18-0086\", \"18-0648\", \"18-0437\", \"18-0716\", \"18-0977\", \"18-0758\", \"18-0293\", \"18-0415\", \"18-0883\", \"18-0389\", \"18-0150\", \"18-0143\", \"18-0741\", \"18-0847\", \"18-0447\", \"18-0972\", \"18-0629\", \"18-0027\", \"18-0137\", \"18-0255\", \"18-0042\", \"18-0813\", \"18-0866\", \"18-0058\", \"18-0167\", \"18-0600\", \"18-0940\", \"18-0325\", \"18-0129\", \"18-0268\", \"18-0069\", \"18-0442\", \"18-0054\", \"18-0090\", \"18-0260\", \"18-0552\", \"18-0195\", \"18-0102\", \"18-0533\", \"18-1004\", \"18-0474\", \"18-0694\", \"18-0117\", \"18-0800\", \"18-0879\", \"18-0717\", \"18-0383\", \"18-0817\", \"18-0356\", \"18-0216\", \"18-0909\", \"18-0479\", \"18-0457\", \"18-0834\", \"18-0832\", \"18-0039\", \"18-0620\", \"18-0377\", \"18-0595\", \"18-0289\", \"18-0783\", \"18-0023\", \"18-0262\", \"18-0521\", \"18-0502\", \"18-0785\", \"18-0321\", \"18-0162\", \"18-0347\", \"18-0567\", \"18-0962\", \"18-0470\", \"18-0302\", \"18-0709\", \"18-0248\", \"18-0930\", \"18-0410\", \"18-0484\", \"18-1009\", \"18-0266\", \"18-0177\", \"18-0395\", \"18-0507\", \"18-0272\", \"18-0361\", \"18-0957\", \"18-0699\", \"18-0856\", \"18-0051\", \"18-0912\", \"18-0572\", \"18-0249\", \"18-0176\", \"18-0189\", \"18-0400\", \"18-0979\", \"18-0065\", \"18-0981\", \"18-0217\", \"18-0012\", \"18-0839\", \"18-0586\", \"18-0713\", \"18-0030\", \"18-0621\", \"18-0372\", \"18-0513\", \"18-0964\", \"18-1013\", \"18-1011\", \"18-0236\", \"18-0290\", \"18-0497\", \"18-0888\", \"18-0520\", \"18-0671\", \"18-0681\", \"18-0859\", \"18-0936\", \"18-0412\", \"18-0157\", \"18-0433\", \"18-0444\", \"18-0392\", \"18-0953\", \"18-0466\", \"18-0892\", \"18-0947\", \"18-0035\", \"18-0092\", \"18-0003\", \"18-0708\", \"18-0925\", \"18-0749\", \"18-0553\", \"18-0019\", \"18-0006\", \"18-0055\", \"18-0077\", \"18-0142\", \"18-0124\", \"18-0582\", \"18-0734\", \"18-0322\", \"18-0181\", \"18-0480\", \"18-1000\", \"18-0677\", \"18-0766\", \"18-0548\", \"18-0798\", \"18-0151\", \"18-0342\", \"18-0628\", \"18-0703\", \"18-0985\", \"18-0245\", \"18-0616\", \"18-0842\", \"18-0134\", \"18-0404\", \"18-0277\", \"18-1017\", \"18-0213\", \"18-0528\", \"18-0740\", \"18-0827\", \"18-0611\", \"18-0509\", \"18-0968\", \"18-0718\", \"18-0046\", \"18-0493\", \"18-0871\", \"18-0118\", \"18-0524\", \"18-1007\", \"18-0060\", \"18-0577\", \"18-0082\", \"18-0208\", \"18-0282\", \"18-0685\", \"18-0416\", \"18-0384\", \"18-0014\", \"18-0297\", \"18-0605\", \"18-0109\", \"18-0543\", \"18-0310\", \"18-0339\", \"18-0949\", \"18-0448\", \"18-0329\", \"18-0353\", \"18-0793\", \"18-0010\", \"18-0745\", \"18-0996\", \"18-0476\", \"18-0369\", \"18-0824\", \"18-0823\", \"18-0643\", \"18-0172\", \"18-0808\", \"18-0899\", \"18-0360\", \"18-0184\", \"18-0276\", \"18-0087\", \"18-0240\", \"18-0762\", \"18-0562\", \"18-0203\", \"18-0638\", \"18-0907\", \"18-0921\", \"18-0594\", \"18-0462\", \"18-0904\", \"18-0846\", \"18-0756\", \"18-0744\", \"18-0971\", \"18-0632\", \"18-0138\", \"18-1008\", \"18-0409\", \"18-0281\", \"18-0269\", \"18-0739\", \"18-0956\", \"18-0831\", \"18-0615\", \"18-0212\", \"18-0867\", \"18-0103\", \"18-0403\", \"18-0188\", \"18-0534\", \"18-1003\", \"18-0801\", \"18-0878\", \"18-0114\", \"18-0388\", \"18-0064\", \"18-0380\", \"18-0239\", \"18-0335\", \"18-0113\", \"18-0653\", \"18-0314\", \"18-0818\", \"18-0601\", \"18-0303\", \"18-0350\", \"18-0043\", \"18-0812\", \"18-0365\", \"18-0779\", \"18-0797\", \"18-0168\", \"18-0726\", \"18-0486\", \"18-0939\", \"18-0364\", \"18-0506\", \"18-0647\", \"18-0436\", \"18-0227\", \"18-0790\", \"18-0199\", \"18-0083\", \"18-0473\", \"18-0770\", \"18-0599\", \"18-0020\", \"18-0488\", \"18-0587\", \"18-0634\", \"18-0725\", \"18-0244\", \"18-0917\", \"18-0900\", \"18-0074\", \"18-0568\", \"18-0661\", \"18-0161\", \"18-0961\", \"18-0267\", \"18-0775\", \"18-0396\", \"18-0850\", \"18-0180\", \"18-0852\", \"18-0273\", \"18-0596\", \"18-0863\", \"18-0835\", \"18-0441\", \"18-0107\", \"18-0988\", \"18-0424\", \"18-0549\", \"18-0193\", \"18-0376\", \"18-0667\", \"18-0805\", \"18-0874\", \"18-0884\", \"18-0286\", \"18-0993\", \"18-0232\", \"18-0538\", \"18-0501\", \"18-0932\", \"18-0318\", \"18-0346\", \"18-0429\", \"18-0222\", \"18-0469\", \"18-0254\", \"18-0307\", \"18-0146\", \"18-0816\", \"18-0097\", \"18-0929\", \"18-0456\", \"18-0128\", \"18-0680\", \"18-0052\", \"18-0944\", \"18-0259\", \"18-0040\", \"18-0976\", \"18-0915\", \"18-0147\", \"18-0712\", \"18-0896\", \"18-0693\", \"18-0649\", \"18-0024\", \"18-0786\", \"18-0070\", \"18-0714\", \"18-0872\", \"18-0164\", \"18-0532\", \"18-0519\", \"18-0889\", \"18-0345\", \"18-0152\", \"18-0695\", \"18-0417\", \"18-0660\", \"18-0013\", \"18-0905\", \"18-0050\", \"18-0845\", \"18-0445\", \"18-0340\", \"18-0141\", \"18-0108\", \"18-0542\", \"18-0606\", \"18-0175\", \"18-0131\", \"18-0250\", \"18-0750\", \"18-0997\", \"18-1014\", \"18-0707\", \"18-0423\", \"18-0056\", \"18-0165\", \"18-0581\", \"18-0018\", \"18-0323\", \"18-0731\", \"18-0301\", \"18-0123\", \"18-0547\", \"18-0455\", \"18-0196\", \"18-0185\", \"18-0561\", \"18-0333\", \"18-0045\", \"18-0609\", \"18-0763\", \"18-0514\", \"18-0639\", \"18-0233\", \"18-0494\", \"18-0858\", \"18-0682\", \"18-0676\", \"18-0071\", \"18-0857\", \"18-0784\", \"18-0328\", \"18-0566\", \"18-0911\", \"18-0467\", \"18-0650\", \"18-0692\", \"18-0091\", \"18-0556\", \"18-0009\", \"18-0076\", \"18-0370\", \"18-0982\", \"18-0218\", \"18-0642\", \"18-0588\", \"18-0481\", \"18-0969\", \"18-0029\", \"18-0826\", \"18-0622\", \"18-0719\", \"18-0523\", \"18-0576\", \"18-0922\", \"18-0375\", \"18-0591\", \"18-0593\", \"18-0156\", \"18-0034\", \"18-0449\", \"18-0627\", \"18-0822\", \"18-0246\", \"18-0924\", \"18-0746\", \"18-0401\", \"18-1001\", \"18-0617\", \"18-0792\", \"18-1018\", \"18-0735\", \"18-0882\", \"18-0434\", \"18-0811\", \"18-0359\", \"18-0169\", \"18-0657\", \"18-0088\", \"18-0767\", \"18-0510\", \"18-0104\", \"18-0559\", \"18-0200\", \"18-0877\", \"18-0229\", \"18-0081\", \"18-0059\", \"18-0119\", \"18-0499\", \"18-0672\", \"18-0686\", \"18-0207\", \"18-0954\", \"18-0937\", \"18-0296\", \"18-0385\", \"18-0313\", \"18-0986\", \"18-0354\", \"18-0005\", \"18-0477\", \"18-0780\", \"18-0280\", \"18-0214\", \"18-0840\", \"18-0527\", \"18-0033\", \"18-0965\", \"18-0791\", \"18-0729\", \"18-0830\", \"18-0923\", \"18-0706\", \"18-0021\", \"18-0379\", \"18-0308\", \"18-0722\", \"18-0598\", \"18-0618\", \"18-0580\", \"18-0287\", \"18-0263\", \"18-0160\", \"18-0918\", \"18-0724\", \"18-0504\", \"18-0631\", \"18-0992\", \"18-0430\", \"18-0755\", \"18-0700\", \"18-0753\", \"18-0397\", \"18-0573\", \"18-0264\", \"18-0485\", \"18-0796\", \"18-0928\", \"18-0505\", \"18-0274\", \"18-0363\", \"18-0955\", \"18-0053\", \"18-0084\", \"18-0211\", \"18-0472\", \"18-0689\", \"18-0258\", \"18-0668\", \"18-1006\", \"18-0895\", \"18-0806\", \"18-0187\", \"18-0192\", \"18-0115\", \"18-0539\", \"18-0336\", \"18-0381\", \"18-0881\", \"18-0063\", \"18-0933\", \"18-0950\", \"18-0776\", \"18-0351\", \"18-0100\", \"18-0825\", \"18-0226\", \"18-0836\", \"18-0760\", \"18-0037\", \"18-0148\", \"18-0711\", \"18-0291\", \"18-0885\", \"18-0025\", \"18-0094\", \"18-0975\", \"18-0787\", \"18-0901\", \"18-0413\", \"18-0391\", \"18-0974\", \"18-0319\", \"18-0145\", \"18-0743\", \"18-0135\", \"18-0960\", \"18-0112\", \"18-0569\", \"18-0625\", \"18-0849\", \"18-0304\", \"18-0238\", \"18-0868\", \"18-0602\", \"18-0253\", \"18-0408\", \"18-0179\", \"18-0127\", \"18-0270\", \"18-0583\", \"18-0440\", \"18-0243\", \"18-0738\", \"18-0565\", \"18-0691\", \"18-0943\", \"18-0987\", \"18-0427\", \"18-0182\", \"18-0550\", \"18-0614\", \"18-0535\", \"18-0491\", \"18-0802\", \"18-0635\", \"18-0463\", \"18-0697\", \"18-0862\", \"18-0679\", \"18-0067\", \"18-0454\", \"18-0665\", \"18-0654\", \"18-0221\", \"18-0891\", \"18-0332\", \"18-0819\", \"18-0163\", \"18-0774\", \"18-0096\", \"18-0366\", \"18-0890\", \"18-0080\", \"18-0853\", \"18-0460\", \"18-0206\", \"18-0646\"], \"yaxis\": \"y\"}],\n",
              "                        {\"coloraxis\": {\"colorbar\": {\"title\": {\"text\": \"Opioid-Based\"}}, \"colorscale\": [[0.0, \"#0d0887\"], [0.1111111111111111, \"#46039f\"], [0.2222222222222222, \"#7201a8\"], [0.3333333333333333, \"#9c179e\"], [0.4444444444444444, \"#bd3786\"], [0.5555555555555556, \"#d8576b\"], [0.6666666666666666, \"#ed7953\"], [0.7777777777777778, \"#fb9f3a\"], [0.8888888888888888, \"#fdca26\"], [1.0, \"#f0f921\"]]}, \"height\": 600, \"legend\": {\"itemsizing\": \"constant\", \"tracegroupgap\": 0}, \"template\": {\"data\": {\"bar\": [{\"error_x\": {\"color\": \"#2a3f5f\"}, \"error_y\": {\"color\": \"#2a3f5f\"}, \"marker\": {\"line\": {\"color\": \"#E5ECF6\", \"width\": 0.5}}, \"type\": \"bar\"}], \"barpolar\": [{\"marker\": {\"line\": {\"color\": \"#E5ECF6\", \"width\": 0.5}}, \"type\": \"barpolar\"}], \"carpet\": [{\"aaxis\": {\"endlinecolor\": \"#2a3f5f\", \"gridcolor\": \"white\", \"linecolor\": \"white\", \"minorgridcolor\": \"white\", \"startlinecolor\": \"#2a3f5f\"}, \"baxis\": {\"endlinecolor\": \"#2a3f5f\", \"gridcolor\": \"white\", \"linecolor\": \"white\", \"minorgridcolor\": \"white\", \"startlinecolor\": \"#2a3f5f\"}, \"type\": \"carpet\"}], \"choropleth\": [{\"colorbar\": {\"outlinewidth\": 0, \"ticks\": \"\"}, \"type\": \"choropleth\"}], \"contour\": [{\"colorbar\": {\"outlinewidth\": 0, \"ticks\": \"\"}, \"colorscale\": [[0.0, \"#0d0887\"], [0.1111111111111111, \"#46039f\"], [0.2222222222222222, \"#7201a8\"], [0.3333333333333333, \"#9c179e\"], [0.4444444444444444, \"#bd3786\"], [0.5555555555555556, \"#d8576b\"], [0.6666666666666666, \"#ed7953\"], [0.7777777777777778, \"#fb9f3a\"], [0.8888888888888888, \"#fdca26\"], [1.0, \"#f0f921\"]], \"type\": \"contour\"}], \"contourcarpet\": [{\"colorbar\": {\"outlinewidth\": 0, \"ticks\": \"\"}, \"type\": \"contourcarpet\"}], \"heatmap\": [{\"colorbar\": {\"outlinewidth\": 0, \"ticks\": \"\"}, \"colorscale\": [[0.0, \"#0d0887\"], [0.1111111111111111, \"#46039f\"], [0.2222222222222222, \"#7201a8\"], [0.3333333333333333, \"#9c179e\"], [0.4444444444444444, \"#bd3786\"], [0.5555555555555556, \"#d8576b\"], [0.6666666666666666, \"#ed7953\"], [0.7777777777777778, \"#fb9f3a\"], [0.8888888888888888, \"#fdca26\"], [1.0, \"#f0f921\"]], \"type\": \"heatmap\"}], \"heatmapgl\": [{\"colorbar\": {\"outlinewidth\": 0, \"ticks\": \"\"}, \"colorscale\": [[0.0, \"#0d0887\"], [0.1111111111111111, \"#46039f\"], [0.2222222222222222, \"#7201a8\"], [0.3333333333333333, \"#9c179e\"], [0.4444444444444444, \"#bd3786\"], [0.5555555555555556, \"#d8576b\"], [0.6666666666666666, \"#ed7953\"], [0.7777777777777778, \"#fb9f3a\"], [0.8888888888888888, \"#fdca26\"], [1.0, \"#f0f921\"]], \"type\": \"heatmapgl\"}], \"histogram\": [{\"marker\": {\"colorbar\": {\"outlinewidth\": 0, \"ticks\": \"\"}}, \"type\": \"histogram\"}], \"histogram2d\": [{\"colorbar\": {\"outlinewidth\": 0, \"ticks\": \"\"}, \"colorscale\": [[0.0, \"#0d0887\"], [0.1111111111111111, \"#46039f\"], [0.2222222222222222, \"#7201a8\"], [0.3333333333333333, \"#9c179e\"], [0.4444444444444444, \"#bd3786\"], [0.5555555555555556, \"#d8576b\"], [0.6666666666666666, \"#ed7953\"], [0.7777777777777778, \"#fb9f3a\"], [0.8888888888888888, \"#fdca26\"], [1.0, \"#f0f921\"]], \"type\": \"histogram2d\"}], \"histogram2dcontour\": [{\"colorbar\": {\"outlinewidth\": 0, \"ticks\": \"\"}, \"colorscale\": [[0.0, \"#0d0887\"], [0.1111111111111111, \"#46039f\"], [0.2222222222222222, \"#7201a8\"], [0.3333333333333333, \"#9c179e\"], [0.4444444444444444, \"#bd3786\"], [0.5555555555555556, \"#d8576b\"], [0.6666666666666666, \"#ed7953\"], [0.7777777777777778, \"#fb9f3a\"], [0.8888888888888888, \"#fdca26\"], [1.0, \"#f0f921\"]], \"type\": \"histogram2dcontour\"}], \"mesh3d\": [{\"colorbar\": {\"outlinewidth\": 0, \"ticks\": \"\"}, \"type\": \"mesh3d\"}], \"parcoords\": [{\"line\": {\"colorbar\": {\"outlinewidth\": 0, \"ticks\": \"\"}}, \"type\": \"parcoords\"}], \"scatter\": [{\"marker\": {\"colorbar\": {\"outlinewidth\": 0, \"ticks\": \"\"}}, \"type\": \"scatter\"}], \"scatter3d\": [{\"line\": {\"colorbar\": {\"outlinewidth\": 0, \"ticks\": \"\"}}, \"marker\": {\"colorbar\": {\"outlinewidth\": 0, \"ticks\": \"\"}}, \"type\": \"scatter3d\"}], \"scattercarpet\": [{\"marker\": {\"colorbar\": {\"outlinewidth\": 0, \"ticks\": \"\"}}, \"type\": \"scattercarpet\"}], \"scattergeo\": [{\"marker\": {\"colorbar\": {\"outlinewidth\": 0, \"ticks\": \"\"}}, \"type\": \"scattergeo\"}], \"scattergl\": [{\"marker\": {\"colorbar\": {\"outlinewidth\": 0, \"ticks\": \"\"}}, \"type\": \"scattergl\"}], \"scattermapbox\": [{\"marker\": {\"colorbar\": {\"outlinewidth\": 0, \"ticks\": \"\"}}, \"type\": \"scattermapbox\"}], \"scatterpolar\": [{\"marker\": {\"colorbar\": {\"outlinewidth\": 0, \"ticks\": \"\"}}, \"type\": \"scatterpolar\"}], \"scatterpolargl\": [{\"marker\": {\"colorbar\": {\"outlinewidth\": 0, \"ticks\": \"\"}}, \"type\": \"scatterpolargl\"}], \"scatterternary\": [{\"marker\": {\"colorbar\": {\"outlinewidth\": 0, \"ticks\": \"\"}}, \"type\": \"scatterternary\"}], \"surface\": [{\"colorbar\": {\"outlinewidth\": 0, \"ticks\": \"\"}, \"colorscale\": [[0.0, \"#0d0887\"], [0.1111111111111111, \"#46039f\"], [0.2222222222222222, \"#7201a8\"], [0.3333333333333333, \"#9c179e\"], [0.4444444444444444, \"#bd3786\"], [0.5555555555555556, \"#d8576b\"], [0.6666666666666666, \"#ed7953\"], [0.7777777777777778, \"#fb9f3a\"], [0.8888888888888888, \"#fdca26\"], [1.0, \"#f0f921\"]], \"type\": \"surface\"}], \"table\": [{\"cells\": {\"fill\": {\"color\": \"#EBF0F8\"}, \"line\": {\"color\": \"white\"}}, \"header\": {\"fill\": {\"color\": \"#C8D4E3\"}, \"line\": {\"color\": \"white\"}}, \"type\": \"table\"}]}, \"layout\": {\"annotationdefaults\": {\"arrowcolor\": \"#2a3f5f\", \"arrowhead\": 0, \"arrowwidth\": 1}, \"colorscale\": {\"diverging\": [[0, \"#8e0152\"], [0.1, \"#c51b7d\"], [0.2, \"#de77ae\"], [0.3, \"#f1b6da\"], [0.4, \"#fde0ef\"], [0.5, \"#f7f7f7\"], [0.6, \"#e6f5d0\"], [0.7, \"#b8e186\"], [0.8, \"#7fbc41\"], [0.9, \"#4d9221\"], [1, \"#276419\"]], \"sequential\": [[0.0, \"#0d0887\"], [0.1111111111111111, \"#46039f\"], [0.2222222222222222, \"#7201a8\"], [0.3333333333333333, \"#9c179e\"], [0.4444444444444444, \"#bd3786\"], [0.5555555555555556, \"#d8576b\"], [0.6666666666666666, \"#ed7953\"], [0.7777777777777778, \"#fb9f3a\"], [0.8888888888888888, \"#fdca26\"], [1.0, \"#f0f921\"]], \"sequentialminus\": [[0.0, \"#0d0887\"], [0.1111111111111111, \"#46039f\"], [0.2222222222222222, \"#7201a8\"], [0.3333333333333333, \"#9c179e\"], [0.4444444444444444, \"#bd3786\"], [0.5555555555555556, \"#d8576b\"], [0.6666666666666666, \"#ed7953\"], [0.7777777777777778, \"#fb9f3a\"], [0.8888888888888888, \"#fdca26\"], [1.0, \"#f0f921\"]]}, \"colorway\": [\"#636efa\", \"#EF553B\", \"#00cc96\", \"#ab63fa\", \"#FFA15A\", \"#19d3f3\", \"#FF6692\", \"#B6E880\", \"#FF97FF\", \"#FECB52\"], \"font\": {\"color\": \"#2a3f5f\"}, \"geo\": {\"bgcolor\": \"white\", \"lakecolor\": \"white\", \"landcolor\": \"#E5ECF6\", \"showlakes\": true, \"showland\": true, \"subunitcolor\": \"white\"}, \"hoverlabel\": {\"align\": \"left\"}, \"hovermode\": \"closest\", \"mapbox\": {\"style\": \"light\"}, \"paper_bgcolor\": \"white\", \"plot_bgcolor\": \"#E5ECF6\", \"polar\": {\"angularaxis\": {\"gridcolor\": \"white\", \"linecolor\": \"white\", \"ticks\": \"\"}, \"bgcolor\": \"#E5ECF6\", \"radialaxis\": {\"gridcolor\": \"white\", \"linecolor\": \"white\", \"ticks\": \"\"}}, \"scene\": {\"xaxis\": {\"backgroundcolor\": \"#E5ECF6\", \"gridcolor\": \"white\", \"gridwidth\": 2, \"linecolor\": \"white\", \"showbackground\": true, \"ticks\": \"\", \"zerolinecolor\": \"white\"}, \"yaxis\": {\"backgroundcolor\": \"#E5ECF6\", \"gridcolor\": \"white\", \"gridwidth\": 2, \"linecolor\": \"white\", \"showbackground\": true, \"ticks\": \"\", \"zerolinecolor\": \"white\"}, \"zaxis\": {\"backgroundcolor\": \"#E5ECF6\", \"gridcolor\": \"white\", \"gridwidth\": 2, \"linecolor\": \"white\", \"showbackground\": true, \"ticks\": \"\", \"zerolinecolor\": \"white\"}}, \"shapedefaults\": {\"line\": {\"color\": \"#2a3f5f\"}}, \"ternary\": {\"aaxis\": {\"gridcolor\": \"white\", \"linecolor\": \"white\", \"ticks\": \"\"}, \"baxis\": {\"gridcolor\": \"white\", \"linecolor\": \"white\", \"ticks\": \"\"}, \"bgcolor\": \"#E5ECF6\", \"caxis\": {\"gridcolor\": \"white\", \"linecolor\": \"white\", \"ticks\": \"\"}}, \"title\": {\"x\": 0.05}, \"xaxis\": {\"automargin\": true, \"gridcolor\": \"white\", \"linecolor\": \"white\", \"ticks\": \"\", \"zerolinecolor\": \"white\", \"zerolinewidth\": 2}, \"yaxis\": {\"automargin\": true, \"gridcolor\": \"white\", \"linecolor\": \"white\", \"ticks\": \"\", \"zerolinecolor\": \"white\", \"zerolinewidth\": 2}}}, \"title\": {\"text\": \"Opiate Versus non-Opiate related death prediction: 2019\"}, \"xaxis\": {\"anchor\": \"y\", \"domain\": [0.0, 0.98], \"title\": {\"text\": \"Date\"}}, \"yaxis\": {\"anchor\": \"x\", \"domain\": [0.0, 1.0], \"title\": {\"text\": \"ID\"}}},\n",
              "                        {\"responsive\": true}\n",
              "                    ).then(function(){\n",
              "                            \n",
              "var gd = document.getElementById('17b1ac11-c49a-421c-8fd0-fbdf08fca043');\n",
              "var x = new MutationObserver(function (mutations, observer) {{\n",
              "        var display = window.getComputedStyle(gd).display;\n",
              "        if (!display || display === 'none') {{\n",
              "            console.log([gd, 'removed!']);\n",
              "            Plotly.purge(gd);\n",
              "            observer.disconnect();\n",
              "        }}\n",
              "}});\n",
              "\n",
              "// Listen for the removal of the full notebook cells\n",
              "var notebookContainer = gd.closest('#notebook-container');\n",
              "if (notebookContainer) {{\n",
              "    x.observe(notebookContainer, {childList: true});\n",
              "}}\n",
              "\n",
              "// Listen for the clearing of the current output cell\n",
              "var outputEl = gd.closest('.output');\n",
              "if (outputEl) {{\n",
              "    x.observe(outputEl, {childList: true});\n",
              "}}\n",
              "\n",
              "                        })\n",
              "                };\n",
              "                \n",
              "            </script>\n",
              "        </div>\n",
              "</body>\n",
              "</html>"
            ]
          },
          "metadata": {
            "tags": []
          }
        }
      ]
    }
  ]
}
