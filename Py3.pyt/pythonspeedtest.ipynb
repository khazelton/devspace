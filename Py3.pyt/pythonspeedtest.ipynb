{
 "cells": [
  {
   "cell_type": "code",
   "execution_count": 48,
   "metadata": {},
   "outputs": [],
   "source": [
    "def dot(x,y):\n",
    "    lst = []\n",
    "    for i,w in zip(x,y):\n",
    "        lst.append(i * w)\n",
    "    return(lst)\n",
    "def sq(x):\n",
    "    x = [c ** 2 for c in x]\n",
    "    return(x)\n",
    "class LinearRegression:\n",
    "    def __init__(self,x,y):\n",
    "        # a = ((∑y)(∑x^2)-(∑x)(∑xy)) / (n(∑x^2) - (∑x)^2)\n",
    "        # b = (x(∑xy) - (∑x)(∑y)) / n(∑x^2) - (∑x)^2\n",
    "        if len(x) != len(y):\n",
    "            pass\n",
    "        # Get our Summations:\n",
    "        Σx = sum(x)\n",
    "        Σy = sum(y)\n",
    "        # dot x and y\n",
    "        xy = dot(x,y)\n",
    "        # ∑dot x and y\n",
    "        Σxy = sum(xy)\n",
    "        # dotsquare x\n",
    "        x2 = sq(x)\n",
    "        # ∑ dotsquare x\n",
    "        Σx2 = sum(x2)\n",
    "        # n = sample size\n",
    "        n = len(x)\n",
    "        # Calculate a\n",
    "        self.a = (((Σy) * (Σx2)) - ((Σx * (Σxy)))) / ((n * (Σx2))-(Σx**2))\n",
    "        # Calculate b\n",
    "        self.b = ((n*(Σxy)) - (Σx * Σy)) / ((n * (Σx2)) - (Σx ** 2))\n",
    "        # The part that is super struct:\n",
    "    def predict(self,xt):\n",
    "        xt = [self.a + (self.b * i) for i in xt]\n",
    "        return(xt)"
   ]
  },
  {
   "cell_type": "code",
   "execution_count": 49,
   "metadata": {},
   "outputs": [],
   "source": [
    "d = LinearRegression([5,10,15],[20,30,40])"
   ]
  },
  {
   "cell_type": "code",
   "execution_count": 50,
   "metadata": {},
   "outputs": [],
   "source": [
    "import pandas as pd"
   ]
  },
  {
   "cell_type": "code",
   "execution_count": 51,
   "metadata": {},
   "outputs": [],
   "source": [
    "df = pd.read_csv(\"speedtrain.csv\")"
   ]
  },
  {
   "cell_type": "code",
   "execution_count": 52,
   "metadata": {},
   "outputs": [],
   "source": [
    "testdf = pd.read_csv(\"speedtest.csv\")"
   ]
  },
  {
   "cell_type": "code",
   "execution_count": 53,
   "metadata": {},
   "outputs": [
    {
     "data": {
      "text/html": [
       "<div>\n",
       "<style scoped>\n",
       "    .dataframe tbody tr th:only-of-type {\n",
       "        vertical-align: middle;\n",
       "    }\n",
       "\n",
       "    .dataframe tbody tr th {\n",
       "        vertical-align: top;\n",
       "    }\n",
       "\n",
       "    .dataframe thead th {\n",
       "        text-align: right;\n",
       "    }\n",
       "</style>\n",
       "<table border=\"1\" class=\"dataframe\">\n",
       "  <thead>\n",
       "    <tr style=\"text-align: right;\">\n",
       "      <th></th>\n",
       "      <th>X</th>\n",
       "      <th>Y</th>\n",
       "    </tr>\n",
       "  </thead>\n",
       "  <tbody>\n",
       "    <tr>\n",
       "      <th>0</th>\n",
       "      <td>0.034018</td>\n",
       "      <td>-0.170801</td>\n",
       "    </tr>\n",
       "    <tr>\n",
       "      <th>1</th>\n",
       "      <td>0.929581</td>\n",
       "      <td>-1.093907</td>\n",
       "    </tr>\n",
       "  </tbody>\n",
       "</table>\n",
       "</div>"
      ],
      "text/plain": [
       "          X         Y\n",
       "0  0.034018 -0.170801\n",
       "1  0.929581 -1.093907"
      ]
     },
     "execution_count": 53,
     "metadata": {},
     "output_type": "execute_result"
    }
   ],
   "source": [
    "df.head(2)"
   ]
  },
  {
   "cell_type": "code",
   "execution_count": 54,
   "metadata": {},
   "outputs": [
    {
     "name": "stdout",
     "output_type": "stream",
     "text": [
      "8.54 s ± 470 ms per loop (mean ± std. dev. of 7 runs, 1 loop each)\n"
     ]
    }
   ],
   "source": [
    "%timeit yhat = LinearRegression(df['X'],df['Y']).predict(testdf['X'])"
   ]
  },
  {
   "cell_type": "code",
   "execution_count": null,
   "metadata": {},
   "outputs": [],
   "source": []
  }
 ],
 "metadata": {
  "kernelspec": {
   "display_name": "Python 3",
   "language": "python",
   "name": "python3"
  },
  "language_info": {
   "codemirror_mode": {
    "name": "ipython",
    "version": 3
   },
   "file_extension": ".py",
   "mimetype": "text/x-python",
   "name": "python",
   "nbconvert_exporter": "python",
   "pygments_lexer": "ipython3",
   "version": "3.7.7"
  }
 },
 "nbformat": 4,
 "nbformat_minor": 2
}
