{
 "cells": [
  {
   "cell_type": "code",
   "execution_count": 1,
   "metadata": {},
   "outputs": [
    {
     "name": "stdout",
     "output_type": "stream",
     "text": [
      "<class 'str'>\n"
     ]
    }
   ],
   "source": [
    "string = \"example\"\n",
    "print(type(string))"
   ]
  },
  {
   "cell_type": "code",
   "execution_count": 12,
   "metadata": {},
   "outputs": [],
   "source": [
    "from functools import wraps \n",
    "\n",
    "def debug(func): \n",
    "\t'''decorator for debugging passed function'''\n",
    "\t\n",
    "\t@wraps(func) \n",
    "\tdef wrapper(*args, **kwargs): \n",
    "\t\treturn func(*args, **kwargs) \n",
    "\treturn wrapper \n",
    "\n",
    "def debugmethods(cls): \n",
    "\t'''class decorator make use of debug decorator \n",
    "\tto debug class methods '''\n",
    "\t\n",
    "\tfor key, val in vars(cls).items(): \n",
    "\t\tif callable(val): \n",
    "\t\t\tsetattr(cls, key, debug(val)) \n",
    "\treturn cls\n",
    "\n",
    "class debugMeta(type): \n",
    "\t'''meta class which feed created class object \n",
    "\tto debugmethod to get debug functionality \n",
    "\tenabled objects'''\n",
    "\t\n",
    "\tdef __new__(cls, clsname, bases, clsdict): \n",
    "\t\tobj = super().__new__(cls, clsname, bases, clsdict) \n",
    "\t\tobj = debugmethods(obj) \n",
    "\t\treturn obj \n",
    "\t\n",
    "# base class with metaclass 'debugMeta' \n",
    "# now all the subclass of this \n",
    "# will have debugging applied \n",
    "class Base(metaclass=debugMeta):pass\n",
    "\n",
    "# inheriting Base \n",
    "class Calc(Base): \n",
    "\tdef add(self, x, y): \n",
    "\t\treturn x+y \n",
    "\t\n",
    "# inheriting Calc \n",
    "class Calc_adv(Calc): \n",
    "\tdef mul(self, x, y): \n",
    "\t\treturn x*y \n",
    "\n",
    "# Now Calc_adv object showing \n",
    "# debugging behaviour "
   ]
  },
  {
   "cell_type": "code",
   "execution_count": 13,
   "metadata": {},
   "outputs": [],
   "source": [
    "calculator = Calc()\n"
   ]
  },
  {
   "cell_type": "code",
   "execution_count": 14,
   "metadata": {},
   "outputs": [
    {
     "name": "stdout",
     "output_type": "stream",
     "text": [
      "5\n"
     ]
    }
   ],
   "source": [
    "print(calculator.add(2, 3)) "
   ]
  },
  {
   "cell_type": "code",
   "execution_count": 15,
   "metadata": {},
   "outputs": [
    {
     "ename": "AttributeError",
     "evalue": "'Calc' object has no attribute 'debug'",
     "output_type": "error",
     "traceback": [
      "\u001b[0;31m---------------------------------------------------------------------------\u001b[0m",
      "\u001b[0;31mAttributeError\u001b[0m                            Traceback (most recent call last)",
      "\u001b[0;32m<ipython-input-15-7f36f7b271b6>\u001b[0m in \u001b[0;36m<module>\u001b[0;34m\u001b[0m\n\u001b[0;32m----> 1\u001b[0;31m \u001b[0mcalculator\u001b[0m\u001b[0;34m.\u001b[0m\u001b[0mdebug\u001b[0m\u001b[0;34m(\u001b[0m\u001b[0mcalculator\u001b[0m\u001b[0;34m.\u001b[0m\u001b[0madd\u001b[0m\u001b[0;34m(\u001b[0m\u001b[0;34m)\u001b[0m\u001b[0;34m)\u001b[0m\u001b[0;34m\u001b[0m\u001b[0;34m\u001b[0m\u001b[0m\n\u001b[0m",
      "\u001b[0;31mAttributeError\u001b[0m: 'Calc' object has no attribute 'debug'"
     ]
    }
   ],
   "source": [
    "calculator.debug(calculator.add)"
   ]
  },
  {
   "cell_type": "code",
   "execution_count": null,
   "metadata": {},
   "outputs": [],
   "source": []
  }
 ],
 "metadata": {
  "kernelspec": {
   "display_name": "Python 3",
   "language": "python",
   "name": "python3"
  },
  "language_info": {
   "codemirror_mode": {
    "name": "ipython",
    "version": 3
   },
   "file_extension": ".py",
   "mimetype": "text/x-python",
   "name": "python",
   "nbconvert_exporter": "python",
   "pygments_lexer": "ipython3",
   "version": "3.7.6"
  }
 },
 "nbformat": 4,
 "nbformat_minor": 2
}
